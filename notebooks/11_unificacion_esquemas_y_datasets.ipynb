{
 "cells": [
  {
   "cell_type": "markdown",
   "id": "155786fb",
   "metadata": {},
   "source": [
    "# Refuerzo de clases minoritarias y ampliación con ZTF"
   ]
  },
  {
   "cell_type": "code",
   "execution_count": 1,
   "id": "fc0d3598",
   "metadata": {},
   "outputs": [
    {
     "name": "stdout",
     "output_type": "stream",
     "text": [
      "Configuración de entorno aplicada.\n"
     ]
    }
   ],
   "source": [
    "# Configuración general para evitar errores de warnings y compatibilidad\n",
    "import warnings\n",
    "import os\n",
    "warnings.filterwarnings(\"ignore\")\n",
    "os.environ[\"RICH_NO_RICH\"] = \"1\"\n",
    "print(\"Configuración de entorno aplicada.\")"
   ]
  },
  {
   "cell_type": "code",
   "execution_count": null,
   "id": "1407af55",
   "metadata": {},
   "outputs": [
    {
     "name": "stdout",
     "output_type": "stream",
     "text": [
      "🧩 Usando esquema base de: all_missions_labeled.parquet\n",
      "🔎 Unificando esquemas de todos los ficheros...\n",
      "🧩 Esquema global unificado:\n",
      "  Número de columnas: 42\n",
      "  Columnas: ['tiempo', 'mag', 'flux_err', 'quality', 'timecorr', 'centroid_col', 'centroid_row', 'cadenceno', 'sap_flux', 'sap_flux_err', 'bkg', 'bkg_err', 'pdcsap_flux', 'pdcsap_flux_err', 'psf_centr1', 'psf_centr1_err', 'psf_centr2', 'psf_centr2_err', 'mom_centr1', 'mom_centr1_err', 'mom_centr2', 'mom_centr2_err', 'pos_corr1', 'pos_corr2', 'id', 'mission_id', 'mission', 'start_date', 'end_date', 'clase_variable', 'clase_variable_normalizada', 'source_dataset', 'flux', 'fcor', 'cbv01', 'cbv02', 'cbv03', 'cbv04', 'cbv05', 'cbv06', 'label_source', 'band']\n",
      "\n",
      "\n",
      "➡️  [1/1] Iniciando procesamiento de: dataset_eb_kepler_labeled_fixed.parquet\n",
      "\n",
      "📂 Procesando: dataset_eb_kepler_labeled_fixed.parquet\n",
      "⏩ Encontrados 71771 temporales previos, se reutilizarán.\n"
     ]
    },
    {
     "name": "stderr",
     "output_type": "stream",
     "text": [
      "Batches dataset_eb_kepler_labeled_fixed.parquet: 71771it [01:14, 969.36it/s] \n"
     ]
    },
    {
     "name": "stdout",
     "output_type": "stream",
     "text": [
      "🔗 Uniendo 71771 batches temporales en dataset_eb_kepler_labeled_fixed-unified.parquet...\n"
     ]
    },
    {
     "name": "stderr",
     "output_type": "stream",
     "text": [
      "Escribiendo batches en archivo final: 100%|██████████| 71771/71771 [2:24:32<00:00,  8.28it/s]  \n"
     ]
    },
    {
     "name": "stdout",
     "output_type": "stream",
     "text": [
      "✅ dataset_eb_kepler_labeled_fixed.parquet normalizado y guardado como dataset_eb_kepler_labeled_fixed-unified.parquet.\n",
      "✔️  [1/1] Fichero procesado correctamente: dataset_eb_kepler_labeled_fixed.parquet\n"
     ]
    }
   ],
   "source": [
    "from src.fase1.script_6a_unify_schema_per_file import main as run_unify_schema\n",
    "run_unify_schema()"
   ]
  },
  {
   "cell_type": "code",
   "execution_count": null,
   "id": "67fc3bee",
   "metadata": {},
   "outputs": [],
   "source": [
    "from src.fase1.script_6a_unify_schema_per_file import main as run_unify_schema\n",
    "run_unify_schema(\"dataset_eb_tess_labeled_fixed.parquet\")"
   ]
  },
  {
   "cell_type": "code",
   "execution_count": null,
   "id": "c592b47e",
   "metadata": {},
   "outputs": [
    {
     "name": "stdout",
     "output_type": "stream",
     "text": [
      "🧩 Usando esquema base de: all_missions_labeled.parquet\n",
      "🧩 Esquema global unificado:\n",
      "  Número de columnas: 42\n",
      "  Columnas: ['tiempo', 'mag', 'flux_err', 'quality', 'timecorr', 'centroid_col', 'centroid_row', 'cadenceno', 'sap_flux', 'sap_flux_err', 'bkg', 'bkg_err', 'pdcsap_flux', 'pdcsap_flux_err', 'psf_centr1', 'psf_centr1_err', 'psf_centr2', 'psf_centr2_err', 'mom_centr1', 'mom_centr1_err', 'mom_centr2', 'mom_centr2_err', 'pos_corr1', 'pos_corr2', 'id', 'mission_id', 'mission', 'start_date', 'end_date', 'clase_variable', 'clase_variable_normalizada', 'source_dataset', 'flux', 'fcor', 'cbv01', 'cbv02', 'cbv03', 'cbv04', 'cbv05', 'cbv06', 'label_source', 'band']\n",
      "\n",
      "🔗 Uniendo 50000 batches temporales (0-49999) en data/processed/dataset_eb_tess_labeled_fixed.part1.parquet ...\n"
     ]
    },
    {
     "name": "stderr",
     "output_type": "stream",
     "text": [
      "Unificando batches parciales:   0%|          | 0/50000 [00:00<?, ?it/s]C:\\Users\\hav3f\\AppData\\Local\\Temp\\ipykernel_21744\\3522540310.py:7: FutureWarning: The 'field_by_name' method is deprecated, use 'field' instead\n",
      "  export_partial_parquet(\"dataset_eb_tess_labeled_fixed.parquet\", 0, 50000, \"data/processed/dataset_eb_tess_labeled_fixed.part1.parquet\")\n",
      "Unificando batches parciales:  23%|██▎       | 11733/50000 [14:25<38:04, 16.75it/s]  "
     ]
    },
    {
     "name": "stdout",
     "output_type": "stream",
     "text": [
      "⚠️ Batch corrupto o no-parquet: data\\processed\\dataset_eb_tess_labeled_fixed_unify_tmp\\batch_11730.parquet (Error creating dataset. Could not read schema from 'data/processed/dataset_eb_tess_labeled_fixed_unify_tmp/batch_11730.parquet'. Is this a 'parquet' file?: Could not open Parquet input source 'data/processed/dataset_eb_tess_labeled_fixed_unify_tmp/batch_11730.parquet': Parquet magic bytes not found in footer. Either the file is corrupted or this is not a parquet file.), se omite.\n"
     ]
    },
    {
     "name": "stderr",
     "output_type": "stream",
     "text": [
      "Unificando batches parciales:  24%|██▍       | 12001/50000 [14:45<37:52, 16.72it/s]  "
     ]
    },
    {
     "name": "stdout",
     "output_type": "stream",
     "text": [
      "⚠️ Batch corrupto o no-parquet: data\\processed\\dataset_eb_tess_labeled_fixed_unify_tmp\\batch_11997.parquet (Error creating dataset. Could not read schema from 'data/processed/dataset_eb_tess_labeled_fixed_unify_tmp/batch_11997.parquet'. Is this a 'parquet' file?: Could not open Parquet input source 'data/processed/dataset_eb_tess_labeled_fixed_unify_tmp/batch_11997.parquet': Parquet magic bytes not found in footer. Either the file is corrupted or this is not a parquet file.), se omite.\n"
     ]
    },
    {
     "name": "stderr",
     "output_type": "stream",
     "text": [
      "Unificando batches parciales: 100%|██████████| 50000/50000 [1:01:47<00:00, 13.48it/s]\n"
     ]
    },
    {
     "name": "stdout",
     "output_type": "stream",
     "text": [
      "✅ Parcial guardado como data/processed/dataset_eb_tess_labeled_fixed.part1.parquet\n"
     ]
    }
   ],
   "source": [
    "from src.fase1.script_6a_unify_schema_tess import export_partial_parquet\n",
    "\n",
    "# Exportar el dataset en partes para evitar problemas de memoria\n",
    "# Se divide en tres partes: 0-50000, 50000-102427, y 102427-120749\n",
    "\n",
    "export_partial_parquet(\"dataset_eb_tess_labeled_fixed.parquet\", 0, 50000, \"data/processed/dataset_eb_tess_labeled_fixed1-unified.parquet\")\n",
    "\n"
   ]
  },
  {
   "cell_type": "code",
   "execution_count": null,
   "id": "c32119a1",
   "metadata": {},
   "outputs": [
    {
     "name": "stdout",
     "output_type": "stream",
     "text": [
      "🧩 Usando esquema base de: all_missions_labeled.parquet\n",
      "🧩 Esquema global unificado:\n",
      "  Número de columnas: 42\n",
      "  Columnas: ['tiempo', 'mag', 'flux_err', 'quality', 'timecorr', 'centroid_col', 'centroid_row', 'cadenceno', 'sap_flux', 'sap_flux_err', 'bkg', 'bkg_err', 'pdcsap_flux', 'pdcsap_flux_err', 'psf_centr1', 'psf_centr1_err', 'psf_centr2', 'psf_centr2_err', 'mom_centr1', 'mom_centr1_err', 'mom_centr2', 'mom_centr2_err', 'pos_corr1', 'pos_corr2', 'id', 'mission_id', 'mission', 'start_date', 'end_date', 'clase_variable', 'clase_variable_normalizada', 'source_dataset', 'flux', 'fcor', 'cbv01', 'cbv02', 'cbv03', 'cbv04', 'cbv05', 'cbv06', 'label_source', 'band']\n",
      "\n",
      "🔗 Uniendo 52427 batches temporales (50000-102426) en data/processed/dataset_eb_tess_labeled_fixed.part2.parquet ...\n"
     ]
    },
    {
     "name": "stderr",
     "output_type": "stream",
     "text": [
      "Unificando batches parciales:   0%|          | 0/52427 [00:00<?, ?it/s]C:\\Users\\hav3f\\AppData\\Local\\Temp\\ipykernel_2452\\3004759283.py:3: FutureWarning: The 'field_by_name' method is deprecated, use 'field' instead\n",
      "  export_partial_parquet(\"dataset_eb_tess_labeled_fixed.parquet\", 50000, 102427, \"data/processed/dataset_eb_tess_labeled_fixed.part2.parquet\")\n",
      "Unificando batches parciales: 100%|██████████| 52427/52427 [1:09:18<00:00, 12.61it/s]\n"
     ]
    },
    {
     "name": "stdout",
     "output_type": "stream",
     "text": [
      "✅ Parcial guardado como data/processed/dataset_eb_tess_labeled_fixed.part2.parquet\n"
     ]
    }
   ],
   "source": [
    "from src.fase1.script_6a_unify_schema_tess import export_partial_parquet\n",
    "\n",
    "export_partial_parquet(\"dataset_eb_tess_labeled_fixed.parquet\", 50000, 102427, \"data/processed/dataset_eb_tess_labeled_fixed2-unified.parquet\")"
   ]
  },
  {
   "cell_type": "code",
   "execution_count": null,
   "id": "6d37446b",
   "metadata": {},
   "outputs": [
    {
     "name": "stdout",
     "output_type": "stream",
     "text": [
      "🧩 Usando esquema base de: all_missions_labeled.parquet\n",
      "🧩 Esquema global unificado:\n",
      "  Número de columnas: 42\n",
      "  Columnas: ['tiempo', 'mag', 'flux_err', 'quality', 'timecorr', 'centroid_col', 'centroid_row', 'cadenceno', 'sap_flux', 'sap_flux_err', 'bkg', 'bkg_err', 'pdcsap_flux', 'pdcsap_flux_err', 'psf_centr1', 'psf_centr1_err', 'psf_centr2', 'psf_centr2_err', 'mom_centr1', 'mom_centr1_err', 'mom_centr2', 'mom_centr2_err', 'pos_corr1', 'pos_corr2', 'id', 'mission_id', 'mission', 'start_date', 'end_date', 'clase_variable', 'clase_variable_normalizada', 'source_dataset', 'flux', 'fcor', 'cbv01', 'cbv02', 'cbv03', 'cbv04', 'cbv05', 'cbv06', 'label_source', 'band']\n",
      "\n",
      "Procesando batches 102427-120747 ... (lectura por row group)\n",
      "✅ Batches faltantes generados en el rango 102427-120747\n",
      "🧩 Esquema global unificado:\n",
      "  Número de columnas: 42\n",
      "  Columnas: ['tiempo', 'mag', 'flux_err', 'quality', 'timecorr', 'centroid_col', 'centroid_row', 'cadenceno', 'sap_flux', 'sap_flux_err', 'bkg', 'bkg_err', 'pdcsap_flux', 'pdcsap_flux_err', 'psf_centr1', 'psf_centr1_err', 'psf_centr2', 'psf_centr2_err', 'mom_centr1', 'mom_centr1_err', 'mom_centr2', 'mom_centr2_err', 'pos_corr1', 'pos_corr2', 'id', 'mission_id', 'mission', 'start_date', 'end_date', 'clase_variable', 'clase_variable_normalizada', 'source_dataset', 'flux', 'fcor', 'cbv01', 'cbv02', 'cbv03', 'cbv04', 'cbv05', 'cbv06', 'label_source', 'band']\n",
      "\n",
      "🔗 Uniendo 18321 batches temporales (102427-120748) en data/processed/dataset_eb_tess_labeled_fixed.part3.parquet ...\n"
     ]
    },
    {
     "name": "stderr",
     "output_type": "stream",
     "text": [
      "Unificando batches parciales:   0%|          | 0/18321 [00:00<?, ?it/s]C:\\Users\\hav3f\\AppData\\Local\\Temp\\ipykernel_54160\\3456089586.py:5: FutureWarning: The 'field_by_name' method is deprecated, use 'field' instead\n",
      "  export_partial_parquet(\"dataset_eb_tess_labeled_fixed.parquet\", 102427, 120749, \"data/processed/dataset_eb_tess_labeled_fixed.part3.parquet\")\n",
      "Unificando batches parciales: 100%|██████████| 18321/18321 [15:35<00:00, 19.59it/s]\n"
     ]
    },
    {
     "name": "stdout",
     "output_type": "stream",
     "text": [
      "✅ Parcial guardado como data/processed/dataset_eb_tess_labeled_fixed.part3.parquet\n"
     ]
    }
   ],
   "source": [
    "from src.fase1.script_6a_unify_schema_tess import generate_missing_batches_from_rowgroup\n",
    "generate_missing_batches_from_rowgroup(\"dataset_eb_tess_labeled_fixed.parquet\", 102427, 120749)\n",
    "\n",
    "from src.fase1.script_6a_unify_schema_tess import export_partial_parquet\n",
    "export_partial_parquet(\"dataset_eb_tess_labeled_fixed.parquet\", 102427, 120749, \"data/processed/dataset_eb_tess_labeled_fixed3-unified.parquet\")"
   ]
  },
  {
   "cell_type": "code",
   "execution_count": 2,
   "id": "d5b7b85d",
   "metadata": {},
   "outputs": [],
   "source": [
    "# No lo hemos ejecutado porque va a ser mas manejable trabajar con los tres datasets parciales\n",
    "\n",
    "# from src.fase1.script_6a_unify_schema_tess import merge_final_parquets, infer_global_schema\n",
    "# schema_final = infer_global_schema()[0]\n",
    "# merge_final_parquets([\n",
    "#     \"data/processed/dataset_eb_tess_labeled_fixed1-unified.parquet\",\n",
    "#     \"data/processed/dataset_eb_tess_labeled_fixed2-unified.parquet\",\n",
    "#     \"data/processed/dataset_eb_tess_labeled_fixed3-unified.parquet\"\n",
    "# ], \"data/processed/dataset_eb_tess_labeled_fixed-unified.parquet\", schema_final)"
   ]
  },
  {
   "cell_type": "code",
   "execution_count": 1,
   "id": "3bfccd7b",
   "metadata": {},
   "outputs": [
    {
     "name": "stdout",
     "output_type": "stream",
     "text": [
      "🔎 Verificando archivos unified:\n",
      "✅ dataset_eb_kepler_labeled_fixed-compact-unified.parquet: 71,735,011 filas, 1434 row groups\n",
      "✅ dataset_eb_tess_labeled_fixed1-compact-unified.parquet: 49,975,930 filas, 1000 row groups\n",
      "✅ dataset_eb_tess_labeled_fixed2-compact-unified.parquet: 52,403,954 filas, 1048 row groups\n",
      "✅ dataset_eb_tess_labeled_fixed3-compact-unified.parquet: 18,142,465 filas, 181 row groups\n",
      "✅ dataset_k2varcat_labeled_fixed-unified.parquet: 17,895,159 filas, 18 row groups\n",
      "✅ dataset_vsx_tess_labeled_fixed-unified.parquet: 41,143,597 filas, 40 row groups\n",
      "✅ dataset_gaia_complemented_normalized-unified.parquet: 29,794,442 filas, 29 row groups\n",
      "✅ dataset_vsx_tess_labeled_south-unified.parquet: 3,095,437 filas, 3 row groups\n",
      "✅ dataset_vsx_tess_labeled_north-compact-unified.parquet: 56,757,771 filas, 1135 row groups\n",
      "✅ dataset_vsx_tess_labeled_ampliado-compact-unified.parquet: 57,452,150 filas, 1149 row groups\n",
      "✅ dataset_ztf_labeled-unified.parquet: 12,551,038 filas, 12 row groups\n",
      "✔️ Verificación terminada.\n",
      "\n",
      "✅ dataset_eb_tess_labeled_fixed2-compact-unified.parquet: 52,403,954 filas, 1048 row groups\n",
      "✅ dataset_eb_tess_labeled_fixed3-compact-unified.parquet: 18,142,465 filas, 181 row groups\n",
      "✅ dataset_k2varcat_labeled_fixed-unified.parquet: 17,895,159 filas, 18 row groups\n",
      "✅ dataset_vsx_tess_labeled_fixed-unified.parquet: 41,143,597 filas, 40 row groups\n",
      "✅ dataset_gaia_complemented_normalized-unified.parquet: 29,794,442 filas, 29 row groups\n",
      "✅ dataset_vsx_tess_labeled_south-unified.parquet: 3,095,437 filas, 3 row groups\n",
      "✅ dataset_vsx_tess_labeled_north-compact-unified.parquet: 56,757,771 filas, 1135 row groups\n",
      "✅ dataset_vsx_tess_labeled_ampliado-compact-unified.parquet: 57,452,150 filas, 1149 row groups\n",
      "✅ dataset_ztf_labeled-unified.parquet: 12,551,038 filas, 12 row groups\n",
      "✔️ Verificación terminada.\n",
      "\n",
      "📂 Validando los siguientes archivos:\n",
      "- data\\processed\\dataset_eb_kepler_labeled_fixed-compact-unified.parquet\n",
      "- data\\processed\\dataset_eb_tess_labeled_fixed1-compact-unified.parquet\n",
      "- data\\processed\\dataset_eb_tess_labeled_fixed2-compact-unified.parquet\n",
      "- data\\processed\\dataset_eb_tess_labeled_fixed3-compact-unified.parquet\n",
      "- data\\processed\\dataset_k2varcat_labeled_fixed-unified.parquet\n",
      "- data\\processed\\dataset_vsx_tess_labeled_fixed-unified.parquet\n",
      "- data\\processed\\dataset_gaia_complemented_normalized-unified.parquet\n",
      "- data\\processed\\dataset_vsx_tess_labeled_south-unified.parquet\n",
      "- data\\processed\\dataset_vsx_tess_labeled_north-compact-unified.parquet\n",
      "- data\\processed\\dataset_vsx_tess_labeled_ampliado-compact-unified.parquet\n",
      "- data\\processed\\dataset_ztf_labeled-unified.parquet\n",
      "\n",
      "🧩 Esquema detectado:\n",
      "- tiempo: double\n",
      "- mag: double\n",
      "- flux_err: double\n",
      "- quality: double\n",
      "- timecorr: double\n",
      "- centroid_col: double\n",
      "- centroid_row: double\n",
      "- cadenceno: double\n",
      "- sap_flux: double\n",
      "- sap_flux_err: double\n",
      "- bkg: double\n",
      "- bkg_err: double\n",
      "- pdcsap_flux: double\n",
      "- pdcsap_flux_err: double\n",
      "- psf_centr1: double\n",
      "- psf_centr1_err: double\n",
      "- psf_centr2: double\n",
      "- psf_centr2_err: double\n",
      "- mom_centr1: double\n",
      "- mom_centr1_err: double\n",
      "- mom_centr2: double\n",
      "- mom_centr2_err: double\n",
      "- pos_corr1: double\n",
      "- pos_corr2: double\n",
      "- id: string\n",
      "- mission_id: string\n",
      "- mission: string\n",
      "- start_date: double\n",
      "- end_date: double\n",
      "- clase_variable: string\n",
      "- clase_variable_normalizada: string\n",
      "- source_dataset: string\n",
      "- flux: double\n",
      "- fcor: double\n",
      "- cbv01: double\n",
      "- cbv02: double\n",
      "- cbv03: double\n",
      "- cbv04: double\n",
      "- cbv05: double\n",
      "- cbv06: double\n",
      "- label_source: string\n",
      "- band: string\n",
      "📂 Validando los siguientes archivos:\n",
      "- data\\processed\\dataset_eb_kepler_labeled_fixed-compact-unified.parquet\n",
      "- data\\processed\\dataset_eb_tess_labeled_fixed1-compact-unified.parquet\n",
      "- data\\processed\\dataset_eb_tess_labeled_fixed2-compact-unified.parquet\n",
      "- data\\processed\\dataset_eb_tess_labeled_fixed3-compact-unified.parquet\n",
      "- data\\processed\\dataset_k2varcat_labeled_fixed-unified.parquet\n",
      "- data\\processed\\dataset_vsx_tess_labeled_fixed-unified.parquet\n",
      "- data\\processed\\dataset_gaia_complemented_normalized-unified.parquet\n",
      "- data\\processed\\dataset_vsx_tess_labeled_south-unified.parquet\n",
      "- data\\processed\\dataset_vsx_tess_labeled_north-compact-unified.parquet\n",
      "- data\\processed\\dataset_vsx_tess_labeled_ampliado-compact-unified.parquet\n",
      "- data\\processed\\dataset_ztf_labeled-unified.parquet\n",
      "\n",
      "🧩 Esquema detectado:\n",
      "- tiempo: double\n",
      "- mag: double\n",
      "- flux_err: double\n",
      "- quality: double\n",
      "- timecorr: double\n",
      "- centroid_col: double\n",
      "- centroid_row: double\n",
      "- cadenceno: double\n",
      "- sap_flux: double\n",
      "- sap_flux_err: double\n",
      "- bkg: double\n",
      "- bkg_err: double\n",
      "- pdcsap_flux: double\n",
      "- pdcsap_flux_err: double\n",
      "- psf_centr1: double\n",
      "- psf_centr1_err: double\n",
      "- psf_centr2: double\n",
      "- psf_centr2_err: double\n",
      "- mom_centr1: double\n",
      "- mom_centr1_err: double\n",
      "- mom_centr2: double\n",
      "- mom_centr2_err: double\n",
      "- pos_corr1: double\n",
      "- pos_corr2: double\n",
      "- id: string\n",
      "- mission_id: string\n",
      "- mission: string\n",
      "- start_date: double\n",
      "- end_date: double\n",
      "- clase_variable: string\n",
      "- clase_variable_normalizada: string\n",
      "- source_dataset: string\n",
      "- flux: double\n",
      "- fcor: double\n",
      "- cbv01: double\n",
      "- cbv02: double\n",
      "- cbv03: double\n",
      "- cbv04: double\n",
      "- cbv05: double\n",
      "- cbv06: double\n",
      "- label_source: string\n",
      "- band: string\n",
      "\n",
      "🔢 Filas totales: 410,946,954\n",
      "\n",
      "🔍 Mostrando 5 filas de ejemplo:\n",
      "\n",
      "\n",
      "🔢 Filas totales: 410,946,954\n",
      "\n",
      "🔍 Mostrando 5 filas de ejemplo:\n",
      "\n",
      "       tiempo       mag  flux_err  quality  timecorr  centroid_col  \\\n",
      "0  131.512362  1.065252  0.000161      0.0  0.001369     860.09303   \n",
      "1  131.532797  0.974507  0.000158      0.0  0.001369     860.09343   \n",
      "2  131.553231  0.922745  0.000155      0.0  0.001370     860.09353   \n",
      "3  131.573665  0.899605  0.000153      0.0  0.001371     860.09328   \n",
      "4  131.594100  0.943326  0.000155      0.0  0.001372     860.09299   \n",
      "\n",
      "   centroid_row  cadenceno   sap_flux  sap_flux_err  ...  flux  fcor  cbv01  \\\n",
      "0      45.28267     1105.0  37874.980      5.785242  ...   NaN   NaN    NaN   \n",
      "1      45.28292     1106.0  36266.230      5.693093  ...   NaN   NaN    NaN   \n",
      "2      45.28252     1107.0  34152.457      5.569287  ...   NaN   NaN    NaN   \n",
      "3      45.28227     1108.0  33062.488      5.501959  ...   NaN   NaN    NaN   \n",
      "4      45.28302     1109.0  34355.070      5.580349  ...   NaN   NaN    NaN   \n",
      "\n",
      "   cbv02  cbv03  cbv04  cbv05  cbv06  label_source  band  \n",
      "0    NaN    NaN    NaN    NaN    NaN          None  None  \n",
      "1    NaN    NaN    NaN    NaN    NaN          None  None  \n",
      "2    NaN    NaN    NaN    NaN    NaN          None  None  \n",
      "3    NaN    NaN    NaN    NaN    NaN          None  None  \n",
      "4    NaN    NaN    NaN    NaN    NaN          None  None  \n",
      "\n",
      "[5 rows x 42 columns]\n",
      "\n",
      "🧼 Recuento de nulos y agregados principales (solo columnas: ['id', 'tiempo', 'mag', 'clase_variable', 'clase_variable_normalizada', 'mission']):\n",
      "       tiempo       mag  flux_err  quality  timecorr  centroid_col  \\\n",
      "0  131.512362  1.065252  0.000161      0.0  0.001369     860.09303   \n",
      "1  131.532797  0.974507  0.000158      0.0  0.001369     860.09343   \n",
      "2  131.553231  0.922745  0.000155      0.0  0.001370     860.09353   \n",
      "3  131.573665  0.899605  0.000153      0.0  0.001371     860.09328   \n",
      "4  131.594100  0.943326  0.000155      0.0  0.001372     860.09299   \n",
      "\n",
      "   centroid_row  cadenceno   sap_flux  sap_flux_err  ...  flux  fcor  cbv01  \\\n",
      "0      45.28267     1105.0  37874.980      5.785242  ...   NaN   NaN    NaN   \n",
      "1      45.28292     1106.0  36266.230      5.693093  ...   NaN   NaN    NaN   \n",
      "2      45.28252     1107.0  34152.457      5.569287  ...   NaN   NaN    NaN   \n",
      "3      45.28227     1108.0  33062.488      5.501959  ...   NaN   NaN    NaN   \n",
      "4      45.28302     1109.0  34355.070      5.580349  ...   NaN   NaN    NaN   \n",
      "\n",
      "   cbv02  cbv03  cbv04  cbv05  cbv06  label_source  band  \n",
      "0    NaN    NaN    NaN    NaN    NaN          None  None  \n",
      "1    NaN    NaN    NaN    NaN    NaN          None  None  \n",
      "2    NaN    NaN    NaN    NaN    NaN          None  None  \n",
      "3    NaN    NaN    NaN    NaN    NaN          None  None  \n",
      "4    NaN    NaN    NaN    NaN    NaN          None  None  \n",
      "\n",
      "[5 rows x 42 columns]\n",
      "\n",
      "🧼 Recuento de nulos y agregados principales (solo columnas: ['id', 'tiempo', 'mag', 'clase_variable', 'clase_variable_normalizada', 'mission']):\n"
     ]
    },
    {
     "name": "stderr",
     "output_type": "stream",
     "text": [
      "🔄 Procesando batches: 6746batch [08:40, 12.96batch/s]                       \n",
      "\n"
     ]
    },
    {
     "name": "stdout",
     "output_type": "stream",
     "text": [
      "\n",
      "⏱️ Tiempo total para todos los agregados: 520.8 s (8.7 min)\n",
      "- id (id, alias=['id', 'source_id', 'ID', 'id_objeto', 'oid']): 0 nulos\n",
      "- tiempo (tiempo, alias=['tiempo', 'mjd', 'hjd']): 0 nulos\n",
      "- mag (mag, alias=['mag', 'magnitud']): 0 nulos\n",
      "- clase_variable (clase_variable, alias=['clase_variable', 'variable_class']): 468006 nulos\n",
      "- clase_variable_normalizada (clase_variable_normalizada, alias=['clase_variable_normalizada', 'normalized_class']): 0 nulos\n",
      "- mission (mission, alias=['mision']): 12551038 nulos\n",
      "\n",
      "📊 Recuento por clase_variable (sin normalizar):\n",
      "EB                        192676860\n",
      "DSCT|GDOR|SXPHE            58888121\n",
      "ROT                        48732580\n",
      "SR                         28228269\n",
      "VAR                        18194300\n",
      "AP                          9883704\n",
      "QP                          7345096\n",
      "L                           7128359\n",
      "Rotational                  7022896\n",
      "DSCT                        3556004\n",
      "RR Lyrae                    2978224\n",
      "Irregular                   1828451\n",
      "SRB                         1822647\n",
      "RS                          1760534\n",
      "YSO                         1686515\n",
      "EW                          1430010\n",
      "V1093HER                    1171826\n",
      "LB                          1165700\n",
      "EA                          1149512\n",
      "ZZA                         1079753\n",
      "RRAB                         816425\n",
      "DSCT:                        789930\n",
      "MISC                         763423\n",
      "UG                           716909\n",
      "RRC                          703966\n",
      "WD                           693625\n",
      "E                            652897\n",
      "UGSS                         642308\n",
      "Delta Scuti                  629484\n",
      "SRA                          591687\n",
      "UGSU                         560710\n",
      "UNKNOWN                      468006\n",
      "EP                           467371\n",
      " P                           433803\n",
      "UGZ                          404802\n",
      "BY                           397456\n",
      "RRC|EC                       324074\n",
      "CV                           318863\n",
      "V361HYA                      288440\n",
      "EA+BY+UV                     192486\n",
      "roAp                         182491\n",
      "BCEP+SPB                     181588\n",
      "ACV|roAm|roAp|SXARI          135500\n",
      "CV:                          121697\n",
      "ELL/DW:                       95436\n",
      "EC|ESD                        94857\n",
      "SRS                           93230\n",
      "ACEP                          93085\n",
      "Variable                      91983\n",
      "S                             85386\n",
      "RRAB/BL:                      73353\n",
      "LC                            72016\n",
      "SRB:                          54063\n",
      "VAR:                          52444\n",
      "SR:                           50064\n",
      "EC|DSCT|ESD                   49276\n",
      "M                             48042\n",
      "DSCT|EC|ESD                   41455\n",
      "EC                            41208\n",
      "ESD|EC                        39826\n",
      "DSCTC                         39166\n",
      "ESD|CW-FU|CW-FO|EC            37028\n",
      "UGSU+E                        36321\n",
      "ESD|ACV|ED                    36017\n",
      "EC|RRC|ESD                    32410\n",
      "BY:                           32410\n",
      "CW-FU|EC                      32410\n",
      "ED                            31389\n",
      "BCEP|DSCT                     30899\n",
      "EA:                           30089\n",
      "UV                            29979\n",
      "UGWZ                          29820\n",
      "NL                            28074\n",
      "SRD                           28008\n",
      "SRC                           27803\n",
      "RRAB/BL                       27448\n",
      "SR|EA                         26168\n",
      "ACV                           25897\n",
      "EC|BCEP|DSCT|DSCTr|ESD        24689\n",
      "NL:                           22978\n",
      "SR|M                          18848\n",
      "ESD|CW-FU|EC                  16951\n",
      "LPV                            9488\n",
      "EW/RS                          6386\n",
      "RRD                            3252\n"
     ]
    },
    {
     "data": {
      "image/png": "[encoded data removed]",
      "text/plain": [
       "<Figure size 1200x500 with 1 Axes>"
      ]
     },
     "metadata": {},
     "output_type": "display_data"
    },
    {
     "name": "stdout",
     "output_type": "stream",
     "text": [
      "\n",
      "📊 Recuento por clase_variable_normalizada (normalizado):\n",
      "Eclipsing Binary        197109295\n",
      "Delta Scuti              63933604\n",
      "Rotational               58385200\n",
      "Irregular                51135765\n",
      "Variable                 27092616\n",
      "RR Lyrae                  5019827\n",
      "White Dwarf               3233644\n",
      "Cataclysmic               2882482\n",
      "Young Stellar Object      1686515\n",
      "Unknown                    468006\n"
     ]
    },
    {
     "data": {
      "image/png": "[encoded data removed]",
      "text/plain": [
       "<Figure size 1200x500 with 1 Axes>"
      ]
     },
     "metadata": {},
     "output_type": "display_data"
    },
    {
     "name": "stdout",
     "output_type": "stream",
     "text": [
      "\n",
      "🛰️ Recuento por mision:\n",
      "TESS      308765746\n",
      "KEPLER     71735011\n",
      "K2         17895159\n",
      "ZTF        12551038\n",
      "TESS      308765746\n",
      "KEPLER     71735011\n",
      "K2         17895159\n",
      "ZTF        12551038\n"
     ]
    },
    {
     "data": {
      "image/png": "[encoded data removed]",
      "text/plain": [
       "<Figure size 800x400 with 1 Axes>"
      ]
     },
     "metadata": {},
     "output_type": "display_data"
    }
   ],
   "source": [
    "%run src/fase1/script_7_validate_final_dataset.py"
   ]
  },
  {
   "cell_type": "code",
   "execution_count": 1,
   "id": "d44206de",
   "metadata": {},
   "outputs": [
    {
     "name": "stdout",
     "output_type": "stream",
     "text": [
      "Resumen de data/processed/dataset_eb_kepler_labeled_fixed-compact-unified.parquet:\n",
      "\n",
      "📁 Inspeccionando: data/processed/dataset_eb_kepler_labeled_fixed-compact-unified.parquet\n"
     ]
    },
    {
     "name": "stderr",
     "output_type": "stream",
     "text": [
      "🧮 Procesando por lotes: 1434it [04:45,  5.02it/s]\n",
      "\n"
     ]
    },
    {
     "name": "stdout",
     "output_type": "stream",
     "text": [
      "✅ Resumen exportado a: data/processed/summary\\dataset_eb_kepler_labeled_fixed-compact-unified_summary.csv\n",
      "------------------------------------------------------------\n",
      "Resumen de data/processed/dataset_eb_tess_labeled_fixed1-compact-unified.parquet:\n",
      "\n",
      "📁 Inspeccionando: data/processed/dataset_eb_tess_labeled_fixed1-compact-unified.parquet\n"
     ]
    },
    {
     "name": "stderr",
     "output_type": "stream",
     "text": [
      "🧮 Procesando por lotes: 1000it [03:02,  5.47it/s]\n",
      "\n"
     ]
    },
    {
     "name": "stdout",
     "output_type": "stream",
     "text": [
      "✅ Resumen exportado a: data/processed/summary\\dataset_eb_tess_labeled_fixed1-compact-unified_summary.csv\n",
      "------------------------------------------------------------\n",
      "Resumen de data/processed/dataset_eb_tess_labeled_fixed2-compact-unified.parquet:\n",
      "\n",
      "📁 Inspeccionando: data/processed/dataset_eb_tess_labeled_fixed2-compact-unified.parquet\n"
     ]
    },
    {
     "name": "stderr",
     "output_type": "stream",
     "text": [
      "🧮 Procesando por lotes: 1048it [03:11,  5.47it/s]\n",
      "\n"
     ]
    },
    {
     "name": "stdout",
     "output_type": "stream",
     "text": [
      "✅ Resumen exportado a: data/processed/summary\\dataset_eb_tess_labeled_fixed2-compact-unified_summary.csv\n",
      "------------------------------------------------------------\n",
      "Resumen de data/processed/dataset_eb_tess_labeled_fixed3-compact-unified.parquet:\n",
      "\n",
      "📁 Inspeccionando: data/processed/dataset_eb_tess_labeled_fixed3-compact-unified.parquet\n"
     ]
    },
    {
     "name": "stderr",
     "output_type": "stream",
     "text": [
      "🧮 Procesando por lotes: 181it [01:07,  2.70it/s]\n",
      "\n"
     ]
    },
    {
     "name": "stdout",
     "output_type": "stream",
     "text": [
      "✅ Resumen exportado a: data/processed/summary\\dataset_eb_tess_labeled_fixed3-compact-unified_summary.csv\n",
      "------------------------------------------------------------\n",
      "Resumen de data/processed/dataset_k2varcat_labeled_fixed-unified.parquet:\n",
      "\n",
      "📁 Inspeccionando: data/processed/dataset_k2varcat_labeled_fixed-unified.parquet\n"
     ]
    },
    {
     "name": "stderr",
     "output_type": "stream",
     "text": [
      "🧮 Procesando por lotes: 137it [01:04,  2.14it/s]\n",
      "🧮 Procesando por lotes: 137it [01:04,  2.14it/s]\n"
     ]
    },
    {
     "name": "stdout",
     "output_type": "stream",
     "text": [
      "✅ Resumen exportado a: data/processed/summary\\dataset_k2varcat_labeled_fixed-unified_summary.csv\n",
      "------------------------------------------------------------\n",
      "Resumen de data/processed/dataset_vsx_tess_labeled_fixed-unified.parquet:\n",
      "\n",
      "📁 Inspeccionando: data/processed/dataset_vsx_tess_labeled_fixed-unified.parquet\n"
     ]
    },
    {
     "name": "stderr",
     "output_type": "stream",
     "text": [
      "🧮 Procesando por lotes: 314it [02:43,  1.92it/s]\n",
      "\n"
     ]
    },
    {
     "name": "stdout",
     "output_type": "stream",
     "text": [
      "✅ Resumen exportado a: data/processed/summary\\dataset_vsx_tess_labeled_fixed-unified_summary.csv\n",
      "------------------------------------------------------------\n",
      "Resumen de data/processed/dataset_gaia_complemented_normalized-unified.parquet:\n",
      "\n",
      "📁 Inspeccionando: data/processed/dataset_gaia_complemented_normalized-unified.parquet\n"
     ]
    },
    {
     "name": "stderr",
     "output_type": "stream",
     "text": [
      "🧮 Procesando por lotes: 228it [01:56,  1.95it/s]\n",
      "🧮 Procesando por lotes: 228it [01:56,  1.95it/s]\n"
     ]
    },
    {
     "name": "stdout",
     "output_type": "stream",
     "text": [
      "✅ Resumen exportado a: data/processed/summary\\dataset_gaia_complemented_normalized-unified_summary.csv\n",
      "------------------------------------------------------------\n",
      "Resumen de data/processed/dataset_vsx_tess_labeled_south-unified.parquet:\n",
      "\n",
      "📁 Inspeccionando: data/processed/dataset_vsx_tess_labeled_south-unified.parquet\n"
     ]
    },
    {
     "name": "stderr",
     "output_type": "stream",
     "text": [
      "🧮 Procesando por lotes: 24it [00:11,  2.12it/s]\n",
      "\n"
     ]
    },
    {
     "name": "stdout",
     "output_type": "stream",
     "text": [
      "✅ Resumen exportado a: data/processed/summary\\dataset_vsx_tess_labeled_south-unified_summary.csv\n",
      "------------------------------------------------------------\n",
      "Resumen de data/processed/dataset_vsx_tess_labeled_north-compact-unified.parquet:\n",
      "\n",
      "📁 Inspeccionando: data/processed/dataset_vsx_tess_labeled_north-compact-unified.parquet\n"
     ]
    },
    {
     "name": "stderr",
     "output_type": "stream",
     "text": [
      "🧮 Procesando por lotes: 1135it [03:29,  5.41it/s]\n",
      "\n"
     ]
    },
    {
     "name": "stdout",
     "output_type": "stream",
     "text": [
      "✅ Resumen exportado a: data/processed/summary\\dataset_vsx_tess_labeled_north-compact-unified_summary.csv\n",
      "------------------------------------------------------------\n",
      "Resumen de data/processed/dataset_vsx_tess_labeled_ampliado-compact-unified.parquet:\n",
      "\n",
      "📁 Inspeccionando: data/processed/dataset_vsx_tess_labeled_ampliado-compact-unified.parquet\n"
     ]
    },
    {
     "name": "stderr",
     "output_type": "stream",
     "text": [
      "🧮 Procesando por lotes: 1149it [03:31,  5.45it/s]\n",
      "\n"
     ]
    },
    {
     "name": "stdout",
     "output_type": "stream",
     "text": [
      "✅ Resumen exportado a: data/processed/summary\\dataset_vsx_tess_labeled_ampliado-compact-unified_summary.csv\n",
      "------------------------------------------------------------\n",
      "Resumen de data/processed/dataset_ztf_labeled-unified.parquet:\n",
      "\n",
      "📁 Inspeccionando: data/processed/dataset_ztf_labeled-unified.parquet\n"
     ]
    },
    {
     "name": "stderr",
     "output_type": "stream",
     "text": [
      "🧮 Procesando por lotes: 96it [00:46,  2.05it/s]"
     ]
    },
    {
     "name": "stdout",
     "output_type": "stream",
     "text": [
      "✅ Resumen exportado a: data/processed/summary\\dataset_ztf_labeled-unified_summary.csv\n",
      "------------------------------------------------------------\n"
     ]
    },
    {
     "name": "stderr",
     "output_type": "stream",
     "text": [
      "\n"
     ]
    }
   ],
   "source": [
    "from src.utils.inspect_and_export_summary import inspect_and_export_summary\n",
    "\n",
    "# Lista de ficheros Parquet a inspeccionar (los mismos que en DATASET_BASES)\n",
    "DATASET_BASES = [\n",
    "    \"dataset_eb_kepler_labeled_fixed-compact\",\n",
    "    \"dataset_eb_tess_labeled_fixed1-compact\",\n",
    "    \"dataset_eb_tess_labeled_fixed2-compact\",\n",
    "    \"dataset_eb_tess_labeled_fixed3-compact\",\n",
    "    \"dataset_k2varcat_labeled_fixed\",\n",
    "    \"dataset_vsx_tess_labeled_fixed\",\n",
    "    \"dataset_gaia_complemented_normalized\",\n",
    "    \"dataset_vsx_tess_labeled_south\",\n",
    "    \"dataset_vsx_tess_labeled_north-compact\",\n",
    "    \"dataset_vsx_tess_labeled_ampliado-compact\",\n",
    "    \"dataset_ztf_labeled\",\n",
    "]\n",
    "INPUT_DIR = \"data/processed\"\n",
    "for base in DATASET_BASES:\n",
    "    parquet_path = f\"{INPUT_DIR}/{base}-unified.parquet\"\n",
    "    print(f\"Resumen de {parquet_path}:\")\n",
    "    inspect_and_export_summary(parquet_path, output_format=\"csv\")\n",
    "    print(\"-\" * 60)"
   ]
  },
  {
   "cell_type": "code",
   "execution_count": 1,
   "id": "205fb37e",
   "metadata": {},
   "outputs": [
    {
     "name": "stdout",
     "output_type": "stream",
     "text": [
      "📂 Cargando catálogo...\n",
      "\n",
      "=== REPORTE DE NORMALIZACIÓN ===\n",
      "CWA             → Variable\n",
      "CWB             → Variable\n",
      "DCEP            → Variable\n",
      "DCEPS           → Variable\n",
      "DSCT            → Delta Scuti\n",
      "EA              → Eclipsing Binary\n",
      "EB              → Eclipsing Binary\n",
      "EW              → Eclipsing Binary\n",
      "HADS            → Delta Scuti\n",
      "L               → Irregular\n",
      "M               → Irregular\n",
      "ROT             → Rotational\n",
      "RRAB            → RR Lyrae\n",
      "RRC             → RR Lyrae\n",
      "RRD             → RR Lyrae\n",
      "RVA             → Rotational\n",
      "SR              → Irregular\n",
      "VAR             → Variable\n",
      "YSO             → Young Stellar Object\n",
      "\n",
      "Todas las clases del catálogo están normalizadas correctamente.\n",
      "📦 Extrayendo curvas del .tar.gz...\n",
      "\n",
      "=== REPORTE DE NORMALIZACIÓN ===\n",
      "CWA             → Variable\n",
      "CWB             → Variable\n",
      "DCEP            → Variable\n",
      "DCEPS           → Variable\n",
      "DSCT            → Delta Scuti\n",
      "EA              → Eclipsing Binary\n",
      "EB              → Eclipsing Binary\n",
      "EW              → Eclipsing Binary\n",
      "HADS            → Delta Scuti\n",
      "L               → Irregular\n",
      "M               → Irregular\n",
      "ROT             → Rotational\n",
      "RRAB            → RR Lyrae\n",
      "RRC             → RR Lyrae\n",
      "RRD             → RR Lyrae\n",
      "RVA             → Rotational\n",
      "SR              → Irregular\n",
      "VAR             → Variable\n",
      "YSO             → Young Stellar Object\n",
      "\n",
      "Todas las clases del catálogo están normalizadas correctamente.\n",
      "📦 Extrayendo curvas del .tar.gz...\n",
      "🟢 Carpeta temporal ya contiene archivos, no se extrae g_band_lcs.tar.gz\n",
      "📊 Procesando curvas...\n",
      "🟢 Carpeta temporal ya contiene archivos, no se extrae g_band_lcs.tar.gz\n",
      "📊 Procesando curvas...\n"
     ]
    },
    {
     "ename": "KeyboardInterrupt",
     "evalue": "",
     "output_type": "error",
     "traceback": [
      "\u001b[31m---------------------------------------------------------------------------\u001b[39m",
      "\u001b[31mKeyboardInterrupt\u001b[39m                         Traceback (most recent call last)",
      "\u001b[36mCell\u001b[39m\u001b[36m \u001b[39m\u001b[32mIn[1]\u001b[39m\u001b[32m, line 3\u001b[39m\n\u001b[32m      1\u001b[39m \u001b[38;5;28;01mfrom\u001b[39;00m\u001b[38;5;250m \u001b[39m\u001b[34;01msrc\u001b[39;00m\u001b[34;01m.\u001b[39;00m\u001b[34;01mfase1\u001b[39;00m\u001b[34;01m.\u001b[39;00m\u001b[34;01mscript_9_asassn_gband_extract_curves\u001b[39;00m\u001b[38;5;250m \u001b[39m\u001b[38;5;28;01mimport\u001b[39;00m main \u001b[38;5;28;01mas\u001b[39;00m run_asassn_gband_extract_curves\n\u001b[32m----> \u001b[39m\u001b[32m3\u001b[39m \u001b[43mrun_asassn_gband_extract_curves\u001b[49m\u001b[43m(\u001b[49m\u001b[43muse_parallel\u001b[49m\u001b[43m=\u001b[49m\u001b[38;5;28;43;01mTrue\u001b[39;49;00m\u001b[43m,\u001b[49m\u001b[43m \u001b[49m\u001b[43mbatch_size\u001b[49m\u001b[43m=\u001b[49m\u001b[32;43m5000\u001b[39;49m\u001b[43m)\u001b[49m\n",
      "\u001b[36mFile \u001b[39m\u001b[32mc:\\Users\\hav3f\\OneDrive - UNIR\\MASTER UNIR - INTELIGENCIA ARTIFICIAL\\ASIGNATURAS\\CUATRIMESTRE 2\\TRABAJO FIN DE MASTER\\IMPLEMENTACION\\src\\fase1\\script_9_asassn_gband_extract_curves.py:250\u001b[39m, in \u001b[36mmain\u001b[39m\u001b[34m(use_parallel, max_files, batch_size, save_intermediate, intermediate_dir, resume)\u001b[39m\n\u001b[32m    247\u001b[39m extract_tar_to_temp(TAR_PATH, TEMP_CURVES_DIR)\n\u001b[32m    249\u001b[39m \u001b[38;5;28mprint\u001b[39m(\u001b[33m\"\u001b[39m\u001b[33m📊 Procesando curvas...\u001b[39m\u001b[33m\"\u001b[39m)\n\u001b[32m--> \u001b[39m\u001b[32m250\u001b[39m df_curves = \u001b[43mprocess_lightcurves_parallel\u001b[49m\u001b[43m(\u001b[49m\n\u001b[32m    251\u001b[39m \u001b[43m    \u001b[49m\u001b[43mTEMP_CURVES_DIR\u001b[49m\u001b[43m,\u001b[49m\n\u001b[32m    252\u001b[39m \u001b[43m    \u001b[49m\u001b[43muse_parallel\u001b[49m\u001b[43m=\u001b[49m\u001b[43muse_parallel\u001b[49m\u001b[43m,\u001b[49m\n\u001b[32m    253\u001b[39m \u001b[43m    \u001b[49m\u001b[43mmax_files\u001b[49m\u001b[43m=\u001b[49m\u001b[43mmax_files\u001b[49m\u001b[43m,\u001b[49m\n\u001b[32m    254\u001b[39m \u001b[43m    \u001b[49m\u001b[43mbatch_size\u001b[49m\u001b[43m=\u001b[49m\u001b[43mbatch_size\u001b[49m\u001b[43m,\u001b[49m\n\u001b[32m    255\u001b[39m \u001b[43m    \u001b[49m\u001b[43msave_intermediate\u001b[49m\u001b[43m=\u001b[49m\u001b[43msave_intermediate\u001b[49m\u001b[43m,\u001b[49m\n\u001b[32m    256\u001b[39m \u001b[43m    \u001b[49m\u001b[43mintermediate_dir\u001b[49m\u001b[43m=\u001b[49m\u001b[43mintermediate_dir\u001b[49m\u001b[43m,\u001b[49m\n\u001b[32m    257\u001b[39m \u001b[43m    \u001b[49m\u001b[43mresume\u001b[49m\u001b[43m=\u001b[49m\u001b[43mresume\u001b[49m\n\u001b[32m    258\u001b[39m \u001b[43m\u001b[49m\u001b[43m)\u001b[49m\n\u001b[32m    260\u001b[39m \u001b[38;5;28mprint\u001b[39m(\u001b[33m\"\u001b[39m\u001b[33m🔗 Unificando catálogo y curvas por batches...\u001b[39m\u001b[33m\"\u001b[39m)\n\u001b[32m    261\u001b[39m parquet_paths = normalize_classes_and_merge(df_catalog, df_curves, batch_size=\u001b[32m250_000\u001b[39m)\n",
      "\u001b[36mFile \u001b[39m\u001b[32mc:\\Users\\hav3f\\OneDrive - UNIR\\MASTER UNIR - INTELIGENCIA ARTIFICIAL\\ASIGNATURAS\\CUATRIMESTRE 2\\TRABAJO FIN DE MASTER\\IMPLEMENTACION\\src\\fase1\\script_9_asassn_gband_extract_curves.py:100\u001b[39m, in \u001b[36mprocess_lightcurves_parallel\u001b[39m\u001b[34m(curves_dir, use_parallel, max_files, batch_size, save_intermediate, intermediate_dir, resume)\u001b[39m\n\u001b[32m     98\u001b[39m     intermediate_dir.mkdir(parents=\u001b[38;5;28;01mTrue\u001b[39;00m, exist_ok=\u001b[38;5;28;01mTrue\u001b[39;00m)\n\u001b[32m     99\u001b[39m     \u001b[38;5;66;03m# Marca de batches ya procesados\u001b[39;00m\n\u001b[32m--> \u001b[39m\u001b[32m100\u001b[39m     processed_batches = \u001b[43m{\u001b[49m\u001b[43mp\u001b[49m\u001b[43m.\u001b[49m\u001b[43mstem\u001b[49m\u001b[43m \u001b[49m\u001b[38;5;28;43;01mfor\u001b[39;49;00m\u001b[43m \u001b[49m\u001b[43mp\u001b[49m\u001b[43m \u001b[49m\u001b[38;5;129;43;01min\u001b[39;49;00m\u001b[43m \u001b[49m\u001b[43mintermediate_dir\u001b[49m\u001b[43m.\u001b[49m\u001b[43mglob\u001b[49m\u001b[43m(\u001b[49m\u001b[33;43m\"\u001b[39;49m\u001b[33;43mbatch_*.parquet\u001b[39;49m\u001b[33;43m\"\u001b[39;49m\u001b[43m)\u001b[49m\u001b[43m}\u001b[49m\n\u001b[32m    101\u001b[39m \u001b[38;5;28;01melse\u001b[39;00m:\n\u001b[32m    102\u001b[39m     processed_batches = \u001b[38;5;28mset\u001b[39m()\n",
      "\u001b[36mFile \u001b[39m\u001b[32mc:\\Users\\hav3f\\OneDrive - UNIR\\MASTER UNIR - INTELIGENCIA ARTIFICIAL\\ASIGNATURAS\\CUATRIMESTRE 2\\TRABAJO FIN DE MASTER\\IMPLEMENTACION\\src\\fase1\\script_9_asassn_gband_extract_curves.py:100\u001b[39m, in \u001b[36m<setcomp>\u001b[39m\u001b[34m(.0)\u001b[39m\n\u001b[32m     98\u001b[39m     intermediate_dir.mkdir(parents=\u001b[38;5;28;01mTrue\u001b[39;00m, exist_ok=\u001b[38;5;28;01mTrue\u001b[39;00m)\n\u001b[32m     99\u001b[39m     \u001b[38;5;66;03m# Marca de batches ya procesados\u001b[39;00m\n\u001b[32m--> \u001b[39m\u001b[32m100\u001b[39m     processed_batches = \u001b[43m{\u001b[49m\u001b[43mp\u001b[49m\u001b[43m.\u001b[49m\u001b[43mstem\u001b[49m\u001b[43m \u001b[49m\u001b[38;5;28;43;01mfor\u001b[39;49;00m\u001b[43m \u001b[49m\u001b[43mp\u001b[49m\u001b[43m \u001b[49m\u001b[38;5;129;43;01min\u001b[39;49;00m\u001b[43m \u001b[49m\u001b[43mintermediate_dir\u001b[49m\u001b[43m.\u001b[49m\u001b[43mglob\u001b[49m\u001b[43m(\u001b[49m\u001b[33;43m\"\u001b[39;49m\u001b[33;43mbatch_*.parquet\u001b[39;49m\u001b[33;43m\"\u001b[39;49m\u001b[43m)\u001b[49m\u001b[43m}\u001b[49m\n\u001b[32m    101\u001b[39m \u001b[38;5;28;01melse\u001b[39;00m:\n\u001b[32m    102\u001b[39m     processed_batches = \u001b[38;5;28mset\u001b[39m()\n",
      "\u001b[36mFile \u001b[39m\u001b[32mc:\\Users\\hav3f\\anaconda3\\envs\\astro_transformer\\Lib\\pathlib.py:953\u001b[39m, in \u001b[36mPath.glob\u001b[39m\u001b[34m(self, pattern)\u001b[39m\n\u001b[32m    951\u001b[39m     pattern_parts.append(\u001b[33m'\u001b[39m\u001b[33m'\u001b[39m)\n\u001b[32m    952\u001b[39m selector = _make_selector(\u001b[38;5;28mtuple\u001b[39m(pattern_parts), \u001b[38;5;28mself\u001b[39m._flavour)\n\u001b[32m--> \u001b[39m\u001b[32m953\u001b[39m \u001b[43m\u001b[49m\u001b[38;5;28;43;01mfor\u001b[39;49;00m\u001b[43m \u001b[49m\u001b[43mp\u001b[49m\u001b[43m \u001b[49m\u001b[38;5;129;43;01min\u001b[39;49;00m\u001b[43m \u001b[49m\u001b[43mselector\u001b[49m\u001b[43m.\u001b[49m\u001b[43mselect_from\u001b[49m\u001b[43m(\u001b[49m\u001b[38;5;28;43mself\u001b[39;49m\u001b[43m)\u001b[49m\u001b[43m:\u001b[49m\n\u001b[32m    954\u001b[39m \u001b[43m    \u001b[49m\u001b[38;5;28;43;01myield\u001b[39;49;00m\u001b[43m \u001b[49m\u001b[43mp\u001b[49m\n",
      "\u001b[36mFile \u001b[39m\u001b[32mc:\\Users\\hav3f\\anaconda3\\envs\\astro_transformer\\Lib\\pathlib.py:356\u001b[39m, in \u001b[36m_WildcardSelector._select_from\u001b[39m\u001b[34m(self, parent_path, is_dir, exists, scandir)\u001b[39m\n\u001b[32m    354\u001b[39m \u001b[38;5;28;01mtry\u001b[39;00m:\n\u001b[32m    355\u001b[39m     \u001b[38;5;28;01mwith\u001b[39;00m scandir(parent_path) \u001b[38;5;28;01mas\u001b[39;00m scandir_it:\n\u001b[32m--> \u001b[39m\u001b[32m356\u001b[39m         entries = \u001b[38;5;28mlist\u001b[39m(scandir_it)\n\u001b[32m    357\u001b[39m     \u001b[38;5;28;01mfor\u001b[39;00m entry \u001b[38;5;129;01min\u001b[39;00m entries:\n\u001b[32m    358\u001b[39m         \u001b[38;5;28;01mif\u001b[39;00m \u001b[38;5;28mself\u001b[39m.dironly:\n",
      "\u001b[31mKeyboardInterrupt\u001b[39m: "
     ]
    }
   ],
   "source": [
    "from src.fase1.script_9_asassn_gband_extract_curves import main as run_asassn_gband_extract_curves\n",
    "\n",
    "run_asassn_gband_extract_curves(use_parallel=True, batch_size=5000)"
   ]
  },
  {
   "cell_type": "code",
   "execution_count": 1,
   "id": "03365073",
   "metadata": {},
   "outputs": [
    {
     "name": "stdout",
     "output_type": "stream",
     "text": [
      "💾 Concatenando y guardando en formato Parquet final a partir de 810 batches...\n"
     ]
    },
    {
     "name": "stderr",
     "output_type": "stream",
     "text": [
      "Escribiendo batches finales: 100%|██████████| 810/810 [09:16<00:00,  1.45it/s]\n",
      "\n"
     ]
    },
    {
     "name": "stdout",
     "output_type": "stream",
     "text": [
      "✅ Dataset final guardado en data\\processed\\dataset_asassn_gband.parquet (202436941 filas)\n",
      "📋 Inspeccionando dataset final...\n",
      "\n",
      "📁 Inspeccionando: data\\processed\\dataset_asassn_gband.parquet\n"
     ]
    },
    {
     "name": "stderr",
     "output_type": "stream",
     "text": [
      "🧮 Procesando por lotes: 4049it [23:57,  2.82it/s]\n",
      "\n"
     ]
    },
    {
     "name": "stdout",
     "output_type": "stream",
     "text": [
      "✅ Resumen exportado a: data/processed/summary\\dataset_asassn_gband_summary.csv\n"
     ]
    }
   ],
   "source": [
    "from src.fase1.script_9_asassn_gband_extract_curves import concat_parquet_batches, OUTPUT_PATH\n",
    "from pathlib import Path\n",
    "\n",
    "# Llama solo a la parte final: concatena los batches ya existentes y genera el Parquet final y el resumen\n",
    "parquet_batches_dir = Path(\"data/processed/asassn_gband_merged_batches\")\n",
    "parquet_paths = sorted(parquet_batches_dir.glob(\"merged_*.parquet\"))\n",
    "if parquet_paths:\n",
    "    print(f\"💾 Concatenando y guardando en formato Parquet final a partir de {len(parquet_paths)} batches...\")\n",
    "    concat_parquet_batches(parquet_paths, OUTPUT_PATH, batch_size=250_000)\n",
    "    from src.utils.inspect_and_export_summary import inspect_and_export_summary\n",
    "    print(\"📋 Inspeccionando dataset final...\")\n",
    "    inspect_and_export_summary(OUTPUT_PATH)\n",
    "else:\n",
    "    print(\"❌ No se encontraron batches intermedios en\", parquet_batches_dir)"
   ]
  },
  {
   "cell_type": "markdown",
   "id": "672c531c",
   "metadata": {},
   "source": [
    "### ✅ **Análisis de lo incorporado con ASAS-SN (g-band)**\n",
    "\n",
    "Hemos añadido **378.861 curvas nuevas** (más que cualquier otro dataset individual) que enriquecen notablemente las clases clave. Aporta:\n",
    "\n",
    "| Clase                  | Nuevas curvas | Impacto positivo                                |\n",
    "| ---------------------- | ------------- | ----------------------------------------------- |\n",
    "| `RR Lyrae`             | +16M          | ✅ Refuerzo claro a clase minoritaria crítica.   |\n",
    "| `Delta Scuti`          | +2.39M        | ✅ Mejora notable.                               |\n",
    "| `Rotational`           | +31.2M        | ✅ Ya era abundante, pero suma estabilidad.      |\n",
    "| `Young Stellar Object` | +195.6K       | ✅ Muy relevante: casi duplica lo que tenías.    |\n",
    "| `Variable`             | +752K         | ⚠️ Clase algo ambigua; revisar distribución.    |\n",
    "| `Eclipsing Binary`     | +45.3M        | ⚠️ Ya era dominante: puede reforzar desbalance. |\n",
    "| `Irregular`            | +106.5M       | ⚠️ Mucho volumen, posible sobre-representación. |\n",
    "\n",
    "📌 **Conclusión**: este dataset **refuerza de forma masiva** tanto las clases minoritarias como el total. El efecto es muy positivo si se controla bien en el preprocesado (`max_per_class`, estratificación, etc.).\n",
    "\n",
    "### **¿Validar o preprocesar directamente?**\n",
    "\n",
    "Dado tu contexto actual:\n",
    "\n",
    "#### ➤ Ya hemos aplicado:\n",
    "\n",
    "* Estandarización del esquema.\n",
    "* Normalización de clases con `normalize_label`.\n",
    "* Comprobación visual y estructural del contenido (`inspect_and_export_summary`).\n",
    "* Detección de errores graves como duplicados vacíos, clases sin identificar o columnas faltantes.\n",
    "\n",
    "#### ✔️ Recomendación:\n",
    "\n",
    "**Pasa directamente al preprocesado** de todo el conjunto de `.parquet`, **pero** asegurándote de lo siguiente:\n",
    "\n",
    "1. **Incluye el nuevo `dataset_asassn_gband.parquet`** en la lista de entrada del script de preprocesado (`script_1_transformer_preprocessing.py`).\n",
    "\n",
    "2. Activa control de `max_per_class` si quieres:\n",
    "\n",
    "   * Limitar `Eclipsing Binary` e `Irregular` (por ejemplo, a 2.500 objetos cada una).\n",
    "   * Mantener todas las curvas de clases minoritarias como `White Dwarf`, `Cataclysmic`, etc.\n",
    "\n",
    "3. **Guarda un `summary.csv` del preprocesado** para ver cuántas curvas fueron aceptadas por clase.\n",
    "\n"
   ]
  },
  {
   "cell_type": "markdown",
   "id": "d6412645",
   "metadata": {},
   "source": [
    "### HAY QUE ARREGLAR \n",
    "    \"data/processed/dataset_k2varcat_labeled_fixed-unified.parquet\"\n",
    "No esta reconociendo las clases"
   ]
  },
  {
   "cell_type": "code",
   "execution_count": 3,
   "id": "797c9dbe",
   "metadata": {},
   "outputs": [
    {
     "name": "stdout",
     "output_type": "stream",
     "text": [
      "                                              dataset  total_filas  unknowns  \\\n",
      "0   dataset_eb_kepler_labeled_fixed-compact-unifie...     71735011         0   \n",
      "1   dataset_eb_tess_labeled_fixed1-compact-unified...     49975930         0   \n",
      "2   dataset_eb_tess_labeled_fixed2-compact-unified...     52403954         0   \n",
      "3   dataset_eb_tess_labeled_fixed3-compact-unified...     18142465         0   \n",
      "4      dataset_k2varcat_labeled_fixed-unified.parquet     17895159  17662603   \n",
      "5      dataset_vsx_tess_labeled_fixed-unified.parquet     41143597         0   \n",
      "6   dataset_gaia_complemented_normalized-unified.p...     29794442         0   \n",
      "7      dataset_vsx_tess_labeled_south-unified.parquet      3095437         0   \n",
      "8   dataset_vsx_tess_labeled_north-compact-unified...     56757771         0   \n",
      "9   dataset_vsx_tess_labeled_ampliado-compact-unif...     57452150         0   \n",
      "10                dataset_ztf_labeled-unified.parquet     12551038         0   \n",
      "11               dataset_asassn_gband-unified.parquet    202436941         0   \n",
      "\n",
      "    porcentaje_unknown  \n",
      "0                  0.0  \n",
      "1                  0.0  \n",
      "2                  0.0  \n",
      "3                  0.0  \n",
      "4                 98.7  \n",
      "5                  0.0  \n",
      "6                  0.0  \n",
      "7                  0.0  \n",
      "8                  0.0  \n",
      "9                  0.0  \n",
      "10                 0.0  \n",
      "11                 0.0  \n"
     ]
    }
   ],
   "source": [
    "import pandas as pd\n",
    "from pathlib import Path\n",
    "from src.utils.normalization_dict import normalize_label\n",
    "\n",
    "DATASET_PATHS = [\n",
    "    \"data/processed/dataset_eb_kepler_labeled_fixed-compact-unified.parquet\",\n",
    "    \"data/processed/dataset_eb_tess_labeled_fixed1-compact-unified.parquet\",\n",
    "    \"data/processed/dataset_eb_tess_labeled_fixed2-compact-unified.parquet\",\n",
    "    \"data/processed/dataset_eb_tess_labeled_fixed3-compact-unified.parquet\",\n",
    "    \"data/processed/dataset_k2varcat_labeled_fixed-unified.parquet\",\n",
    "    \"data/processed/dataset_vsx_tess_labeled_fixed-unified.parquet\",\n",
    "    \"data/processed/dataset_gaia_complemented_normalized-unified.parquet\",\n",
    "    \"data/processed/dataset_vsx_tess_labeled_south-unified.parquet\",\n",
    "    \"data/processed/dataset_vsx_tess_labeled_north-compact-unified.parquet\",\n",
    "    \"data/processed/dataset_vsx_tess_labeled_ampliado-compact-unified.parquet\",\n",
    "    \"data/processed/dataset_ztf_labeled-unified.parquet\",\n",
    "    \"data/processed/dataset_asassn_gband-unified.parquet\"\n",
    "]\n",
    "\n",
    "resumen = []\n",
    "for path in DATASET_PATHS:\n",
    "    p = Path(path)\n",
    "    if not p.exists():\n",
    "        resumen.append((p.name, \"No encontrado\", \"-\", \"-\"))\n",
    "        continue\n",
    "\n",
    "    df = pd.read_parquet(p, columns=[\"clase_variable\", \"clase_variable_normalizada\"])\n",
    "    total = len(df)\n",
    "    if \"clase_variable_normalizada\" not in df.columns or df[\"clase_variable_normalizada\"].isnull().all():\n",
    "        df[\"clase_variable_normalizada\"] = df[\"clase_variable\"].apply(normalize_label)\n",
    "    unknowns = (df[\"clase_variable_normalizada\"] == \"Unknown\").sum()\n",
    "    resumen.append((p.name, total, unknowns, round(100 * unknowns / total, 2)))\n",
    "\n",
    "df_resumen = pd.DataFrame(resumen, columns=[\"dataset\", \"total_filas\", \"unknowns\", \"porcentaje_unknown\"])\n",
    "print(df_resumen)\n"
   ]
  },
  {
   "cell_type": "code",
   "execution_count": 1,
   "id": "25d45047",
   "metadata": {},
   "outputs": [
    {
     "name": "stdout",
     "output_type": "stream",
     "text": [
      "🔍 Clases únicas antes: 4\n",
      "clase_variable_normalizada\n",
      "Irregular           9883704\n",
      "Variable            7778899\n",
      "Eclipsing Binary     232556\n",
      "Name: count, dtype: int64\n",
      "clase_variable_normalizada\n",
      "Irregular           9883704\n",
      "Variable            7778899\n",
      "Eclipsing Binary     232556\n",
      "Name: count, dtype: int64\n",
      "✅ Guardado optimizado con row_group_size=50000: data\\processed\\dataset_k2varcat_labeled_fixed-unified2.parquet\n",
      "✅ Guardado optimizado con row_group_size=50000: data\\processed\\dataset_k2varcat_labeled_fixed-unified2.parquet\n"
     ]
    }
   ],
   "source": [
    "import pandas as pd\n",
    "from pathlib import Path\n",
    "from src.utils.normalization_dict import normalize_label\n",
    "import pyarrow as pa\n",
    "import pyarrow.parquet as pq\n",
    "\n",
    "file_path = Path(\"data/processed/dataset_k2varcat_labeled_fixed-unified.parquet\")\n",
    "\n",
    "# Leer TODO el DataFrame, no solo dos columnas\n",
    "df = pd.read_parquet(file_path)\n",
    "print(f\"🔍 Clases únicas antes: {df['clase_variable'].nunique()}\")\n",
    "\n",
    "# Aplicar normalización (añadir o sobreescribir la columna)\n",
    "df[\"clase_variable_normalizada\"] = df[\"clase_variable\"].apply(normalize_label)\n",
    "\n",
    "# Verificar\n",
    "print(df[\"clase_variable_normalizada\"].value_counts(dropna=False))\n",
    "\n",
    "# Reescribir el archivo conservando todas las columnas originales\n",
    "output_path = Path(\"data/processed/dataset_k2varcat_labeled_fixed-unified2.parquet\")\n",
    "table = pa.Table.from_pandas(df)\n",
    "pq.write_table(table, output_path, row_group_size=50000)\n",
    "print(f\"✅ Guardado optimizado con row_group_size=50000: {output_path}\")\n",
    "\n"
   ]
  },
  {
   "cell_type": "code",
   "execution_count": null,
   "id": "5592c69a",
   "metadata": {},
   "outputs": [],
   "source": [
    "from pathlib import Path\n",
    "import pandas as pd\n",
    "import pyarrow.parquet as pq\n",
    "from tqdm import tqdm\n",
    "from src.utils.normalization_dict import VALID_CLASSES\n",
    "\n",
    "DATASET_PATHS = [\n",
    "    \"data/processed/dataset_eb_kepler_labeled_fixed-compact-unified.parquet\",\n",
    "    \"data/processed/dataset_eb_tess_labeled_fixed1-compact-unified.parquet\",\n",
    "    \"data/processed/dataset_eb_tess_labeled_fixed2-compact-unified.parquet\",\n",
    "    \"data/processed/dataset_eb_tess_labeled_fixed3-compact-unified.parquet\",\n",
    "    \"data/processed/dataset_k2varcat_labeled_fixed-unified2.parquet\",\n",
    "    \"data/processed/dataset_vsx_tess_labeled_fixed-unified.parquet\",\n",
    "    \"data/processed/dataset_gaia_complemented_normalized-unified.parquet\",\n",
    "    \"data/processed/dataset_vsx_tess_labeled_south-unified.parquet\",\n",
    "    \"data/processed/dataset_vsx_tess_labeled_north-compact-unified.parquet\",\n",
    "    \"data/processed/dataset_vsx_tess_labeled_ampliado-compact-unified.parquet\",\n",
    "    \"data/processed/dataset_ztf_labeled-unified.parquet\",\n",
    "    \"data/processed/dataset_asassn_gband-unified.parquet\"\n",
    "]\n",
    "\n",
    "summary_list = []\n",
    "\n",
    "for path in tqdm(DATASET_PATHS, desc=\"🔍 Leyendo datasets\"):\n",
    "    p = Path(path)\n",
    "    try:\n",
    "        table = pq.read_table(p, columns=[\"id\", \"clase_variable_normalizada\"])\n",
    "        df = table.to_pandas()\n",
    "        df = df.drop_duplicates(subset=[\"id\"])  # Cada curva solo una vez\n",
    "        df = df[df[\"clase_variable_normalizada\"].isin(VALID_CLASSES)]\n",
    "        counts = df[\"clase_variable_normalizada\"].value_counts().rename_axis(\"clase\").reset_index(name=\"curvas\")\n",
    "        counts[\"dataset\"] = p.name\n",
    "        summary_list.append(counts)\n",
    "    except Exception as e:\n",
    "        print(f\"[ERROR] {p.name}: {e}\")\n",
    "\n",
    "# Combina y reorganiza\n",
    "summary_df = pd.concat(summary_list, ignore_index=True)\n",
    "pivot_summary = summary_df.pivot_table(index=\"clase\", columns=\"dataset\", values=\"curvas\", fill_value=0)\n",
    "\n",
    "# Añade una fila con el total por clase\n",
    "pivot_summary.loc[\"TOTAL\"] = pivot_summary.sum(axis=0)\n",
    "pivot_summary[\"TOTAL\"] = pivot_summary.sum(axis=1)\n",
    "\n",
    "# Exporta\n",
    "pivot_summary.to_csv(\"data/processed/summary/resumen_clases_normalizadas_por_id.csv\")\n",
    "pivot_summary\n"
   ]
  },
  {
   "cell_type": "markdown",
   "id": "77120d82",
   "metadata": {},
   "source": [
    "### 📊 Análisis de la contribución del dataset ASAS-SN (g-band)\n",
    "\n",
    "#### ✅ **Impacto cuantitativo**\n",
    "\n",
    "* Hemos incorporado **378.861 curvas nuevas** desde ASAS-SN, lo que representa:\n",
    "\n",
    "  * 🧠 **\\~85% del total** de curvas del dataset unificado (`378.861 / 443.528 ≈ 0.85`)\n",
    "  * Esto ha **multiplicado por más de 3** el volumen que tenías antes de incluir ASAS-SN.\n",
    "\n",
    "#### ✅ **Clases reforzadas**\n",
    "\n",
    "* **Irregular**: +209.992 curvas (la clase más representada en ASAS-SN).\n",
    "* **Eclipsing Binary**: +82.868 curvas — extremadamente valioso.\n",
    "* **Rotational**: +53.172 curvas — se refuerza bien.\n",
    "* **RR Lyrae**: +26.515 curvas — muy relevante para tus clases minoritarias.\n",
    "* **Delta Scuti**: +4.626 curvas — suma sustancial.\n",
    "* **Variable**: +1.332 curvas.\n",
    "* **Young Stellar Object**: +356 curvas.\n",
    "* **White Dwarf** y **Cataclysmic**: no se han reforzado desde ASAS-SN, pero podrían llegar desde otras bandas (V-band pendiente).\n",
    "\n",
    "Dado que ya:\n",
    "\n",
    "* Hemos validado la integridad de los `.parquet` tras la normalización.\n",
    "* El resumen de distribución por `id` muestra una base sólida y balance mejorado.\n",
    "* ASASSN ha aportado muchas curvas útiles.\n",
    "\n",
    "#### 🔁 Próximo paso:\n",
    "\n",
    "✅ **Ejecutar el script de preprocesado completo** (`script_1_transformer_preprocessing.py`) con los datasets actualizados, sin `max_per_class` para aprovechar todo el volumen.\n",
    "Esto permitirá preparar los datos de entrenamiento del Transformer y evaluar si las métricas mejoran con esta nueva base.\n",
    "\n",
    "**Distribución de clases por curvas únicas (`id`)** en tu dataset consolidado (incluyendo ASAS-SN):\n",
    "\n",
    "| Clase normalizada        | Nº de curvas (`id`) |\n",
    "| ------------------------ | ------------------: |\n",
    "| **Irregular**            |             220.459 |\n",
    "| **Eclipsing Binary**     |              89.920 |\n",
    "| **Rotational**           |              78.817 |\n",
    "| **RR Lyrae**             |              41.198 |\n",
    "| **Delta Scuti**          |               8.002 |\n",
    "| **Variable**             |               4.544 |\n",
    "| **Cataclysmic**          |                  32 |\n",
    "| **Young Stellar Object** |                 539 |\n",
    "| **White Dwarf**          |                  17 |\n",
    "| **TOTAL**                |         **443.528** |\n",
    "\n",
    "\n",
    "* ✅ **Irregular** es la clase dominante, representa \\~49.7% del total.\n",
    "* ✅ Las tres clases fuertes (`Eclipsing Binary`, `Rotational`, `RR Lyrae`) suman más de 47% del total.\n",
    "* 🟡 **Delta Scuti** y **Variable** tienen una presencia razonable (2–3k–8k).\n",
    "* 🔴 **Clases minoritarias críticas**: `Cataclysmic`, `White Dwarf`, `Young Stellar Object` → < 600 curvas cada una.\n",
    "\n",
    "#### 🧭 Próximas acciones sugeridas\n",
    "\n",
    "* Si tu modelo aún **no alcanza alta precisión para las minoritarias**, podríamos:\n",
    "\n",
    "  * Buscar más curvas en **ASAS-SN V-band** (ya tenemos el CSV, solo falta extraer).\n",
    "  * Reforzar `Cataclysmic` y `White Dwarf` desde ZTF u otras fuentes complementarias.\n",
    "\n"
   ]
  },
  {
   "cell_type": "code",
   "execution_count": 1,
   "id": "e11c07d0",
   "metadata": {},
   "outputs": [
    {
     "name": "stdout",
     "output_type": "stream",
     "text": [
      "🔍 Distribución por clase normalizada:\n",
      "clase_variable_normalizada\n",
      "Young Stellar Object    10147\n",
      "Cataclysmic              1997\n",
      "White Dwarf               102\n",
      "Name: count, dtype: int64\n",
      "\n",
      "🔢 Total de objetos candidatos: 12246\n"
     ]
    },
    {
     "data": {
      "text/html": [
       "<div>\n",
       "<style scoped>\n",
       "    .dataframe tbody tr th:only-of-type {\n",
       "        vertical-align: middle;\n",
       "    }\n",
       "\n",
       "    .dataframe tbody tr th {\n",
       "        vertical-align: top;\n",
       "    }\n",
       "\n",
       "    .dataframe thead th {\n",
       "        text-align: right;\n",
       "    }\n",
       "</style>\n",
       "<table border=\"1\" class=\"dataframe\">\n",
       "  <thead>\n",
       "    <tr style=\"text-align: right;\">\n",
       "      <th></th>\n",
       "      <th>source_id</th>\n",
       "      <th>asassn_name</th>\n",
       "      <th>other_names</th>\n",
       "      <th>raj2000</th>\n",
       "      <th>dej2000</th>\n",
       "      <th>l</th>\n",
       "      <th>b</th>\n",
       "      <th>mean_vmag</th>\n",
       "      <th>amplitude</th>\n",
       "      <th>period</th>\n",
       "      <th>...</th>\n",
       "      <th>galex_id</th>\n",
       "      <th>FUVmag</th>\n",
       "      <th>e_FUVmag</th>\n",
       "      <th>NUVmag</th>\n",
       "      <th>e_NUVmag</th>\n",
       "      <th>tic_id</th>\n",
       "      <th>pm</th>\n",
       "      <th>ruwe</th>\n",
       "      <th>clase_variable</th>\n",
       "      <th>clase_variable_normalizada</th>\n",
       "    </tr>\n",
       "  </thead>\n",
       "  <tbody>\n",
       "    <tr>\n",
       "      <th>205</th>\n",
       "      <td>445662</td>\n",
       "      <td>ASASSN-V J054139.56-014702.0</td>\n",
       "      <td>CVSO 183</td>\n",
       "      <td>85.41483</td>\n",
       "      <td>-1.78389</td>\n",
       "      <td>206.41515</td>\n",
       "      <td>-16.31212</td>\n",
       "      <td>13.83</td>\n",
       "      <td>0.08</td>\n",
       "      <td>NaN</td>\n",
       "      <td>...</td>\n",
       "      <td>NaN</td>\n",
       "      <td>NaN</td>\n",
       "      <td>NaN</td>\n",
       "      <td>NaN</td>\n",
       "      <td>NaN</td>\n",
       "      <td>TIC 11412530</td>\n",
       "      <td>37.984</td>\n",
       "      <td>1.012</td>\n",
       "      <td>YSO</td>\n",
       "      <td>Young Stellar Object</td>\n",
       "    </tr>\n",
       "    <tr>\n",
       "      <th>228</th>\n",
       "      <td>557192</td>\n",
       "      <td>ASASSN-V J175406.37-323352.9</td>\n",
       "      <td>OGLE-BLG-LPV-108206</td>\n",
       "      <td>268.52655</td>\n",
       "      <td>-32.56470</td>\n",
       "      <td>357.81829</td>\n",
       "      <td>-3.42548</td>\n",
       "      <td>13.98</td>\n",
       "      <td>0.11</td>\n",
       "      <td>NaN</td>\n",
       "      <td>...</td>\n",
       "      <td>NaN</td>\n",
       "      <td>NaN</td>\n",
       "      <td>NaN</td>\n",
       "      <td>NaN</td>\n",
       "      <td>NaN</td>\n",
       "      <td>TIC 257095624</td>\n",
       "      <td>12.561</td>\n",
       "      <td>0.946</td>\n",
       "      <td>YSO</td>\n",
       "      <td>Young Stellar Object</td>\n",
       "    </tr>\n",
       "    <tr>\n",
       "      <th>309</th>\n",
       "      <td>48445210</td>\n",
       "      <td>ASASSN-V J155844.10-573554.5</td>\n",
       "      <td>NaN</td>\n",
       "      <td>239.68377</td>\n",
       "      <td>-57.59846</td>\n",
       "      <td>325.97652</td>\n",
       "      <td>-3.36407</td>\n",
       "      <td>14.88</td>\n",
       "      <td>0.24</td>\n",
       "      <td>NaN</td>\n",
       "      <td>...</td>\n",
       "      <td>NaN</td>\n",
       "      <td>NaN</td>\n",
       "      <td>NaN</td>\n",
       "      <td>NaN</td>\n",
       "      <td>NaN</td>\n",
       "      <td>TIC 420658844</td>\n",
       "      <td>4.939</td>\n",
       "      <td>1.398</td>\n",
       "      <td>YSO</td>\n",
       "      <td>Young Stellar Object</td>\n",
       "    </tr>\n",
       "    <tr>\n",
       "      <th>315</th>\n",
       "      <td>70344</td>\n",
       "      <td>ASASSN-V J182053.43-394609.3</td>\n",
       "      <td>MASTER OT J182053.43-394609.3</td>\n",
       "      <td>275.22262</td>\n",
       "      <td>-39.76925</td>\n",
       "      <td>353.97744</td>\n",
       "      <td>-11.58275</td>\n",
       "      <td>14.95</td>\n",
       "      <td>1.70</td>\n",
       "      <td>NaN</td>\n",
       "      <td>...</td>\n",
       "      <td>NaN</td>\n",
       "      <td>NaN</td>\n",
       "      <td>NaN</td>\n",
       "      <td>NaN</td>\n",
       "      <td>NaN</td>\n",
       "      <td>TIC 1701983081</td>\n",
       "      <td>5.851</td>\n",
       "      <td>1.016</td>\n",
       "      <td>UG</td>\n",
       "      <td>Cataclysmic</td>\n",
       "    </tr>\n",
       "    <tr>\n",
       "      <th>351</th>\n",
       "      <td>27907931</td>\n",
       "      <td>ASASSN-V J174155.56-325847.2</td>\n",
       "      <td>NaN</td>\n",
       "      <td>265.48151</td>\n",
       "      <td>-32.97977</td>\n",
       "      <td>356.14117</td>\n",
       "      <td>-1.44563</td>\n",
       "      <td>14.87</td>\n",
       "      <td>0.14</td>\n",
       "      <td>NaN</td>\n",
       "      <td>...</td>\n",
       "      <td>NaN</td>\n",
       "      <td>NaN</td>\n",
       "      <td>NaN</td>\n",
       "      <td>NaN</td>\n",
       "      <td>NaN</td>\n",
       "      <td>TIC 193304922</td>\n",
       "      <td>7.257</td>\n",
       "      <td>0.945</td>\n",
       "      <td>YSO</td>\n",
       "      <td>Young Stellar Object</td>\n",
       "    </tr>\n",
       "  </tbody>\n",
       "</table>\n",
       "<p>5 rows × 81 columns</p>\n",
       "</div>"
      ],
      "text/plain": [
       "    source_id                   asassn_name                    other_names  \\\n",
       "205    445662  ASASSN-V J054139.56-014702.0                       CVSO 183   \n",
       "228    557192  ASASSN-V J175406.37-323352.9            OGLE-BLG-LPV-108206   \n",
       "309  48445210  ASASSN-V J155844.10-573554.5                            NaN   \n",
       "315     70344  ASASSN-V J182053.43-394609.3  MASTER OT J182053.43-394609.3   \n",
       "351  27907931  ASASSN-V J174155.56-325847.2                            NaN   \n",
       "\n",
       "       raj2000   dej2000          l         b  mean_vmag  amplitude  period  \\\n",
       "205   85.41483  -1.78389  206.41515 -16.31212      13.83       0.08     NaN   \n",
       "228  268.52655 -32.56470  357.81829  -3.42548      13.98       0.11     NaN   \n",
       "309  239.68377 -57.59846  325.97652  -3.36407      14.88       0.24     NaN   \n",
       "315  275.22262 -39.76925  353.97744 -11.58275      14.95       1.70     NaN   \n",
       "351  265.48151 -32.97977  356.14117  -1.44563      14.87       0.14     NaN   \n",
       "\n",
       "     ... galex_id  FUVmag  e_FUVmag  NUVmag  e_NUVmag          tic_id      pm  \\\n",
       "205  ...      NaN     NaN       NaN     NaN       NaN    TIC 11412530  37.984   \n",
       "228  ...      NaN     NaN       NaN     NaN       NaN   TIC 257095624  12.561   \n",
       "309  ...      NaN     NaN       NaN     NaN       NaN   TIC 420658844   4.939   \n",
       "315  ...      NaN     NaN       NaN     NaN       NaN  TIC 1701983081   5.851   \n",
       "351  ...      NaN     NaN       NaN     NaN       NaN   TIC 193304922   7.257   \n",
       "\n",
       "      ruwe  clase_variable  clase_variable_normalizada  \n",
       "205  1.012             YSO        Young Stellar Object  \n",
       "228  0.946             YSO        Young Stellar Object  \n",
       "309  1.398             YSO        Young Stellar Object  \n",
       "315  1.016              UG                 Cataclysmic  \n",
       "351  0.945             YSO        Young Stellar Object  \n",
       "\n",
       "[5 rows x 81 columns]"
      ]
     },
     "execution_count": 1,
     "metadata": {},
     "output_type": "execute_result"
    }
   ],
   "source": [
    "import pandas as pd\n",
    "from src.utils.normalization_dict import normalize_label\n",
    "\n",
    "# Ruta al catálogo V-band de ASAS-SN\n",
    "catalog_path = \"catalogs/asassn_catalog_variable_stars.csv\"\n",
    "\n",
    "# Carga y transformación\n",
    "df = pd.read_csv(catalog_path)\n",
    "df[\"clase_variable\"] = df[\"variable_type\"]\n",
    "df[\"clase_variable_normalizada\"] = df[\"clase_variable\"].apply(normalize_label)\n",
    "\n",
    "# Clases minoritarias a reforzar\n",
    "target_classes = {\"Cataclysmic\", \"White Dwarf\", \"Young Stellar Object\"}\n",
    "\n",
    "# Filtrado\n",
    "df_filtrado = df[df[\"clase_variable_normalizada\"].isin(target_classes)]\n",
    "\n",
    "# Resultados\n",
    "conteo = df_filtrado[\"clase_variable_normalizada\"].value_counts()\n",
    "print(\"🔍 Distribución por clase normalizada:\")\n",
    "print(conteo)\n",
    "\n",
    "print(f\"\\n🔢 Total de objetos candidatos: {len(df_filtrado)}\")\n",
    "df_filtrado.head()\n"
   ]
  },
  {
   "cell_type": "markdown",
   "id": "1472a798",
   "metadata": {},
   "source": [
    "### DESCARGA DE CURVAS ASAS-SN EN LA BANDA V PARA MEJORAR LAS CLASES AUN MINORITARIAS YSO, CATACLYSMIC Y WHITE DWARF"
   ]
  },
  {
   "cell_type": "code",
   "execution_count": 1,
   "id": "ce08242b",
   "metadata": {},
   "outputs": [
    {
     "name": "stdout",
     "output_type": "stream",
     "text": [
      "📂 Filtrando catálogo ASAS-SN V-band...\n",
      "⬇️ Descargando curvas (modo paralelo)...\n",
      "✔️ Ya existe: data\\processed\\temp\\asassn_vband_curves\\445662.csv\n",
      "✔️ Ya existe: data\\processed\\temp\\asassn_vband_curves\\557192.csv\n",
      "✔️ Ya existe: data\\processed\\temp\\asassn_vband_curves\\48445210.csv\n",
      "✔️ Ya existe: data\\processed\\temp\\asassn_vband_curves\\70344.csv\n",
      "✔️ Ya existe: data\\processed\\temp\\asassn_vband_curves\\27907931.csv\n",
      "✔️ Ya existe: data\\processed\\temp\\asassn_vband_curves\\AP49849728.csv\n",
      "✔️ Ya existe: data\\processed\\temp\\asassn_vband_curves\\68184.csv\n",
      "✔️ Ya existe: data\\processed\\temp\\asassn_vband_curves\\213338.csv\n",
      "✔️ Ya existe: data\\processed\\temp\\asassn_vband_curves\\AP13988491.csv\n",
      "✔️ Ya existe: data\\processed\\temp\\asassn_vband_curves\\228662.csv\n",
      "✔️ Ya existe: data\\processed\\temp\\asassn_vband_curves\\453878.csv\n",
      "✔️ Ya existe: data\\processed\\temp\\asassn_vband_curves\\114175.csv\n",
      "✔️ Ya existe: data\\processed\\temp\\asassn_vband_curves\\565138.csv\n",
      "✔️ Ya existe: data\\processed\\temp\\asassn_vband_curves\\78297.csv\n",
      "✔️ Ya existe: data\\processed\\temp\\asassn_vband_curves\\491774.csv\n",
      "✔️ Ya existe: data\\processed\\temp\\asassn_vband_curves\\637069.csv\n",
      "✔️ Ya existe: data\\processed\\temp\\asassn_vband_curves\\AP53982499.csv\n",
      "✔️ Ya existe: data\\processed\\temp\\asassn_vband_curves\\248047.csv\n",
      "✔️ Ya existe: data\\processed\\temp\\asassn_vband_curves\\AP20162412.csv\n",
      "✔️ Ya existe: data\\processed\\temp\\asassn_vband_curves\\31426620.csv\n",
      "✔️ Ya existe: data\\processed\\temp\\asassn_vband_curves\\476342.csv\n",
      "✔️ Ya existe: data\\processed\\temp\\asassn_vband_curves\\28052263.csv\n",
      "✔️ Ya existe: data\\processed\\temp\\asassn_vband_curves\\276111.csv\n",
      "✔️ Ya existe: data\\processed\\temp\\asassn_vband_curves\\155059.csv\n",
      "✔️ Ya existe: data\\processed\\temp\\asassn_vband_curves\\612704.csv\n",
      "✔️ Ya existe: data\\processed\\temp\\asassn_vband_curves\\602932.csv\n",
      "✔️ Ya existe: data\\processed\\temp\\asassn_vband_curves\\AP57275620.csv\n",
      "✔️ Ya existe: data\\processed\\temp\\asassn_vband_curves\\362173.csv\n",
      "✔️ Ya existe: data\\processed\\temp\\asassn_vband_curves\\83764.csv\n",
      "✔️ Ya existe: data\\processed\\temp\\asassn_vband_curves\\249604.csv\n",
      "✔️ Ya existe: data\\processed\\temp\\asassn_vband_curves\\110049.csv\n",
      "✔️ Ya existe: data\\processed\\temp\\asassn_vband_curves\\609741.csv\n",
      "✔️ Ya existe: data\\processed\\temp\\asassn_vband_curves\\646797.csv\n",
      "✔️ Ya existe: data\\processed\\temp\\asassn_vband_curves\\134957.csv\n",
      "✔️ Ya existe: data\\processed\\temp\\asassn_vband_curves\\32028154.csv\n",
      "✔️ Ya existe: data\\processed\\temp\\asassn_vband_curves\\29922669.csv\n",
      "✔️ Ya existe: data\\processed\\temp\\asassn_vband_curves\\522232.csv\n",
      "✔️ Ya existe: data\\processed\\temp\\asassn_vband_curves\\236061.csv\n",
      "✔️ Ya existe: data\\processed\\temp\\asassn_vband_curves\\378611.csv\n",
      "✔️ Ya existe: data\\processed\\temp\\asassn_vband_curves\\AP3934019.csv\n",
      "✔️ Ya existe: data\\processed\\temp\\asassn_vband_curves\\253591.csv\n",
      "✔️ Ya existe: data\\processed\\temp\\asassn_vband_curves\\516314.csv\n",
      "✔️ Ya existe: data\\processed\\temp\\asassn_vband_curves\\251926.csv\n",
      "✔️ Ya existe: data\\processed\\temp\\asassn_vband_curves\\AP53789058.csv\n",
      "✔️ Ya existe: data\\processed\\temp\\asassn_vband_curves\\71938.csv\n",
      "✔️ Ya existe: data\\processed\\temp\\asassn_vband_curves\\639000.csv\n",
      "✔️ Ya existe: data\\processed\\temp\\asassn_vband_curves\\232209.csv\n",
      "✔️ Ya existe: data\\processed\\temp\\asassn_vband_curves\\AP7459800.csv\n",
      "✔️ Ya existe: data\\processed\\temp\\asassn_vband_curves\\27802267.csv\n",
      "✔️ Ya existe: data\\processed\\temp\\asassn_vband_curves\\89764.csv\n",
      "✔️ Ya existe: data\\processed\\temp\\asassn_vband_curves\\646062.csv\n",
      "✔️ Ya existe: data\\processed\\temp\\asassn_vband_curves\\185888.csv\n",
      "✔️ Ya existe: data\\processed\\temp\\asassn_vband_curves\\AP32709248.csv\n",
      "✔️ Ya existe: data\\processed\\temp\\asassn_vband_curves\\31931102.csv\n",
      "✔️ Ya existe: data\\processed\\temp\\asassn_vband_curves\\512713.csv\n",
      "✔️ Ya existe: data\\processed\\temp\\asassn_vband_curves\\283640.csv\n",
      "✔️ Ya existe: data\\processed\\temp\\asassn_vband_curves\\AP31679250.csv\n",
      "✔️ Ya existe: data\\processed\\temp\\asassn_vband_curves\\AP49314968.csv\n",
      "✔️ Ya existe: data\\processed\\temp\\asassn_vband_curves\\562761.csv\n",
      "✔️ Ya existe: data\\processed\\temp\\asassn_vband_curves\\49148502.csv\n",
      "✔️ Ya existe: data\\processed\\temp\\asassn_vband_curves\\AP23673910.csv\n",
      "✔️ Ya existe: data\\processed\\temp\\asassn_vband_curves\\420991.csv\n",
      "✔️ Ya existe: data\\processed\\temp\\asassn_vband_curves\\486593.csv\n",
      "✔️ Ya existe: data\\processed\\temp\\asassn_vband_curves\\AP52456652.csv\n",
      "✔️ Ya existe: data\\processed\\temp\\asassn_vband_curves\\AP15103208.csv\n",
      "✔️ Ya existe: data\\processed\\temp\\asassn_vband_curves\\626837.csv\n",
      "✔️ Ya existe: data\\processed\\temp\\asassn_vband_curves\\183898.csv\n",
      "✔️ Ya existe: data\\processed\\temp\\asassn_vband_curves\\53164509.csv\n",
      "✔️ Ya existe: data\\processed\\temp\\asassn_vband_curves\\378081.csv\n",
      "✔️ Ya existe: data\\processed\\temp\\asassn_vband_curves\\616894.csv\n",
      "✔️ Ya existe: data\\processed\\temp\\asassn_vband_curves\\304857.csv\n",
      "✔️ Ya existe: data\\processed\\temp\\asassn_vband_curves\\183808.csv\n",
      "✔️ Ya existe: data\\processed\\temp\\asassn_vband_curves\\AP29040201.csv\n",
      "✔️ Ya existe: data\\processed\\temp\\asassn_vband_curves\\29406459.csv\n",
      "✔️ Ya existe: data\\processed\\temp\\asassn_vband_curves\\28546084.csv\n",
      "✔️ Ya existe: data\\processed\\temp\\asassn_vband_curves\\AP716287.csv\n",
      "✔️ Ya existe: data\\processed\\temp\\asassn_vband_curves\\510692.csv\n",
      "✔️ Ya existe: data\\processed\\temp\\asassn_vband_curves\\17985.csv\n",
      "✔️ Ya existe: data\\processed\\temp\\asassn_vband_curves\\395024.csv\n",
      "✔️ Ya existe: data\\processed\\temp\\asassn_vband_curves\\AP28035740.csv\n",
      "✔️ Ya existe: data\\processed\\temp\\asassn_vband_curves\\J194122.05+325451.8.csv\n",
      "✔️ Ya existe: data\\processed\\temp\\asassn_vband_curves\\649131.csv\n",
      "✔️ Ya existe: data\\processed\\temp\\asassn_vband_curves\\604743.csv\n",
      "✔️ Ya existe: data\\processed\\temp\\asassn_vband_curves\\404083.csv\n",
      "✔️ Ya existe: data\\processed\\temp\\asassn_vband_curves\\442723.csv\n",
      "✔️ Ya existe: data\\processed\\temp\\asassn_vband_curves\\AP13506616.csv\n",
      "✔️ Ya existe: data\\processed\\temp\\asassn_vband_curves\\241945.csv\n",
      "✔️ Ya existe: data\\processed\\temp\\asassn_vband_curves\\150934.csv\n",
      "✔️ Ya existe: data\\processed\\temp\\asassn_vband_curves\\356777.csv\n",
      "✔️ Ya existe: data\\processed\\temp\\asassn_vband_curves\\131268.csv\n",
      "✔️ Ya existe: data\\processed\\temp\\asassn_vband_curves\\AP28164616.csv\n",
      "✔️ Ya existe: data\\processed\\temp\\asassn_vband_curves\\68497.csv\n"
     ]
    },
    {
     "name": "stderr",
     "output_type": "stream",
     "text": [
      "  0%|          | 40/12444 [00:02<11:07, 18.58it/s]"
     ]
    },
    {
     "name": "stdout",
     "output_type": "stream",
     "text": [
      "❌ No se encontró enlace UUID para ASASSN-V J203106.30-491456.2\n"
     ]
    },
    {
     "name": "stderr",
     "output_type": "stream",
     "text": [
      "  1%|          | 120/12444 [00:20<1:34:55,  2.16it/s]"
     ]
    },
    {
     "name": "stdout",
     "output_type": "stream",
     "text": [
      "❌ No se encontró enlace UUID para ASASSN-V J230156.16-480348.6\n"
     ]
    },
    {
     "name": "stderr",
     "output_type": "stream",
     "text": [
      "  2%|▏         | 224/12444 [01:37<1:50:23,  1.84it/s]"
     ]
    },
    {
     "name": "stdout",
     "output_type": "stream",
     "text": [
      "❌ No se encontró enlace UUID para ASASSN-V J161926.72+560600.6\n"
     ]
    },
    {
     "name": "stderr",
     "output_type": "stream",
     "text": [
      "  2%|▏         | 281/12444 [02:19<2:25:57,  1.39it/s]"
     ]
    },
    {
     "name": "stdout",
     "output_type": "stream",
     "text": [
      "❌ No se encontró enlace UUID para ASASSN-V J161514.91-283733.2\n"
     ]
    },
    {
     "name": "stderr",
     "output_type": "stream",
     "text": [
      "  4%|▎         | 454/12444 [04:29<3:12:02,  1.04it/s]"
     ]
    },
    {
     "name": "stdout",
     "output_type": "stream",
     "text": [
      "❌ No se encontró enlace UUID para ASASSN-V J181841.86-235621.5\n"
     ]
    },
    {
     "name": "stderr",
     "output_type": "stream",
     "text": [
      "  5%|▍         | 565/12444 [05:50<1:35:32,  2.07it/s]"
     ]
    },
    {
     "name": "stdout",
     "output_type": "stream",
     "text": [
      "❌ No se encontró enlace UUID para ASASSN-V J050349.25-282308.8\n"
     ]
    },
    {
     "name": "stderr",
     "output_type": "stream",
     "text": [
      "  5%|▍         | 594/12444 [06:10<1:43:04,  1.92it/s]"
     ]
    },
    {
     "name": "stdout",
     "output_type": "stream",
     "text": [
      "❌ No se encontró enlace UUID para ASASSN-V J051541.40+010440.1\n"
     ]
    },
    {
     "name": "stderr",
     "output_type": "stream",
     "text": [
      "  5%|▌         | 663/12444 [07:01<2:13:16,  1.47it/s]"
     ]
    },
    {
     "name": "stdout",
     "output_type": "stream",
     "text": [
      "❌ No se encontró enlace UUID para ASASSN-V J082034.10-280458.7\n"
     ]
    },
    {
     "name": "stderr",
     "output_type": "stream",
     "text": [
      "  6%|▌         | 743/12444 [07:59<2:49:29,  1.15it/s]"
     ]
    },
    {
     "name": "stdout",
     "output_type": "stream",
     "text": [
      "⚠️ [ConnectionError] Esperando 0.5s antes de reintentar...\n",
      "❌ No se encontró enlace UUID para ASASSN-V J180035.58+081014.5\n"
     ]
    },
    {
     "name": "stderr",
     "output_type": "stream",
     "text": [
      "  6%|▋         | 804/12444 [08:56<2:51:01,  1.13it/s] "
     ]
    },
    {
     "name": "stdout",
     "output_type": "stream",
     "text": [
      "❌ No se encontró enlace UUID para ASASSN-V J092009.57+004245.9\n"
     ]
    },
    {
     "name": "stderr",
     "output_type": "stream",
     "text": [
      "  7%|▋         | 812/12444 [09:02<2:52:23,  1.12it/s]"
     ]
    },
    {
     "name": "stdout",
     "output_type": "stream",
     "text": [
      "❌ No se encontró enlace UUID para ASASSN-V J203641.30-191500.4\n"
     ]
    },
    {
     "name": "stderr",
     "output_type": "stream",
     "text": [
      "  7%|▋         | 893/12444 [10:26<22:18:10,  6.95s/it]"
     ]
    },
    {
     "name": "stdout",
     "output_type": "stream",
     "text": [
      "⚠️ [ConnectionError] Esperando 0.5s antes de reintentar...\n"
     ]
    },
    {
     "name": "stderr",
     "output_type": "stream",
     "text": [
      "  8%|▊         | 1009/12444 [11:34<2:22:51,  1.33it/s]"
     ]
    },
    {
     "name": "stdout",
     "output_type": "stream",
     "text": [
      "❌ No se encontró enlace UUID para ASASSN-V J213513.39-133322.9\n"
     ]
    },
    {
     "name": "stderr",
     "output_type": "stream",
     "text": [
      "  9%|▊         | 1086/12444 [12:30<1:51:30,  1.70it/s]"
     ]
    },
    {
     "name": "stdout",
     "output_type": "stream",
     "text": [
      "❌ No se encontró enlace UUID para ASASSN-V J091025.24+120827.3\n"
     ]
    },
    {
     "name": "stderr",
     "output_type": "stream",
     "text": [
      "  9%|▉         | 1095/12444 [12:36<1:57:10,  1.61it/s]"
     ]
    },
    {
     "name": "stdout",
     "output_type": "stream",
     "text": [
      "❌ No se encontró enlace UUID para ASASSN-V J085323.78+164935.5\n"
     ]
    },
    {
     "name": "stderr",
     "output_type": "stream",
     "text": [
      " 10%|█         | 1306/12444 [15:16<2:16:37,  1.36it/s] "
     ]
    },
    {
     "name": "stdout",
     "output_type": "stream",
     "text": [
      "❌ No se encontró enlace UUID para ASASSN-V J005126.84+092132.8\n"
     ]
    },
    {
     "name": "stderr",
     "output_type": "stream",
     "text": [
      " 11%|█         | 1388/12444 [16:17<2:03:22,  1.49it/s] "
     ]
    },
    {
     "name": "stdout",
     "output_type": "stream",
     "text": [
      "❌ No se encontró enlace UUID para ASASSN-V J211147.64+441350.7\n",
      "⚠️ [ReadTimeout] Esperando 0.5s antes de reintentar...\n"
     ]
    },
    {
     "name": "stderr",
     "output_type": "stream",
     "text": [
      " 12%|█▏        | 1491/12444 [17:44<2:13:21,  1.37it/s] "
     ]
    },
    {
     "name": "stdout",
     "output_type": "stream",
     "text": [
      "❌ No se encontró enlace UUID para ASASSN-V J231521.44+290501.2\n"
     ]
    },
    {
     "name": "stderr",
     "output_type": "stream",
     "text": [
      " 12%|█▏        | 1521/12444 [18:11<2:01:18,  1.50it/s] "
     ]
    },
    {
     "name": "stdout",
     "output_type": "stream",
     "text": [
      "❌ No se encontró enlace UUID para ASASSN-V J160043.63+074803.2\n"
     ]
    },
    {
     "name": "stderr",
     "output_type": "stream",
     "text": [
      " 14%|█▍        | 1764/12444 [21:22<1:32:02,  1.93it/s] "
     ]
    },
    {
     "name": "stdout",
     "output_type": "stream",
     "text": [
      "❌ No se encontró enlace UUID para ASASSN-V J215418.68+091143.7\n"
     ]
    },
    {
     "name": "stderr",
     "output_type": "stream",
     "text": [
      " 14%|█▍        | 1769/12444 [21:27<2:16:16,  1.31it/s]"
     ]
    },
    {
     "name": "stdout",
     "output_type": "stream",
     "text": [
      "❌ No se encontró enlace UUID para ASASSN-V J082219.23+202326.2\n"
     ]
    },
    {
     "name": "stderr",
     "output_type": "stream",
     "text": [
      " 16%|█▌        | 1967/12444 [23:52<1:44:05,  1.68it/s]"
     ]
    },
    {
     "name": "stdout",
     "output_type": "stream",
     "text": [
      "❌ No se encontró enlace UUID para ASASSN-V J015727.88+182740.1\n"
     ]
    },
    {
     "name": "stderr",
     "output_type": "stream",
     "text": [
      " 16%|█▌        | 1988/12444 [24:07<1:29:13,  1.95it/s]"
     ]
    },
    {
     "name": "stdout",
     "output_type": "stream",
     "text": [
      "❌ No se encontró enlace UUID para ASASSN-V J014100.41-675327.5\n"
     ]
    },
    {
     "name": "stderr",
     "output_type": "stream",
     "text": [
      " 17%|█▋        | 2166/12444 [26:18<2:13:34,  1.28it/s]"
     ]
    },
    {
     "name": "stdout",
     "output_type": "stream",
     "text": [
      "❌ No se encontró enlace UUID para ASASSN-V J022732.88+130617.1\n"
     ]
    },
    {
     "name": "stderr",
     "output_type": "stream",
     "text": [
      " 19%|█▉        | 2345/12444 [28:28<1:47:21,  1.57it/s]"
     ]
    },
    {
     "name": "stdout",
     "output_type": "stream",
     "text": [
      "❌ No se encontró enlace UUID para ASASSN-V J145324.19-100921.8\n"
     ]
    },
    {
     "name": "stderr",
     "output_type": "stream",
     "text": [
      " 19%|█▉        | 2354/12444 [28:33<1:20:33,  2.09it/s]"
     ]
    },
    {
     "name": "stdout",
     "output_type": "stream",
     "text": [
      "❌ No se encontró enlace UUID para ASASSN-V J195849.70-385613.3\n"
     ]
    },
    {
     "name": "stderr",
     "output_type": "stream",
     "text": [
      " 19%|█▉        | 2357/12444 [28:36<1:44:21,  1.61it/s]"
     ]
    },
    {
     "name": "stdout",
     "output_type": "stream",
     "text": [
      "❌ No se encontró enlace UUID para ASASSN-V J215256.05+191658.8\n"
     ]
    },
    {
     "name": "stderr",
     "output_type": "stream",
     "text": [
      " 19%|█▉        | 2422/12444 [29:22<1:34:09,  1.77it/s]"
     ]
    },
    {
     "name": "stdout",
     "output_type": "stream",
     "text": [
      "❌ No se encontró enlace UUID para ASASSN-V J075443.03+500729.1\n"
     ]
    },
    {
     "name": "stderr",
     "output_type": "stream",
     "text": [
      " 21%|██▏       | 2652/12444 [32:20<1:53:39,  1.44it/s] "
     ]
    },
    {
     "name": "stdout",
     "output_type": "stream",
     "text": [
      "❌ No se encontró enlace UUID para ASASSN-V J165358.94+201008.3\n"
     ]
    },
    {
     "name": "stderr",
     "output_type": "stream",
     "text": [
      " 23%|██▎       | 2836/12444 [34:29<1:38:20,  1.63it/s]"
     ]
    },
    {
     "name": "stdout",
     "output_type": "stream",
     "text": [
      "❌ No se encontró enlace UUID para ASASSN-V J124937.62-633209.9\n"
     ]
    },
    {
     "name": "stderr",
     "output_type": "stream",
     "text": [
      " 24%|██▍       | 3012/12444 [36:32<1:58:37,  1.33it/s]"
     ]
    },
    {
     "name": "stdout",
     "output_type": "stream",
     "text": [
      "❌ No se encontró enlace UUID para ASASSN-V J080656.67+152720.2\n"
     ]
    },
    {
     "name": "stderr",
     "output_type": "stream",
     "text": [
      " 25%|██▌       | 3115/12444 [37:53<1:57:28,  1.32it/s] "
     ]
    },
    {
     "name": "stdout",
     "output_type": "stream",
     "text": [
      "❌ No se encontró enlace UUID para ASASSN-V J215154.32+090121.3\n"
     ]
    },
    {
     "name": "stderr",
     "output_type": "stream",
     "text": [
      " 25%|██▌       | 3119/12444 [37:56<1:47:15,  1.45it/s]"
     ]
    },
    {
     "name": "stdout",
     "output_type": "stream",
     "text": [
      "❌ No se encontró enlace UUID para ASASSN-V J233434.64-011938.0\n"
     ]
    },
    {
     "name": "stderr",
     "output_type": "stream",
     "text": [
      " 26%|██▌       | 3198/12444 [38:51<2:02:48,  1.25it/s]"
     ]
    },
    {
     "name": "stdout",
     "output_type": "stream",
     "text": [
      "❌ No se encontró enlace UUID para ASASSN-V J002208.66+400618.6\n",
      "⚠️ [ReadTimeout] Esperando 0.5s antes de reintentar...\n",
      "❌ No se encontró enlace UUID para ASASSN-V J150240.94+333423.4\n",
      "⚠️ [ReadTimeout] Esperando 1.0s antes de reintentar...\n",
      "⚠️ [ReadTimeout] Esperando 2.0s antes de reintentar...\n",
      "⚠️ [ReadTimeout] Esperando 4.0s antes de reintentar...\n",
      "⚠️ [ReadTimeout] Esperando 8.0s antes de reintentar...\n"
     ]
    },
    {
     "name": "stderr",
     "output_type": "stream",
     "text": [
      " 26%|██▌       | 3199/12444 [39:59<53:38:46, 20.89s/it]"
     ]
    },
    {
     "name": "stdout",
     "output_type": "stream",
     "text": [
      "❌ Fallo persistente tras 5 intentos: https://asas-sn.osu.edu/variables/4245c6c9-af65-4807-bfb0-8826c2cb67f7.csv\n",
      "❌ No válido o sin datos HJD: 10302118 (status: N/A)\n"
     ]
    },
    {
     "name": "stderr",
     "output_type": "stream",
     "text": [
      " 27%|██▋       | 3327/12444 [40:37<1:54:06,  1.33it/s] "
     ]
    },
    {
     "name": "stdout",
     "output_type": "stream",
     "text": [
      "❌ No se encontró enlace UUID para ASASSN-V J015631.90-135426.7\n"
     ]
    },
    {
     "name": "stderr",
     "output_type": "stream",
     "text": [
      " 27%|██▋       | 3390/12444 [41:26<1:33:59,  1.61it/s]"
     ]
    },
    {
     "name": "stdout",
     "output_type": "stream",
     "text": [
      "❌ No se encontró enlace UUID para ASASSN-V J192832.33-500134.6\n"
     ]
    },
    {
     "name": "stderr",
     "output_type": "stream",
     "text": [
      " 27%|██▋       | 3420/12444 [41:47<1:50:29,  1.36it/s]"
     ]
    },
    {
     "name": "stdout",
     "output_type": "stream",
     "text": [
      "❌ No se encontró enlace UUID para ASASSN-V J190721.90-204649.9\n"
     ]
    },
    {
     "name": "stderr",
     "output_type": "stream",
     "text": [
      " 28%|██▊       | 3459/12444 [42:14<2:19:37,  1.07it/s]"
     ]
    },
    {
     "name": "stdout",
     "output_type": "stream",
     "text": [
      "❌ No se encontró enlace UUID para ASASSN-V J001856.91+345444.1\n"
     ]
    },
    {
     "name": "stderr",
     "output_type": "stream",
     "text": [
      " 28%|██▊       | 3463/12444 [42:17<2:17:59,  1.08it/s]"
     ]
    },
    {
     "name": "stdout",
     "output_type": "stream",
     "text": [
      "⚠️ [ReadTimeout] Esperando 0.5s antes de reintentar...\n"
     ]
    },
    {
     "name": "stderr",
     "output_type": "stream",
     "text": [
      " 29%|██▊       | 3570/12444 [43:48<1:34:11,  1.57it/s] "
     ]
    },
    {
     "name": "stdout",
     "output_type": "stream",
     "text": [
      "❌ No se encontró enlace UUID para ASASSN-V J195308.40+474300.0\n"
     ]
    },
    {
     "name": "stderr",
     "output_type": "stream",
     "text": [
      " 29%|██▉       | 3595/12444 [44:05<1:45:47,  1.39it/s]"
     ]
    },
    {
     "name": "stdout",
     "output_type": "stream",
     "text": [
      "❌ No se encontró enlace UUID para ASASSN-V J193103.40+441326.0\n"
     ]
    },
    {
     "name": "stderr",
     "output_type": "stream",
     "text": [
      " 30%|██▉       | 3672/12444 [44:58<1:42:18,  1.43it/s]"
     ]
    },
    {
     "name": "stdout",
     "output_type": "stream",
     "text": [
      "❌ No se encontró enlace UUID para ASASSN-V J090619.18-275831.0\n"
     ]
    },
    {
     "name": "stderr",
     "output_type": "stream",
     "text": [
      " 31%|███       | 3844/12444 [46:56<1:07:25,  2.13it/s]"
     ]
    },
    {
     "name": "stdout",
     "output_type": "stream",
     "text": [
      "❌ No se encontró enlace UUID para ASASSN-V J155656.93+352336.7\n"
     ]
    },
    {
     "name": "stderr",
     "output_type": "stream",
     "text": [
      " 32%|███▏      | 3940/12444 [48:04<1:39:41,  1.42it/s]"
     ]
    },
    {
     "name": "stdout",
     "output_type": "stream",
     "text": [
      "❌ No se encontró enlace UUID para ASASSN-V J000222.39+424212.6\n"
     ]
    },
    {
     "name": "stderr",
     "output_type": "stream",
     "text": [
      " 32%|███▏      | 3964/12444 [48:21<1:36:32,  1.46it/s]"
     ]
    },
    {
     "name": "stdout",
     "output_type": "stream",
     "text": [
      "❌ No se encontró enlace UUID para ASASSN-V J161447.06+422732.9\n"
     ]
    },
    {
     "name": "stderr",
     "output_type": "stream",
     "text": [
      " 32%|███▏      | 3972/12444 [48:26<1:47:33,  1.31it/s]"
     ]
    },
    {
     "name": "stdout",
     "output_type": "stream",
     "text": [
      "❌ No se encontró enlace UUID para ASASSN-V J001243.02-455115.4\n"
     ]
    },
    {
     "name": "stderr",
     "output_type": "stream",
     "text": [
      " 33%|███▎      | 4136/12444 [50:29<1:34:30,  1.47it/s] "
     ]
    },
    {
     "name": "stdout",
     "output_type": "stream",
     "text": [
      "❌ No se encontró enlace UUID para ASASSN-V J152506.93-032654.6\n"
     ]
    },
    {
     "name": "stderr",
     "output_type": "stream",
     "text": [
      " 35%|███▌      | 4401/12444 [53:42<1:01:46,  2.17it/s] "
     ]
    },
    {
     "name": "stdout",
     "output_type": "stream",
     "text": [
      "❌ No se encontró enlace UUID para ASASSN-V J223735.43+082848.9\n"
     ]
    },
    {
     "name": "stderr",
     "output_type": "stream",
     "text": [
      " 36%|███▋      | 4529/12444 [55:13<1:02:28,  2.11it/s]"
     ]
    },
    {
     "name": "stdout",
     "output_type": "stream",
     "text": [
      "❌ No se encontró enlace UUID para ASASSN-V J190933.50+465904.0\n"
     ]
    },
    {
     "name": "stderr",
     "output_type": "stream",
     "text": [
      " 37%|███▋      | 4649/12444 [56:40<1:11:52,  1.81it/s]"
     ]
    },
    {
     "name": "stdout",
     "output_type": "stream",
     "text": [
      "❌ No se encontró enlace UUID para ASASSN-V J142138.18+075319.6\n"
     ]
    },
    {
     "name": "stderr",
     "output_type": "stream",
     "text": [
      " 38%|███▊      | 4709/12444 [57:21<55:43,  2.31it/s]  "
     ]
    },
    {
     "name": "stdout",
     "output_type": "stream",
     "text": [
      "⚠️ [ReadTimeout] Esperando 0.5s antes de reintentar...\n",
      "⚠️ [ReadTimeout] Esperando 0.5s antes de reintentar...\n",
      "⚠️ [ReadTimeout] Esperando 0.5s antes de reintentar...\n",
      "⚠️ [ReadTimeout] Esperando 0.5s antes de reintentar...\n"
     ]
    },
    {
     "name": "stderr",
     "output_type": "stream",
     "text": [
      " 38%|███▊      | 4725/12444 [57:52<1:23:42,  1.54it/s] "
     ]
    },
    {
     "name": "stdout",
     "output_type": "stream",
     "text": [
      "❌ No se encontró enlace UUID para ASASSN-V J081318.53-010326.7\n"
     ]
    },
    {
     "name": "stderr",
     "output_type": "stream",
     "text": [
      " 39%|███▊      | 4818/12444 [58:58<2:03:54,  1.03it/s]"
     ]
    },
    {
     "name": "stdout",
     "output_type": "stream",
     "text": [
      "❌ No se encontró enlace UUID para ASASSN-V J104356.57+580731.2\n",
      "⚠️ [ReadTimeout] Esperando 0.5s antes de reintentar...\n",
      "⚠️ [ReadTimeout] Esperando 0.5s antes de reintentar...\n"
     ]
    },
    {
     "name": "stderr",
     "output_type": "stream",
     "text": [
      " 39%|███▉      | 4897/12444 [1:00:25<1:25:29,  1.47it/s] "
     ]
    },
    {
     "name": "stdout",
     "output_type": "stream",
     "text": [
      "❌ No se encontró enlace UUID para ASASSN-V J152403.12+013422.8\n"
     ]
    },
    {
     "name": "stderr",
     "output_type": "stream",
     "text": [
      " 40%|███▉      | 4919/12444 [1:00:40<1:09:03,  1.82it/s]"
     ]
    },
    {
     "name": "stdout",
     "output_type": "stream",
     "text": [
      "❌ No se encontró enlace UUID para ASASSN-V J215431.48-094730.5\n"
     ]
    },
    {
     "name": "stderr",
     "output_type": "stream",
     "text": [
      " 40%|███▉      | 4932/12444 [1:00:48<1:04:50,  1.93it/s]"
     ]
    },
    {
     "name": "stdout",
     "output_type": "stream",
     "text": [
      "❌ No se encontró enlace UUID para ASASSN-V J033528.64-254422.1\n"
     ]
    },
    {
     "name": "stderr",
     "output_type": "stream",
     "text": [
      " 40%|███▉      | 4972/12444 [1:01:16<55:24,  2.25it/s]  "
     ]
    },
    {
     "name": "stdout",
     "output_type": "stream",
     "text": [
      "❌ No se encontró enlace UUID para ASASSN-V J174021.97+485358.2\n"
     ]
    },
    {
     "name": "stderr",
     "output_type": "stream",
     "text": [
      " 41%|████      | 5121/12444 [1:03:01<1:21:40,  1.49it/s]"
     ]
    },
    {
     "name": "stdout",
     "output_type": "stream",
     "text": [
      "❌ No se encontró enlace UUID para ASASSN-V J162609.47-035323.0\n"
     ]
    },
    {
     "name": "stderr",
     "output_type": "stream",
     "text": [
      " 41%|████      | 5133/12444 [1:03:09<1:33:23,  1.30it/s]"
     ]
    },
    {
     "name": "stdout",
     "output_type": "stream",
     "text": [
      "❌ No se encontró enlace UUID para ASASSN-V J142927.06-380409.9\n"
     ]
    },
    {
     "name": "stderr",
     "output_type": "stream",
     "text": [
      " 42%|████▏     | 5184/12444 [1:03:44<1:10:46,  1.71it/s]"
     ]
    },
    {
     "name": "stdout",
     "output_type": "stream",
     "text": [
      "❌ No se encontró enlace UUID para ASASSN-V J202314.74-203955.6\n"
     ]
    },
    {
     "name": "stderr",
     "output_type": "stream",
     "text": [
      " 43%|████▎     | 5310/12444 [1:05:12<1:22:57,  1.43it/s]"
     ]
    },
    {
     "name": "stdout",
     "output_type": "stream",
     "text": [
      "⚠️ [ReadTimeout] Esperando 0.5s antes de reintentar...\n",
      "⚠️ [ReadTimeout] Esperando 1.0s antes de reintentar...\n",
      "⚠️ [ReadTimeout] Esperando 2.0s antes de reintentar...\n",
      "⚠️ [ReadTimeout] Esperando 4.0s antes de reintentar...\n",
      "⚠️ [ReadTimeout] Esperando 8.0s antes de reintentar...\n"
     ]
    },
    {
     "name": "stderr",
     "output_type": "stream",
     "text": [
      " 43%|████▎     | 5311/12444 [1:06:20<32:42:00, 16.50s/it]"
     ]
    },
    {
     "name": "stdout",
     "output_type": "stream",
     "text": [
      "❌ Fallo persistente tras 5 intentos: https://asas-sn.osu.edu/variables/6ee2ffd7-c0a6-4f8b-80b5-eaea5e71f49d.csv\n",
      "❌ No válido o sin datos HJD: 10497067 (status: N/A)\n"
     ]
    },
    {
     "name": "stderr",
     "output_type": "stream",
     "text": [
      " 44%|████▍     | 5531/12444 [1:08:07<1:08:31,  1.68it/s] "
     ]
    },
    {
     "name": "stdout",
     "output_type": "stream",
     "text": [
      "❌ No se encontró enlace UUID para ASASSN-V J173946.90-271809.0\n"
     ]
    },
    {
     "name": "stderr",
     "output_type": "stream",
     "text": [
      " 44%|████▍     | 5537/12444 [1:08:12<1:27:25,  1.32it/s]"
     ]
    },
    {
     "name": "stdout",
     "output_type": "stream",
     "text": [
      "❌ No se encontró enlace UUID para ASASSN-V J205957.53-213935.2\n"
     ]
    },
    {
     "name": "stderr",
     "output_type": "stream",
     "text": [
      " 45%|████▍     | 5579/12444 [1:08:40<1:22:09,  1.39it/s]"
     ]
    },
    {
     "name": "stdout",
     "output_type": "stream",
     "text": [
      "❌ No se encontró enlace UUID para ASASSN-V J095725.26-355240.1\n"
     ]
    },
    {
     "name": "stderr",
     "output_type": "stream",
     "text": [
      " 46%|████▌     | 5686/12444 [1:09:54<57:16,  1.97it/s]  "
     ]
    },
    {
     "name": "stdout",
     "output_type": "stream",
     "text": [
      "❌ No se encontró enlace UUID para ASASSN-V J121226.24-580020.5\n"
     ]
    },
    {
     "name": "stderr",
     "output_type": "stream",
     "text": [
      " 46%|████▌     | 5687/12444 [1:09:55<1:14:03,  1.52it/s]"
     ]
    },
    {
     "name": "stdout",
     "output_type": "stream",
     "text": [
      "❌ No se encontró enlace UUID para ASASSN-V J073418.56-170626.5\n"
     ]
    },
    {
     "name": "stderr",
     "output_type": "stream",
     "text": [
      " 46%|████▌     | 5723/12444 [1:10:19<52:20,  2.14it/s]  "
     ]
    },
    {
     "name": "stdout",
     "output_type": "stream",
     "text": [
      "❌ No se encontró enlace UUID para ASASSN-V J015543.03+002804.9\n"
     ]
    },
    {
     "name": "stderr",
     "output_type": "stream",
     "text": [
      " 46%|████▌     | 5728/12444 [1:10:23<1:30:51,  1.23it/s]"
     ]
    },
    {
     "name": "stdout",
     "output_type": "stream",
     "text": [
      "❌ No se encontró enlace UUID para ASASSN-V J165841.83+413115.6\n"
     ]
    },
    {
     "name": "stderr",
     "output_type": "stream",
     "text": [
      " 47%|████▋     | 5887/12444 [1:12:15<1:09:45,  1.57it/s]"
     ]
    },
    {
     "name": "stdout",
     "output_type": "stream",
     "text": [
      "⚠️ [ReadTimeout] Esperando 0.5s antes de reintentar...\n",
      "⚠️ [ReadTimeout] Esperando 1.0s antes de reintentar...\n",
      "⚠️ [ReadTimeout] Esperando 2.0s antes de reintentar...\n",
      "⚠️ [ReadTimeout] Esperando 4.0s antes de reintentar...\n",
      "⚠️ [ReadTimeout] Esperando 8.0s antes de reintentar...\n"
     ]
    },
    {
     "name": "stderr",
     "output_type": "stream",
     "text": [
      " 47%|████▋     | 5888/12444 [1:13:24<37:32:07, 20.61s/it]"
     ]
    },
    {
     "name": "stdout",
     "output_type": "stream",
     "text": [
      "❌ Fallo persistente tras 5 intentos: https://asas-sn.osu.edu/variables/7a896f89-115c-4cde-b8e5-629b3018359c.csv\n",
      "❌ No válido o sin datos HJD: 10337812 (status: N/A)\n"
     ]
    },
    {
     "name": "stderr",
     "output_type": "stream",
     "text": [
      " 48%|████▊     | 6007/12444 [1:14:02<58:34,  1.83it/s]   "
     ]
    },
    {
     "name": "stdout",
     "output_type": "stream",
     "text": [
      "❌ No se encontró enlace UUID para ASASSN-V J011013.19+600434.9\n"
     ]
    },
    {
     "name": "stderr",
     "output_type": "stream",
     "text": [
      " 49%|████▉     | 6075/12444 [1:14:58<1:09:18,  1.53it/s] "
     ]
    },
    {
     "name": "stdout",
     "output_type": "stream",
     "text": [
      "❌ No se encontró enlace UUID para ASASSN-V J205738.78-142545.4\n"
     ]
    },
    {
     "name": "stderr",
     "output_type": "stream",
     "text": [
      " 49%|████▉     | 6155/12444 [1:15:55<52:47,  1.99it/s]  "
     ]
    },
    {
     "name": "stdout",
     "output_type": "stream",
     "text": [
      "❌ No se encontró enlace UUID para ASASSN-V J025443.76+224402.5\n"
     ]
    },
    {
     "name": "stderr",
     "output_type": "stream",
     "text": [
      " 50%|████▉     | 6170/12444 [1:16:06<1:05:30,  1.60it/s]"
     ]
    },
    {
     "name": "stdout",
     "output_type": "stream",
     "text": [
      "⚠️ [ReadTimeout] Esperando 0.5s antes de reintentar...\n"
     ]
    },
    {
     "name": "stderr",
     "output_type": "stream",
     "text": [
      " 50%|█████     | 6264/12444 [1:17:29<1:20:51,  1.27it/s] "
     ]
    },
    {
     "name": "stdout",
     "output_type": "stream",
     "text": [
      "❌ No se encontró enlace UUID para ASASSN-V J194011.32-102525.8\n"
     ]
    },
    {
     "name": "stderr",
     "output_type": "stream",
     "text": [
      " 51%|█████     | 6295/12444 [1:17:51<1:32:51,  1.10it/s]"
     ]
    },
    {
     "name": "stdout",
     "output_type": "stream",
     "text": [
      "❌ No se encontró enlace UUID para ASASSN-V J094550.86-194359.7\n"
     ]
    },
    {
     "name": "stderr",
     "output_type": "stream",
     "text": [
      " 51%|█████     | 6297/12444 [1:17:51<1:02:28,  1.64it/s]"
     ]
    },
    {
     "name": "stdout",
     "output_type": "stream",
     "text": [
      "❌ No se encontró enlace UUID para ASASSN-V J215804.38-044041.2\n"
     ]
    },
    {
     "name": "stderr",
     "output_type": "stream",
     "text": [
      " 51%|█████▏    | 6407/12444 [1:19:07<1:06:56,  1.50it/s]"
     ]
    },
    {
     "name": "stdout",
     "output_type": "stream",
     "text": [
      "❌ No se encontró enlace UUID para ASASSN-V J190149.85-043249.3\n"
     ]
    },
    {
     "name": "stderr",
     "output_type": "stream",
     "text": [
      " 55%|█████▍    | 6793/12444 [1:23:51<1:03:45,  1.48it/s] "
     ]
    },
    {
     "name": "stdout",
     "output_type": "stream",
     "text": [
      "❌ No se encontró enlace UUID para ASASSN-V J071125.98+440405.2\n"
     ]
    },
    {
     "name": "stderr",
     "output_type": "stream",
     "text": [
      " 55%|█████▍    | 6805/12444 [1:23:59<1:09:29,  1.35it/s]"
     ]
    },
    {
     "name": "stdout",
     "output_type": "stream",
     "text": [
      "⚠️ [ReadTimeout] Esperando 0.5s antes de reintentar...\n"
     ]
    },
    {
     "name": "stderr",
     "output_type": "stream",
     "text": [
      " 55%|█████▍    | 6806/12444 [1:24:59<26:50:21, 17.14s/it]"
     ]
    },
    {
     "name": "stdout",
     "output_type": "stream",
     "text": [
      "❌ No se encontró enlace UUID para ASASSN-V J031130.94-315250.7\n"
     ]
    },
    {
     "name": "stderr",
     "output_type": "stream",
     "text": [
      " 55%|█████▌    | 6876/12444 [1:25:05<1:03:19,  1.47it/s] "
     ]
    },
    {
     "name": "stdout",
     "output_type": "stream",
     "text": [
      "⚠️ [ReadTimeout] Esperando 0.5s antes de reintentar...\n",
      "⚠️ [ReadTimeout] Esperando 1.0s antes de reintentar...\n",
      "⚠️ [ReadTimeout] Esperando 2.0s antes de reintentar...\n",
      "⚠️ [ReadTimeout] Esperando 4.0s antes de reintentar...\n",
      "❌ No se encontró enlace UUID para ASASSN-V J053711.51-291025.1\n",
      "❌ No se encontró enlace UUID para ASASSN-V J015452.96+011052.9\n",
      "⚠️ [ReadTimeout] Esperando 8.0s antes de reintentar...\n"
     ]
    },
    {
     "name": "stderr",
     "output_type": "stream",
     "text": [
      " 55%|█████▌    | 6878/12444 [1:26:12<4:43:58,  3.06s/it]"
     ]
    },
    {
     "name": "stdout",
     "output_type": "stream",
     "text": [
      "❌ Fallo persistente tras 5 intentos: https://asas-sn.osu.edu/variables/8e3970bc-98d3-4668-b259-f820e0c791a7.csv\n",
      "❌ No válido o sin datos HJD: 10321981 (status: N/A)\n"
     ]
    },
    {
     "name": "stderr",
     "output_type": "stream",
     "text": [
      " 56%|█████▌    | 6999/12444 [1:26:46<55:19,  1.64it/s]  "
     ]
    },
    {
     "name": "stdout",
     "output_type": "stream",
     "text": [
      "❌ No se encontró enlace UUID para ASASSN-V J210757.96-051740.6\n"
     ]
    },
    {
     "name": "stderr",
     "output_type": "stream",
     "text": [
      " 57%|█████▋    | 7112/12444 [1:28:03<44:05,  2.02it/s]  "
     ]
    },
    {
     "name": "stdout",
     "output_type": "stream",
     "text": [
      "❌ No se encontró enlace UUID para ASASSN-V J234020.65+764210.5\n"
     ]
    },
    {
     "name": "stderr",
     "output_type": "stream",
     "text": [
      " 58%|█████▊    | 7168/12444 [1:28:42<44:06,  1.99it/s]  "
     ]
    },
    {
     "name": "stdout",
     "output_type": "stream",
     "text": [
      "❌ No se encontró enlace UUID para ASASSN-V J120054.51-272447.6\n"
     ]
    },
    {
     "name": "stderr",
     "output_type": "stream",
     "text": [
      " 58%|█████▊    | 7173/12444 [1:28:47<1:13:54,  1.19it/s]"
     ]
    },
    {
     "name": "stdout",
     "output_type": "stream",
     "text": [
      "❌ No se encontró enlace UUID para ASASSN-V J171722.03+580558.6\n"
     ]
    },
    {
     "name": "stderr",
     "output_type": "stream",
     "text": [
      " 58%|█████▊    | 7198/12444 [1:29:04<1:04:49,  1.35it/s]"
     ]
    },
    {
     "name": "stdout",
     "output_type": "stream",
     "text": [
      "⚠️ [ReadTimeout] Esperando 0.5s antes de reintentar...\n",
      "❌ No se encontró enlace UUID para ASASSN-V J085902.65+115628.5\n",
      "❌ No se encontró enlace UUID para ASASSN-V J215045.86+230044.1\n"
     ]
    },
    {
     "name": "stderr",
     "output_type": "stream",
     "text": [
      " 58%|█████▊    | 7200/12444 [1:30:02<17:46:18, 12.20s/it]"
     ]
    },
    {
     "name": "stdout",
     "output_type": "stream",
     "text": [
      "⚠️ [ReadTimeout] Esperando 0.5s antes de reintentar...\n",
      "⚠️ [ReadTimeout] Esperando 1.0s antes de reintentar...\n",
      "⚠️ [ReadTimeout] Esperando 2.0s antes de reintentar...\n",
      "⚠️ [ReadTimeout] Esperando 4.0s antes de reintentar...\n",
      "⚠️ [ReadTimeout] Esperando 8.0s antes de reintentar...\n"
     ]
    },
    {
     "name": "stderr",
     "output_type": "stream",
     "text": [
      " 58%|█████▊    | 7256/12444 [1:31:05<2:33:07,  1.77s/it] "
     ]
    },
    {
     "name": "stdout",
     "output_type": "stream",
     "text": [
      "❌ Fallo persistente tras 5 intentos: https://asas-sn.osu.edu/variables/9608dfaa-71cc-40ce-a0ea-f62dc962cd43.csv\n",
      "❌ No válido o sin datos HJD: 12361917 (status: N/A)\n"
     ]
    },
    {
     "name": "stderr",
     "output_type": "stream",
     "text": [
      " 59%|█████▉    | 7327/12444 [1:31:06<56:43,  1.50it/s]  "
     ]
    },
    {
     "name": "stdout",
     "output_type": "stream",
     "text": [
      "❌ No se encontró enlace UUID para ASASSN-V J182119.53-303921.4\n"
     ]
    },
    {
     "name": "stderr",
     "output_type": "stream",
     "text": [
      " 59%|█████▉    | 7355/12444 [1:31:25<1:08:37,  1.24it/s]"
     ]
    },
    {
     "name": "stdout",
     "output_type": "stream",
     "text": [
      "⚠️ [ReadTimeout] Esperando 0.5s antes de reintentar...\n"
     ]
    },
    {
     "name": "stderr",
     "output_type": "stream",
     "text": [
      " 60%|██████    | 7515/12444 [1:33:32<36:55,  2.22it/s]   "
     ]
    },
    {
     "name": "stdout",
     "output_type": "stream",
     "text": [
      "❌ No se encontró enlace UUID para ASASSN-V J195512.40+004539.7\n"
     ]
    },
    {
     "name": "stderr",
     "output_type": "stream",
     "text": [
      " 61%|██████    | 7559/12444 [1:34:02<40:12,  2.02it/s]  "
     ]
    },
    {
     "name": "stdout",
     "output_type": "stream",
     "text": [
      "❌ No se encontró enlace UUID para ASASSN-V J194334.13+022755.0\n"
     ]
    },
    {
     "name": "stderr",
     "output_type": "stream",
     "text": [
      " 61%|██████▏   | 7633/12444 [1:35:13<7:00:22,  5.24s/it]"
     ]
    },
    {
     "name": "stdout",
     "output_type": "stream",
     "text": [
      "⚠️ [ReadTimeout] Esperando 0.5s antes de reintentar...\n",
      "❌ No se encontró enlace UUID para ASASSN-V J175416.19-352639.5\n",
      "⚠️ [ReadTimeout] Esperando 1.0s antes de reintentar...\n",
      "⚠️ [ReadTimeout] Esperando 2.0s antes de reintentar...\n",
      "⚠️ [ReadTimeout] Esperando 4.0s antes de reintentar...\n",
      "⚠️ [ReadTimeout] Esperando 8.0s antes de reintentar...\n",
      "❌ No se encontró enlace UUID para ASASSN-V J011827.27+634145.8\n"
     ]
    },
    {
     "name": "stderr",
     "output_type": "stream",
     "text": [
      " 61%|██████▏   | 7643/12444 [1:36:14<7:52:05,  5.90s/it]"
     ]
    },
    {
     "name": "stdout",
     "output_type": "stream",
     "text": [
      "❌ Fallo persistente tras 5 intentos: https://asas-sn.osu.edu/variables/9e026279-196e-4a6e-9210-cf84163fd845.csv\n",
      "❌ No válido o sin datos HJD: 11082393 (status: N/A)\n"
     ]
    },
    {
     "name": "stderr",
     "output_type": "stream",
     "text": [
      " 62%|██████▏   | 7735/12444 [1:36:29<49:53,  1.57it/s]  "
     ]
    },
    {
     "name": "stdout",
     "output_type": "stream",
     "text": [
      "❌ No se encontró enlace UUID para ASASSN-V J233423.09+391423.4\n"
     ]
    },
    {
     "name": "stderr",
     "output_type": "stream",
     "text": [
      " 64%|██████▎   | 7927/12444 [1:38:45<1:04:44,  1.16it/s]"
     ]
    },
    {
     "name": "stdout",
     "output_type": "stream",
     "text": [
      "❌ No se encontró enlace UUID para ASASSN-V J210241.09-004408.3\n"
     ]
    },
    {
     "name": "stderr",
     "output_type": "stream",
     "text": [
      " 64%|██████▍   | 7946/12444 [1:38:56<35:18,  2.12it/s]  "
     ]
    },
    {
     "name": "stdout",
     "output_type": "stream",
     "text": [
      "❌ No se encontró enlace UUID para ASASSN-V J061409.75+453004.1\n"
     ]
    },
    {
     "name": "stderr",
     "output_type": "stream",
     "text": [
      " 64%|██████▍   | 7990/12444 [1:39:31<56:46,  1.31it/s]  "
     ]
    },
    {
     "name": "stdout",
     "output_type": "stream",
     "text": [
      "⚠️ [ReadTimeout] Esperando 0.5s antes de reintentar...\n",
      "⚠️ [ReadTimeout] Esperando 1.0s antes de reintentar...\n",
      "⚠️ [ReadTimeout] Esperando 2.0s antes de reintentar...\n",
      "⚠️ [ReadTimeout] Esperando 4.0s antes de reintentar...\n",
      "⚠️ [ReadTimeout] Esperando 0.5s antes de reintentar...\n",
      "⚠️ [ReadTimeout] Esperando 8.0s antes de reintentar...\n",
      "⚠️ [ReadTimeout] Esperando 0.5s antes de reintentar...\n"
     ]
    },
    {
     "name": "stderr",
     "output_type": "stream",
     "text": [
      " 64%|██████▍   | 7991/12444 [1:40:39<24:02:00, 19.43s/it]"
     ]
    },
    {
     "name": "stdout",
     "output_type": "stream",
     "text": [
      "❌ Fallo persistente tras 5 intentos: https://asas-sn.osu.edu/variables/a4aa9a10-99d6-4b31-913f-5a8c1424a296.csv\n",
      "❌ No válido o sin datos HJD: 10134739 (status: N/A)\n"
     ]
    },
    {
     "name": "stderr",
     "output_type": "stream",
     "text": [
      " 67%|██████▋   | 8284/12444 [1:43:42<40:59,  1.69it/s]   "
     ]
    },
    {
     "name": "stdout",
     "output_type": "stream",
     "text": [
      "❌ No se encontró enlace UUID para ASASSN-V J134441.83+204408.3\n"
     ]
    },
    {
     "name": "stderr",
     "output_type": "stream",
     "text": [
      " 67%|██████▋   | 8349/12444 [1:44:27<31:25,  2.17it/s]  "
     ]
    },
    {
     "name": "stdout",
     "output_type": "stream",
     "text": [
      "❌ No se encontró enlace UUID para ASASSN-V J170213.25+322954.3\n"
     ]
    },
    {
     "name": "stderr",
     "output_type": "stream",
     "text": [
      " 67%|██████▋   | 8363/12444 [1:44:38<44:46,  1.52it/s]  "
     ]
    },
    {
     "name": "stdout",
     "output_type": "stream",
     "text": [
      "❌ No se encontró enlace UUID para ASASSN-V J140906.98-451717.5\n"
     ]
    },
    {
     "name": "stderr",
     "output_type": "stream",
     "text": [
      " 68%|██████▊   | 8444/12444 [1:45:42<34:01,  1.96it/s]  "
     ]
    },
    {
     "name": "stdout",
     "output_type": "stream",
     "text": [
      "❌ No se encontró enlace UUID para ASASSN-V J072929.46-224548.8\n"
     ]
    },
    {
     "name": "stderr",
     "output_type": "stream",
     "text": [
      " 68%|██████▊   | 8461/12444 [1:45:55<53:36,  1.24it/s]"
     ]
    },
    {
     "name": "stdout",
     "output_type": "stream",
     "text": [
      "❌ No se encontró enlace UUID para ASASSN-V J012828.98+385436.9\n"
     ]
    },
    {
     "name": "stderr",
     "output_type": "stream",
     "text": [
      " 68%|██████▊   | 8468/12444 [1:45:59<41:51,  1.58it/s]"
     ]
    },
    {
     "name": "stdout",
     "output_type": "stream",
     "text": [
      "❌ No se encontró enlace UUID para ASASSN-V J171803.84+423413.8\n"
     ]
    },
    {
     "name": "stderr",
     "output_type": "stream",
     "text": [
      " 68%|██████▊   | 8487/12444 [1:46:12<47:29,  1.39it/s]"
     ]
    },
    {
     "name": "stdout",
     "output_type": "stream",
     "text": [
      "❌ No se encontró enlace UUID para ASASSN-V J210833.90+390535.3\n"
     ]
    },
    {
     "name": "stderr",
     "output_type": "stream",
     "text": [
      " 68%|██████▊   | 8510/12444 [1:46:27<33:56,  1.93it/s]"
     ]
    },
    {
     "name": "stdout",
     "output_type": "stream",
     "text": [
      "❌ No se encontró enlace UUID para ASASSN-V J231924.43-085237.9\n"
     ]
    },
    {
     "name": "stderr",
     "output_type": "stream",
     "text": [
      " 69%|██████▊   | 8551/12444 [1:46:55<30:17,  2.14it/s]"
     ]
    },
    {
     "name": "stdout",
     "output_type": "stream",
     "text": [
      "❌ No se encontró enlace UUID para ASASSN-V J192634.10+493030.0\n"
     ]
    },
    {
     "name": "stderr",
     "output_type": "stream",
     "text": [
      " 69%|██████▉   | 8628/12444 [1:47:48<40:19,  1.58it/s]"
     ]
    },
    {
     "name": "stdout",
     "output_type": "stream",
     "text": [
      "⚠️ [ReadTimeout] Esperando 0.5s antes de reintentar...\n",
      "⚠️ [ReadTimeout] Esperando 1.0s antes de reintentar...\n",
      "⚠️ [ReadTimeout] Esperando 2.0s antes de reintentar...\n",
      "⚠️ [ReadTimeout] Esperando 4.0s antes de reintentar...\n",
      "⚠️ [ReadTimeout] Esperando 8.0s antes de reintentar...\n",
      "⚠️ [ReadTimeout] Esperando 0.5s antes de reintentar...\n"
     ]
    },
    {
     "name": "stderr",
     "output_type": "stream",
     "text": [
      " 69%|██████▉   | 8629/12444 [1:48:56<18:17:14, 17.26s/it]"
     ]
    },
    {
     "name": "stdout",
     "output_type": "stream",
     "text": [
      "❌ Fallo persistente tras 5 intentos: https://asas-sn.osu.edu/variables/b1fa6903-3836-4430-9884-8671fba7bd15.csv\n",
      "❌ No válido o sin datos HJD: 10480159 (status: N/A)\n"
     ]
    },
    {
     "name": "stderr",
     "output_type": "stream",
     "text": [
      " 70%|██████▉   | 8704/12444 [1:49:07<46:07,  1.35it/s]   "
     ]
    },
    {
     "name": "stdout",
     "output_type": "stream",
     "text": [
      "⚠️ [ReadTimeout] Esperando 0.5s antes de reintentar...\n"
     ]
    },
    {
     "name": "stderr",
     "output_type": "stream",
     "text": [
      " 71%|███████   | 8810/12444 [1:50:42<39:28,  1.53it/s]  "
     ]
    },
    {
     "name": "stdout",
     "output_type": "stream",
     "text": [
      "❌ No se encontró enlace UUID para ASASSN-V J100041.82-115134.6\n"
     ]
    },
    {
     "name": "stderr",
     "output_type": "stream",
     "text": [
      " 71%|███████   | 8845/12444 [1:51:09<39:00,  1.54it/s]  "
     ]
    },
    {
     "name": "stdout",
     "output_type": "stream",
     "text": [
      "❌ No se encontró enlace UUID para ASASSN-V J222457.21-313718.3\n"
     ]
    },
    {
     "name": "stderr",
     "output_type": "stream",
     "text": [
      " 71%|███████▏  | 8895/12444 [1:51:44<52:41,  1.12it/s]"
     ]
    },
    {
     "name": "stdout",
     "output_type": "stream",
     "text": [
      "❌ No se encontró enlace UUID para ASASSN-V J115834.49-223334.0\n"
     ]
    },
    {
     "name": "stderr",
     "output_type": "stream",
     "text": [
      " 73%|███████▎  | 9121/12444 [1:54:20<27:00,  2.05it/s]  "
     ]
    },
    {
     "name": "stdout",
     "output_type": "stream",
     "text": [
      "❌ No se encontró enlace UUID para ASASSN-V J212732.17+111817.1\n"
     ]
    },
    {
     "name": "stderr",
     "output_type": "stream",
     "text": [
      " 73%|███████▎  | 9122/12444 [1:54:22<45:43,  1.21it/s]"
     ]
    },
    {
     "name": "stdout",
     "output_type": "stream",
     "text": [
      "❌ No se encontró enlace UUID para ASASSN-V J230622.36+020906.1\n"
     ]
    },
    {
     "name": "stderr",
     "output_type": "stream",
     "text": [
      " 75%|███████▍  | 9308/12444 [1:56:32<29:42,  1.76it/s]"
     ]
    },
    {
     "name": "stdout",
     "output_type": "stream",
     "text": [
      "❌ No se encontró enlace UUID para ASASSN-V J162935.28+013819.2\n"
     ]
    },
    {
     "name": "stderr",
     "output_type": "stream",
     "text": [
      " 76%|███████▌  | 9482/12444 [1:58:33<41:06,  1.20it/s]"
     ]
    },
    {
     "name": "stdout",
     "output_type": "stream",
     "text": [
      "❌ No se encontró enlace UUID para ASASSN-V J202632.68-281242.8\n"
     ]
    },
    {
     "name": "stderr",
     "output_type": "stream",
     "text": [
      " 77%|███████▋  | 9550/12444 [1:59:23<27:15,  1.77it/s]  "
     ]
    },
    {
     "name": "stdout",
     "output_type": "stream",
     "text": [
      "❌ No se encontró enlace UUID para ASASSN-V J200331.26-284941.3\n"
     ]
    },
    {
     "name": "stderr",
     "output_type": "stream",
     "text": [
      " 78%|███████▊  | 9665/12444 [2:00:45<29:06,  1.59it/s]  "
     ]
    },
    {
     "name": "stdout",
     "output_type": "stream",
     "text": [
      "❌ No se encontró enlace UUID para ASASSN-V J122129.20+530437.5\n"
     ]
    },
    {
     "name": "stderr",
     "output_type": "stream",
     "text": [
      " 78%|███████▊  | 9723/12444 [2:01:25<28:05,  1.61it/s]"
     ]
    },
    {
     "name": "stdout",
     "output_type": "stream",
     "text": [
      "⚠️ [ReadTimeout] Esperando 0.5s antes de reintentar...\n"
     ]
    },
    {
     "name": "stderr",
     "output_type": "stream",
     "text": [
      " 79%|███████▊  | 9799/12444 [2:02:34<27:30,  1.60it/s]  "
     ]
    },
    {
     "name": "stdout",
     "output_type": "stream",
     "text": [
      "❌ No se encontró enlace UUID para ASASSN-V J115927.06-541556.2\n"
     ]
    },
    {
     "name": "stderr",
     "output_type": "stream",
     "text": [
      " 79%|███████▉  | 9823/12444 [2:02:50<22:04,  1.98it/s]"
     ]
    },
    {
     "name": "stdout",
     "output_type": "stream",
     "text": [
      "❌ No se encontró enlace UUID para ASASSN-V J001654.28+070430.3\n"
     ]
    },
    {
     "name": "stderr",
     "output_type": "stream",
     "text": [
      " 79%|███████▉  | 9844/12444 [2:03:06<36:08,  1.20it/s]"
     ]
    },
    {
     "name": "stdout",
     "output_type": "stream",
     "text": [
      "❌ No se encontró enlace UUID para ASASSN-V J094409.36-561711.4\n"
     ]
    },
    {
     "name": "stderr",
     "output_type": "stream",
     "text": [
      " 79%|███████▉  | 9889/12444 [2:03:38<20:33,  2.07it/s]  "
     ]
    },
    {
     "name": "stdout",
     "output_type": "stream",
     "text": [
      "❌ No se encontró enlace UUID para ASASSN-V J181613.06+495204.8\n"
     ]
    },
    {
     "name": "stderr",
     "output_type": "stream",
     "text": [
      " 80%|███████▉  | 9906/12444 [2:03:50<28:17,  1.50it/s]"
     ]
    },
    {
     "name": "stdout",
     "output_type": "stream",
     "text": [
      "❌ No se encontró enlace UUID para ASASSN-V J143828.47+822939.7\n"
     ]
    },
    {
     "name": "stderr",
     "output_type": "stream",
     "text": [
      " 80%|███████▉  | 9922/12444 [2:04:01<30:06,  1.40it/s]"
     ]
    },
    {
     "name": "stdout",
     "output_type": "stream",
     "text": [
      "❌ No se encontró enlace UUID para ASASSN-V J201338.12+092759.4\n"
     ]
    },
    {
     "name": "stderr",
     "output_type": "stream",
     "text": [
      " 81%|████████  | 10043/12444 [2:05:23<23:09,  1.73it/s]"
     ]
    },
    {
     "name": "stdout",
     "output_type": "stream",
     "text": [
      "❌ No se encontró enlace UUID para ASASSN-V J170818.98-254833.2\n"
     ]
    },
    {
     "name": "stderr",
     "output_type": "stream",
     "text": [
      " 82%|████████▏ | 10164/12444 [2:06:46<36:05,  1.05it/s]"
     ]
    },
    {
     "name": "stdout",
     "output_type": "stream",
     "text": [
      "❌ No se encontró enlace UUID para ASASSN-V J000844.33-014014.6\n"
     ]
    },
    {
     "name": "stderr",
     "output_type": "stream",
     "text": [
      " 82%|████████▏ | 10227/12444 [2:07:39<29:30,  1.25it/s]  "
     ]
    },
    {
     "name": "stdout",
     "output_type": "stream",
     "text": [
      "⚠️ [ReadTimeout] Esperando 0.5s antes de reintentar...\n"
     ]
    },
    {
     "name": "stderr",
     "output_type": "stream",
     "text": [
      " 84%|████████▍ | 10445/12444 [2:10:26<20:52,  1.60it/s]  "
     ]
    },
    {
     "name": "stdout",
     "output_type": "stream",
     "text": [
      "❌ No se encontró enlace UUID para ASASSN-V J063153.82-001913.0\n"
     ]
    },
    {
     "name": "stderr",
     "output_type": "stream",
     "text": [
      " 84%|████████▍ | 10451/12444 [2:10:30<26:29,  1.25it/s]"
     ]
    },
    {
     "name": "stdout",
     "output_type": "stream",
     "text": [
      "❌ No se encontró enlace UUID para ASASSN-V J140532.97-270133.8\n"
     ]
    },
    {
     "name": "stderr",
     "output_type": "stream",
     "text": [
      " 84%|████████▍ | 10501/12444 [2:11:12<20:37,  1.57it/s]  "
     ]
    },
    {
     "name": "stdout",
     "output_type": "stream",
     "text": [
      "❌ No se encontró enlace UUID para ASASSN-V J052325.46-391154.9\n"
     ]
    },
    {
     "name": "stderr",
     "output_type": "stream",
     "text": [
      " 85%|████████▍ | 10518/12444 [2:11:24<19:26,  1.65it/s]"
     ]
    },
    {
     "name": "stdout",
     "output_type": "stream",
     "text": [
      "❌ No se encontró enlace UUID para ASASSN-V J125023.85+665525.5\n"
     ]
    },
    {
     "name": "stderr",
     "output_type": "stream",
     "text": [
      " 85%|████████▍ | 10565/12444 [2:11:59<19:28,  1.61it/s]  "
     ]
    },
    {
     "name": "stdout",
     "output_type": "stream",
     "text": [
      "❌ No se encontró enlace UUID para ASASSN-V J192127.38-311349.5\n"
     ]
    },
    {
     "name": "stderr",
     "output_type": "stream",
     "text": [
      " 85%|████████▌ | 10600/12444 [2:12:23<17:36,  1.75it/s]"
     ]
    },
    {
     "name": "stdout",
     "output_type": "stream",
     "text": [
      "❌ No se encontró enlace UUID para ASASSN-V J044650.03-712256.6\n"
     ]
    },
    {
     "name": "stderr",
     "output_type": "stream",
     "text": [
      " 86%|████████▌ | 10702/12444 [2:13:45<22:19,  1.30it/s]  "
     ]
    },
    {
     "name": "stdout",
     "output_type": "stream",
     "text": [
      "❌ No se encontró enlace UUID para ASASSN-V J071404.87+700418.2\n"
     ]
    },
    {
     "name": "stderr",
     "output_type": "stream",
     "text": [
      " 86%|████████▋ | 10750/12444 [2:14:18<14:35,  1.93it/s]"
     ]
    },
    {
     "name": "stdout",
     "output_type": "stream",
     "text": [
      "❌ No se encontró enlace UUID para ASASSN-V J012343.31-050546.8\n"
     ]
    },
    {
     "name": "stderr",
     "output_type": "stream",
     "text": [
      " 89%|████████▉ | 11070/12444 [2:17:57<17:25,  1.31it/s]"
     ]
    },
    {
     "name": "stdout",
     "output_type": "stream",
     "text": [
      "❌ No se encontró enlace UUID para ASASSN-V J183001.79+123346.3\n"
     ]
    },
    {
     "name": "stderr",
     "output_type": "stream",
     "text": [
      " 89%|████████▉ | 11080/12444 [2:18:03<12:18,  1.85it/s]"
     ]
    },
    {
     "name": "stdout",
     "output_type": "stream",
     "text": [
      "❌ No se encontró enlace UUID para ASASSN-V J160803.78+070429.0\n"
     ]
    },
    {
     "name": "stderr",
     "output_type": "stream",
     "text": [
      " 90%|████████▉ | 11147/12444 [2:18:49<15:18,  1.41it/s]"
     ]
    },
    {
     "name": "stdout",
     "output_type": "stream",
     "text": [
      "❌ No se encontró enlace UUID para ASASSN-V J020929.82+283229.4\n"
     ]
    },
    {
     "name": "stderr",
     "output_type": "stream",
     "text": [
      " 90%|████████▉ | 11155/12444 [2:18:54<16:09,  1.33it/s]"
     ]
    },
    {
     "name": "stdout",
     "output_type": "stream",
     "text": [
      "❌ No se encontró enlace UUID para ASASSN-V J101558.36-475809.6\n"
     ]
    },
    {
     "name": "stderr",
     "output_type": "stream",
     "text": [
      " 91%|█████████ | 11332/12444 [2:21:35<3:35:19, 11.62s/it]"
     ]
    },
    {
     "name": "stdout",
     "output_type": "stream",
     "text": [
      "❌ No se encontró enlace UUID para ASASSN-V J060755.06+451218.9\n"
     ]
    },
    {
     "name": "stderr",
     "output_type": "stream",
     "text": [
      " 92%|█████████▏| 11440/12444 [2:22:37<22:35,  1.35s/it]  "
     ]
    },
    {
     "name": "stdout",
     "output_type": "stream",
     "text": [
      "❌ No se encontró enlace UUID para ASASSN-V J143300.19-612117.4\n"
     ]
    },
    {
     "name": "stderr",
     "output_type": "stream",
     "text": [
      " 94%|█████████▎| 11639/12444 [2:25:08<08:31,  1.58it/s]  "
     ]
    },
    {
     "name": "stdout",
     "output_type": "stream",
     "text": [
      "❌ No se encontró enlace UUID para ASASSN-V J093949.65-322622.1\n"
     ]
    },
    {
     "name": "stderr",
     "output_type": "stream",
     "text": [
      " 94%|█████████▎| 11648/12444 [2:25:14<07:46,  1.71it/s]"
     ]
    },
    {
     "name": "stdout",
     "output_type": "stream",
     "text": [
      "❌ No se encontró enlace UUID para ASASSN-V J105002.90-000036.7\n"
     ]
    },
    {
     "name": "stderr",
     "output_type": "stream",
     "text": [
      " 94%|█████████▍| 11697/12444 [2:25:48<10:52,  1.14it/s]"
     ]
    },
    {
     "name": "stdout",
     "output_type": "stream",
     "text": [
      "❌ No se encontró enlace UUID para ASASSN-V J102517.33-092040.5\n"
     ]
    },
    {
     "name": "stderr",
     "output_type": "stream",
     "text": [
      " 95%|█████████▍| 11794/12444 [2:26:55<08:20,  1.30it/s]"
     ]
    },
    {
     "name": "stdout",
     "output_type": "stream",
     "text": [
      "⚠️ [ReadTimeout] Esperando 0.5s antes de reintentar...\n",
      "❌ No se encontró enlace UUID para ASASSN-V J144514.96+000249.3\n"
     ]
    },
    {
     "name": "stderr",
     "output_type": "stream",
     "text": [
      " 95%|█████████▌| 11855/12444 [2:27:57<06:28,  1.52it/s]  "
     ]
    },
    {
     "name": "stdout",
     "output_type": "stream",
     "text": [
      "❌ No se encontró enlace UUID para ASASSN-V J132748.65+095451.7\n"
     ]
    },
    {
     "name": "stderr",
     "output_type": "stream",
     "text": [
      " 95%|█████████▌| 11869/12444 [2:28:06<05:12,  1.84it/s]"
     ]
    },
    {
     "name": "stdout",
     "output_type": "stream",
     "text": [
      "❌ No se encontró enlace UUID para ASASSN-V J091455.37+452341.3\n"
     ]
    },
    {
     "name": "stderr",
     "output_type": "stream",
     "text": [
      " 95%|█████████▌| 11870/12444 [2:28:07<07:49,  1.22it/s]"
     ]
    },
    {
     "name": "stdout",
     "output_type": "stream",
     "text": [
      "❌ No se encontró enlace UUID para ASASSN-V J100621.91-701404.6\n"
     ]
    },
    {
     "name": "stderr",
     "output_type": "stream",
     "text": [
      " 96%|█████████▌| 11928/12444 [2:28:46<04:49,  1.78it/s]"
     ]
    },
    {
     "name": "stdout",
     "output_type": "stream",
     "text": [
      "❌ No se encontró enlace UUID para ASASSN-V J220559.45-341433.6\n"
     ]
    },
    {
     "name": "stderr",
     "output_type": "stream",
     "text": [
      " 96%|█████████▌| 11949/12444 [2:29:00<04:13,  1.95it/s]"
     ]
    },
    {
     "name": "stdout",
     "output_type": "stream",
     "text": [
      "❌ No se encontró enlace UUID para ASASSN-V J190706.23+690842.7\n"
     ]
    },
    {
     "name": "stderr",
     "output_type": "stream",
     "text": [
      " 96%|█████████▋| 11983/12444 [2:29:24<05:29,  1.40it/s]"
     ]
    },
    {
     "name": "stdout",
     "output_type": "stream",
     "text": [
      "⚠️ [ReadTimeout] Esperando 0.5s antes de reintentar...\n",
      "⚠️ [ReadTimeout] Esperando 1.0s antes de reintentar...\n",
      "⚠️ [ReadTimeout] Esperando 2.0s antes de reintentar...\n",
      "⚠️ [ReadTimeout] Esperando 4.0s antes de reintentar...\n",
      "⚠️ [ReadTimeout] Esperando 8.0s antes de reintentar...\n"
     ]
    },
    {
     "name": "stderr",
     "output_type": "stream",
     "text": [
      " 96%|█████████▋| 11984/12444 [2:30:32<2:39:28, 20.80s/it]"
     ]
    },
    {
     "name": "stdout",
     "output_type": "stream",
     "text": [
      "❌ Fallo persistente tras 5 intentos: https://asas-sn.osu.edu/variables/f6595605-aec2-4698-83fd-55da240807d0.csv\n",
      "❌ No válido o sin datos HJD: 10511302 (status: N/A)\n"
     ]
    },
    {
     "name": "stderr",
     "output_type": "stream",
     "text": [
      " 97%|█████████▋| 12055/12444 [2:30:33<04:23,  1.48it/s]  "
     ]
    },
    {
     "name": "stdout",
     "output_type": "stream",
     "text": [
      "❌ No se encontró enlace UUID para ASASSN-V J092907.00-240504.5\n"
     ]
    },
    {
     "name": "stderr",
     "output_type": "stream",
     "text": [
      " 97%|█████████▋| 12070/12444 [2:30:43<04:22,  1.42it/s]"
     ]
    },
    {
     "name": "stdout",
     "output_type": "stream",
     "text": [
      "❌ No se encontró enlace UUID para ASASSN-V J220412.11+262507.8\n"
     ]
    },
    {
     "name": "stderr",
     "output_type": "stream",
     "text": [
      " 97%|█████████▋| 12081/12444 [2:30:51<04:58,  1.22it/s]"
     ]
    },
    {
     "name": "stdout",
     "output_type": "stream",
     "text": [
      "❌ No se encontró enlace UUID para ASASSN-V J103638.97+195202.7\n"
     ]
    },
    {
     "name": "stderr",
     "output_type": "stream",
     "text": [
      " 98%|█████████▊| 12198/12444 [2:32:17<02:29,  1.65it/s]"
     ]
    },
    {
     "name": "stdout",
     "output_type": "stream",
     "text": [
      "❌ No se encontró enlace UUID para ASASSN-V J075240.45+362823.3\n"
     ]
    },
    {
     "name": "stderr",
     "output_type": "stream",
     "text": [
      " 99%|█████████▊| 12278/12444 [2:33:13<02:20,  1.18it/s]"
     ]
    },
    {
     "name": "stdout",
     "output_type": "stream",
     "text": [
      "❌ No se encontró enlace UUID para ASASSN-V J110425.56+450313.7\n"
     ]
    },
    {
     "name": "stderr",
     "output_type": "stream",
     "text": [
      " 99%|█████████▉| 12306/12444 [2:33:35<02:02,  1.13it/s]"
     ]
    },
    {
     "name": "stdout",
     "output_type": "stream",
     "text": [
      "❌ No se encontró enlace UUID para ASASSN-V J201503.98-400539.4\n"
     ]
    },
    {
     "name": "stderr",
     "output_type": "stream",
     "text": [
      " 99%|█████████▉| 12378/12444 [2:34:35<00:51,  1.27it/s]"
     ]
    },
    {
     "name": "stdout",
     "output_type": "stream",
     "text": [
      "❌ No se encontró enlace UUID para ASASSN-V J041550.16+015420.1\n"
     ]
    },
    {
     "name": "stderr",
     "output_type": "stream",
     "text": [
      " 99%|█████████▉| 12380/12444 [2:34:36<00:45,  1.40it/s]"
     ]
    },
    {
     "name": "stdout",
     "output_type": "stream",
     "text": [
      "❌ No se encontró enlace UUID para ASASSN-V J164214.20+425234.0\n"
     ]
    },
    {
     "name": "stderr",
     "output_type": "stream",
     "text": [
      "100%|██████████| 12444/12444 [2:35:19<00:00,  1.34it/s]\n"
     ]
    },
    {
     "name": "stdout",
     "output_type": "stream",
     "text": [
      "🧩 Consolidando dataset...\n"
     ]
    },
    {
     "name": "stderr",
     "output_type": "stream",
     "text": [
      "📊 Leyendo curvas: 100%|██████████| 12444/12444 [01:37<00:00, 126.99it/s]\n"
     ]
    },
    {
     "name": "stdout",
     "output_type": "stream",
     "text": [
      "💾 Guardando en formato parquet (12805195 filas)...\n",
      "✅ Guardado: data\\processed\\dataset_asassn_vband.parquet\n",
      "📈 Total de curvas procesadas: 11488\n",
      "🧪 Clases presentes:\n",
      "clase_variable_normalizada\n",
      "Young Stellar Object    12200063\n",
      "Cataclysmic               578147\n",
      "White Dwarf                26985\n",
      "Name: count, dtype: int64\n"
     ]
    }
   ],
   "source": [
    "from src.fase1.script_10_asassn_vband_download_curves import main as run_asassn_vband_download_curves\n",
    "\n",
    "run_asassn_vband_download_curves(max_workers=4)"
   ]
  },
  {
   "cell_type": "code",
   "execution_count": 1,
   "id": "9b79151c",
   "metadata": {},
   "outputs": [
    {
     "name": "stdout",
     "output_type": "stream",
     "text": [
      "Resumen de data/processed/dataset_asassn_vband.parquet:\n",
      "\n",
      "📁 Inspeccionando: data/processed/dataset_asassn_vband.parquet\n"
     ]
    },
    {
     "name": "stderr",
     "output_type": "stream",
     "text": [
      "🧮 Procesando por lotes: 257it [01:17,  3.31it/s]"
     ]
    },
    {
     "name": "stdout",
     "output_type": "stream",
     "text": [
      "✅ Resumen exportado a: data/processed/summary\\dataset_asassn_vband_summary.csv\n",
      "------------------------------------------------------------\n"
     ]
    },
    {
     "name": "stderr",
     "output_type": "stream",
     "text": [
      "\n"
     ]
    }
   ],
   "source": [
    "from src.utils.inspect_and_export_summary import inspect_and_export_summary\n",
    "\n",
    "DATASET_BASES = [\n",
    "    \"dataset_asassn_vband\",\n",
    "]\n",
    "INPUT_DIR = \"data/processed\"\n",
    "for base in DATASET_BASES:\n",
    "    parquet_path = f\"{INPUT_DIR}/{base}.parquet\"\n",
    "    print(f\"Resumen de {parquet_path}:\")\n",
    "    inspect_and_export_summary(parquet_path, output_format=\"csv\")\n",
    "    print(\"-\" * 60)"
   ]
  },
  {
   "cell_type": "markdown",
   "id": "1dbd23e8",
   "metadata": {},
   "source": [
    "Hemos añadido **11.488 nuevas curvas** desde el catálogo **ASAS-SN V-band**, reforzando de forma muy significativa las clases más minoritarias! Aquí tienes un resumen consolidado:\n",
    "\n",
    "#### ✅ **Resumen de la descarga ASAS-SN V-band**\n",
    "\n",
    "* **Fichero**: `dataset_asassn_vband.parquet`\n",
    "* **Total de filas**: `12.805.195`\n",
    "* **Curvas únicas (`id`)**: `11.488`\n",
    "\n",
    "| Clase original       | Curvas     | Clase normalizada      |\n",
    "| -------------------- | ---------- | ---------------------- |\n",
    "| Cataclysmic          | 578,147    | ✅ Cataclysmic          |\n",
    "| White Dwarf          | 26,985     | ✅ White Dwarf          |\n",
    "| Young Stellar Object | 12,200,063 | ✅ Young Stellar Object |\n",
    "\n",
    "#### 📈 Impacto estimado en el dataset final\n",
    "\n",
    "Antes:\n",
    "\n",
    "| Clase                | Curvas |\n",
    "| -------------------- | ------ |\n",
    "| Cataclysmic          | 32     |\n",
    "| White Dwarf          | 17     |\n",
    "| Young Stellar Object | 539    |\n",
    "\n",
    "Después de incorporar ASAS-SN V-band:\n",
    "\n",
    "| Clase                | Curvas adicionales |\n",
    "| -------------------- | ------------------ |\n",
    "| Cataclysmic          | +578,147           |\n",
    "| White Dwarf          | +26,985            |\n",
    "| Young Stellar Object | +12,200,063        |\n",
    "\n",
    "Esto supone **una mejora masiva** en representación de esas clases, lo que permitirá:\n",
    "\n",
    "* Entrenamientos balanceados sin oversampling artificial.\n",
    "* Mayor diversidad intra-clase → mejores generalizaciones.\n",
    "* Mejora esperada de métricas en fine-tuning.\n"
   ]
  },
  {
   "cell_type": "code",
   "execution_count": 1,
   "id": "55dfa734",
   "metadata": {},
   "outputs": [
    {
     "name": "stdout",
     "output_type": "stream",
     "text": [
      "🔎 Verificando archivos unified:\n",
      "✅ dataset_eb_kepler_labeled_fixed-compact-unified.parquet: 71,735,011 filas, 1434 row groups\n",
      "✅ dataset_eb_tess_labeled_fixed1-compact-unified.parquet: 49,975,930 filas, 1000 row groups\n",
      "✅ dataset_eb_tess_labeled_fixed2-compact-unified.parquet: 52,403,954 filas, 1048 row groups\n",
      "✅ dataset_eb_tess_labeled_fixed3-compact-unified.parquet: 18,142,465 filas, 181 row groups\n",
      "✅ dataset_k2varcat_labeled_fixed-unified2.parquet: 17,895,159 filas, 358 row groups\n",
      "✅ dataset_vsx_tess_labeled_fixed-unified.parquet: 41,143,597 filas, 40 row groups\n",
      "✅ dataset_gaia_complemented_normalized-unified.parquet: 29,794,442 filas, 29 row groups\n",
      "✅ dataset_vsx_tess_labeled_south-unified.parquet: 3,095,437 filas, 3 row groups\n",
      "✅ dataset_vsx_tess_labeled_north-compact-unified.parquet: 56,757,771 filas, 1135 row groups\n",
      "✅ dataset_vsx_tess_labeled_ampliado-compact-unified.parquet: 57,452,150 filas, 1149 row groups\n",
      "✅ dataset_eb_tess_labeled_fixed2-compact-unified.parquet: 52,403,954 filas, 1048 row groups\n",
      "✅ dataset_eb_tess_labeled_fixed3-compact-unified.parquet: 18,142,465 filas, 181 row groups\n",
      "✅ dataset_k2varcat_labeled_fixed-unified2.parquet: 17,895,159 filas, 358 row groups\n",
      "✅ dataset_vsx_tess_labeled_fixed-unified.parquet: 41,143,597 filas, 40 row groups\n",
      "✅ dataset_gaia_complemented_normalized-unified.parquet: 29,794,442 filas, 29 row groups\n",
      "✅ dataset_vsx_tess_labeled_south-unified.parquet: 3,095,437 filas, 3 row groups\n",
      "✅ dataset_vsx_tess_labeled_north-compact-unified.parquet: 56,757,771 filas, 1135 row groups\n",
      "✅ dataset_vsx_tess_labeled_ampliado-compact-unified.parquet: 57,452,150 filas, 1149 row groups\n",
      "✅ dataset_ztf_labeled-unified.parquet: 12,551,038 filas, 12 row groups\n",
      "✅ dataset_asassn_gband-unified.parquet: 202,436,941 filas, 4049 row groups\n",
      "✅ dataset_asassn_vband-unified.parquet: 12,805,195 filas, 257 row groups\n",
      "✔️ Verificación terminada.\n",
      "\n",
      "🔎 Comprobando columnas presentes en cada archivo:\n",
      "✅ dataset_ztf_labeled-unified.parquet: 12,551,038 filas, 12 row groups\n",
      "✅ dataset_asassn_gband-unified.parquet: 202,436,941 filas, 4049 row groups\n",
      "✅ dataset_asassn_vband-unified.parquet: 12,805,195 filas, 257 row groups\n",
      "✔️ Verificación terminada.\n",
      "\n",
      "🔎 Comprobando columnas presentes en cada archivo:\n",
      "Columnas en dataset_eb_kepler_labeled_fixed-compact-unified.parquet: ['tiempo', 'mag', 'flux_err', 'quality', 'timecorr', 'centroid_col', 'centroid_row', 'cadenceno', 'sap_flux', 'sap_flux_err', 'bkg', 'bkg_err', 'pdcsap_flux', 'pdcsap_flux_err', 'psf_centr1', 'psf_centr1_err', 'psf_centr2', 'psf_centr2_err', 'mom_centr1', 'mom_centr1_err', 'mom_centr2', 'mom_centr2_err', 'pos_corr1', 'pos_corr2', 'id', 'mission_id', 'mission', 'start_date', 'end_date', 'clase_variable', 'clase_variable_normalizada', 'source_dataset', 'flux', 'fcor', 'cbv01', 'cbv02', 'cbv03', 'cbv04', 'cbv05', 'cbv06', 'label_source', 'band']\n",
      "✅ dataset_eb_kepler_labeled_fixed-compact-unified.parquet: 'tiempo' mapeado a columna física 'tiempo'\n",
      "✅ dataset_eb_kepler_labeled_fixed-compact-unified.parquet contiene todas las columnas requeridas (directas o mapeadas).\n",
      "Columnas en dataset_eb_tess_labeled_fixed1-compact-unified.parquet: ['tiempo', 'mag', 'flux_err', 'quality', 'timecorr', 'centroid_col', 'centroid_row', 'cadenceno', 'sap_flux', 'sap_flux_err', 'bkg', 'bkg_err', 'pdcsap_flux', 'pdcsap_flux_err', 'psf_centr1', 'psf_centr1_err', 'psf_centr2', 'psf_centr2_err', 'mom_centr1', 'mom_centr1_err', 'mom_centr2', 'mom_centr2_err', 'pos_corr1', 'pos_corr2', 'id', 'mission_id', 'mission', 'start_date', 'end_date', 'clase_variable', 'clase_variable_normalizada', 'source_dataset', 'flux', 'fcor', 'cbv01', 'cbv02', 'cbv03', 'cbv04', 'cbv05', 'cbv06', 'label_source', 'band']\n",
      "✅ dataset_eb_tess_labeled_fixed1-compact-unified.parquet: 'tiempo' mapeado a columna física 'tiempo'\n",
      "✅ dataset_eb_tess_labeled_fixed1-compact-unified.parquet contiene todas las columnas requeridas (directas o mapeadas).\n",
      "Columnas en dataset_eb_tess_labeled_fixed2-compact-unified.parquet: ['tiempo', 'mag', 'flux_err', 'quality', 'timecorr', 'centroid_col', 'centroid_row', 'cadenceno', 'sap_flux', 'sap_flux_err', 'bkg', 'bkg_err', 'pdcsap_flux', 'pdcsap_flux_err', 'psf_centr1', 'psf_centr1_err', 'psf_centr2', 'psf_centr2_err', 'mom_centr1', 'mom_centr1_err', 'mom_centr2', 'mom_centr2_err', 'pos_corr1', 'pos_corr2', 'id', 'mission_id', 'mission', 'start_date', 'end_date', 'clase_variable', 'clase_variable_normalizada', 'source_dataset', 'flux', 'fcor', 'cbv01', 'cbv02', 'cbv03', 'cbv04', 'cbv05', 'cbv06', 'label_source', 'band']\n",
      "✅ dataset_eb_tess_labeled_fixed2-compact-unified.parquet: 'tiempo' mapeado a columna física 'tiempo'\n",
      "✅ dataset_eb_tess_labeled_fixed2-compact-unified.parquet contiene todas las columnas requeridas (directas o mapeadas).\n",
      "Columnas en dataset_eb_tess_labeled_fixed3-compact-unified.parquet: ['tiempo', 'mag', 'flux_err', 'quality', 'timecorr', 'centroid_col', 'centroid_row', 'cadenceno', 'sap_flux', 'sap_flux_err', 'bkg', 'bkg_err', 'pdcsap_flux', 'pdcsap_flux_err', 'psf_centr1', 'psf_centr1_err', 'psf_centr2', 'psf_centr2_err', 'mom_centr1', 'mom_centr1_err', 'mom_centr2', 'mom_centr2_err', 'pos_corr1', 'pos_corr2', 'id', 'mission_id', 'mission', 'start_date', 'end_date', 'clase_variable', 'clase_variable_normalizada', 'source_dataset', 'flux', 'fcor', 'cbv01', 'cbv02', 'cbv03', 'cbv04', 'cbv05', 'cbv06', 'label_source', 'band']\n",
      "✅ dataset_eb_tess_labeled_fixed3-compact-unified.parquet: 'tiempo' mapeado a columna física 'tiempo'\n",
      "✅ dataset_eb_tess_labeled_fixed3-compact-unified.parquet contiene todas las columnas requeridas (directas o mapeadas).\n",
      "Columnas en dataset_k2varcat_labeled_fixed-unified2.parquet: ['tiempo', 'mag', 'flux_err', 'quality', 'timecorr', 'centroid_col', 'centroid_row', 'cadenceno', 'sap_flux', 'sap_flux_err', 'bkg', 'bkg_err', 'pdcsap_flux', 'pdcsap_flux_err', 'psf_centr1', 'psf_centr1_err', 'psf_centr2', 'psf_centr2_err', 'mom_centr1', 'mom_centr1_err', 'mom_centr2', 'mom_centr2_err', 'pos_corr1', 'pos_corr2', 'id', 'mission_id', 'mission', 'start_date', 'end_date', 'clase_variable', 'clase_variable_normalizada', 'source_dataset', 'flux', 'fcor', 'cbv01', 'cbv02', 'cbv03', 'cbv04', 'cbv05', 'cbv06', 'label_source']\n",
      "✅ dataset_k2varcat_labeled_fixed-unified2.parquet: 'tiempo' mapeado a columna física 'tiempo'\n",
      "✅ dataset_k2varcat_labeled_fixed-unified2.parquet contiene todas las columnas requeridas (directas o mapeadas).\n",
      "Columnas en dataset_eb_kepler_labeled_fixed-compact-unified.parquet: ['tiempo', 'mag', 'flux_err', 'quality', 'timecorr', 'centroid_col', 'centroid_row', 'cadenceno', 'sap_flux', 'sap_flux_err', 'bkg', 'bkg_err', 'pdcsap_flux', 'pdcsap_flux_err', 'psf_centr1', 'psf_centr1_err', 'psf_centr2', 'psf_centr2_err', 'mom_centr1', 'mom_centr1_err', 'mom_centr2', 'mom_centr2_err', 'pos_corr1', 'pos_corr2', 'id', 'mission_id', 'mission', 'start_date', 'end_date', 'clase_variable', 'clase_variable_normalizada', 'source_dataset', 'flux', 'fcor', 'cbv01', 'cbv02', 'cbv03', 'cbv04', 'cbv05', 'cbv06', 'label_source', 'band']\n",
      "✅ dataset_eb_kepler_labeled_fixed-compact-unified.parquet: 'tiempo' mapeado a columna física 'tiempo'\n",
      "✅ dataset_eb_kepler_labeled_fixed-compact-unified.parquet contiene todas las columnas requeridas (directas o mapeadas).\n",
      "Columnas en dataset_eb_tess_labeled_fixed1-compact-unified.parquet: ['tiempo', 'mag', 'flux_err', 'quality', 'timecorr', 'centroid_col', 'centroid_row', 'cadenceno', 'sap_flux', 'sap_flux_err', 'bkg', 'bkg_err', 'pdcsap_flux', 'pdcsap_flux_err', 'psf_centr1', 'psf_centr1_err', 'psf_centr2', 'psf_centr2_err', 'mom_centr1', 'mom_centr1_err', 'mom_centr2', 'mom_centr2_err', 'pos_corr1', 'pos_corr2', 'id', 'mission_id', 'mission', 'start_date', 'end_date', 'clase_variable', 'clase_variable_normalizada', 'source_dataset', 'flux', 'fcor', 'cbv01', 'cbv02', 'cbv03', 'cbv04', 'cbv05', 'cbv06', 'label_source', 'band']\n",
      "✅ dataset_eb_tess_labeled_fixed1-compact-unified.parquet: 'tiempo' mapeado a columna física 'tiempo'\n",
      "✅ dataset_eb_tess_labeled_fixed1-compact-unified.parquet contiene todas las columnas requeridas (directas o mapeadas).\n",
      "Columnas en dataset_eb_tess_labeled_fixed2-compact-unified.parquet: ['tiempo', 'mag', 'flux_err', 'quality', 'timecorr', 'centroid_col', 'centroid_row', 'cadenceno', 'sap_flux', 'sap_flux_err', 'bkg', 'bkg_err', 'pdcsap_flux', 'pdcsap_flux_err', 'psf_centr1', 'psf_centr1_err', 'psf_centr2', 'psf_centr2_err', 'mom_centr1', 'mom_centr1_err', 'mom_centr2', 'mom_centr2_err', 'pos_corr1', 'pos_corr2', 'id', 'mission_id', 'mission', 'start_date', 'end_date', 'clase_variable', 'clase_variable_normalizada', 'source_dataset', 'flux', 'fcor', 'cbv01', 'cbv02', 'cbv03', 'cbv04', 'cbv05', 'cbv06', 'label_source', 'band']\n",
      "✅ dataset_eb_tess_labeled_fixed2-compact-unified.parquet: 'tiempo' mapeado a columna física 'tiempo'\n",
      "✅ dataset_eb_tess_labeled_fixed2-compact-unified.parquet contiene todas las columnas requeridas (directas o mapeadas).\n",
      "Columnas en dataset_eb_tess_labeled_fixed3-compact-unified.parquet: ['tiempo', 'mag', 'flux_err', 'quality', 'timecorr', 'centroid_col', 'centroid_row', 'cadenceno', 'sap_flux', 'sap_flux_err', 'bkg', 'bkg_err', 'pdcsap_flux', 'pdcsap_flux_err', 'psf_centr1', 'psf_centr1_err', 'psf_centr2', 'psf_centr2_err', 'mom_centr1', 'mom_centr1_err', 'mom_centr2', 'mom_centr2_err', 'pos_corr1', 'pos_corr2', 'id', 'mission_id', 'mission', 'start_date', 'end_date', 'clase_variable', 'clase_variable_normalizada', 'source_dataset', 'flux', 'fcor', 'cbv01', 'cbv02', 'cbv03', 'cbv04', 'cbv05', 'cbv06', 'label_source', 'band']\n",
      "✅ dataset_eb_tess_labeled_fixed3-compact-unified.parquet: 'tiempo' mapeado a columna física 'tiempo'\n",
      "✅ dataset_eb_tess_labeled_fixed3-compact-unified.parquet contiene todas las columnas requeridas (directas o mapeadas).\n",
      "Columnas en dataset_k2varcat_labeled_fixed-unified2.parquet: ['tiempo', 'mag', 'flux_err', 'quality', 'timecorr', 'centroid_col', 'centroid_row', 'cadenceno', 'sap_flux', 'sap_flux_err', 'bkg', 'bkg_err', 'pdcsap_flux', 'pdcsap_flux_err', 'psf_centr1', 'psf_centr1_err', 'psf_centr2', 'psf_centr2_err', 'mom_centr1', 'mom_centr1_err', 'mom_centr2', 'mom_centr2_err', 'pos_corr1', 'pos_corr2', 'id', 'mission_id', 'mission', 'start_date', 'end_date', 'clase_variable', 'clase_variable_normalizada', 'source_dataset', 'flux', 'fcor', 'cbv01', 'cbv02', 'cbv03', 'cbv04', 'cbv05', 'cbv06', 'label_source']\n",
      "✅ dataset_k2varcat_labeled_fixed-unified2.parquet: 'tiempo' mapeado a columna física 'tiempo'\n",
      "✅ dataset_k2varcat_labeled_fixed-unified2.parquet contiene todas las columnas requeridas (directas o mapeadas).\n",
      "Columnas en dataset_vsx_tess_labeled_fixed-unified.parquet: ['tiempo', 'mag', 'flux_err', 'quality', 'timecorr', 'centroid_col', 'centroid_row', 'cadenceno', 'sap_flux', 'sap_flux_err', 'bkg', 'bkg_err', 'pdcsap_flux', 'pdcsap_flux_err', 'psf_centr1', 'psf_centr1_err', 'psf_centr2', 'psf_centr2_err', 'mom_centr1', 'mom_centr1_err', 'mom_centr2', 'mom_centr2_err', 'pos_corr1', 'pos_corr2', 'id', 'mission_id', 'mission', 'start_date', 'end_date', 'clase_variable', 'clase_variable_normalizada', 'source_dataset', 'flux', 'fcor', 'cbv01', 'cbv02', 'cbv03', 'cbv04', 'cbv05', 'cbv06', 'label_source', 'band']\n",
      "✅ dataset_vsx_tess_labeled_fixed-unified.parquet: 'tiempo' mapeado a columna física 'tiempo'\n",
      "✅ dataset_vsx_tess_labeled_fixed-unified.parquet contiene todas las columnas requeridas (directas o mapeadas).\n",
      "Columnas en dataset_gaia_complemented_normalized-unified.parquet: ['tiempo', 'mag', 'flux_err', 'quality', 'timecorr', 'centroid_col', 'centroid_row', 'cadenceno', 'sap_flux', 'sap_flux_err', 'bkg', 'bkg_err', 'pdcsap_flux', 'pdcsap_flux_err', 'psf_centr1', 'psf_centr1_err', 'psf_centr2', 'psf_centr2_err', 'mom_centr1', 'mom_centr1_err', 'mom_centr2', 'mom_centr2_err', 'pos_corr1', 'pos_corr2', 'id', 'mission_id', 'mission', 'start_date', 'end_date', 'clase_variable', 'clase_variable_normalizada', 'source_dataset', 'flux', 'fcor', 'cbv01', 'cbv02', 'cbv03', 'cbv04', 'cbv05', 'cbv06', 'label_source', 'band']\n",
      "✅ dataset_gaia_complemented_normalized-unified.parquet: 'tiempo' mapeado a columna física 'tiempo'\n",
      "✅ dataset_gaia_complemented_normalized-unified.parquet contiene todas las columnas requeridas (directas o mapeadas).\n",
      "Columnas en dataset_vsx_tess_labeled_south-unified.parquet: ['tiempo', 'mag', 'flux_err', 'quality', 'timecorr', 'centroid_col', 'centroid_row', 'cadenceno', 'sap_flux', 'sap_flux_err', 'bkg', 'bkg_err', 'pdcsap_flux', 'pdcsap_flux_err', 'psf_centr1', 'psf_centr1_err', 'psf_centr2', 'psf_centr2_err', 'mom_centr1', 'mom_centr1_err', 'mom_centr2', 'mom_centr2_err', 'pos_corr1', 'pos_corr2', 'id', 'mission_id', 'mission', 'start_date', 'end_date', 'clase_variable', 'clase_variable_normalizada', 'source_dataset', 'flux', 'fcor', 'cbv01', 'cbv02', 'cbv03', 'cbv04', 'cbv05', 'cbv06', 'label_source', 'band']\n",
      "✅ dataset_vsx_tess_labeled_south-unified.parquet: 'tiempo' mapeado a columna física 'tiempo'\n",
      "✅ dataset_vsx_tess_labeled_south-unified.parquet contiene todas las columnas requeridas (directas o mapeadas).\n",
      "Columnas en dataset_vsx_tess_labeled_north-compact-unified.parquet: ['tiempo', 'mag', 'flux_err', 'quality', 'timecorr', 'centroid_col', 'centroid_row', 'cadenceno', 'sap_flux', 'sap_flux_err', 'bkg', 'bkg_err', 'pdcsap_flux', 'pdcsap_flux_err', 'psf_centr1', 'psf_centr1_err', 'psf_centr2', 'psf_centr2_err', 'mom_centr1', 'mom_centr1_err', 'mom_centr2', 'mom_centr2_err', 'pos_corr1', 'pos_corr2', 'id', 'mission_id', 'mission', 'start_date', 'end_date', 'clase_variable', 'clase_variable_normalizada', 'source_dataset', 'flux', 'fcor', 'cbv01', 'cbv02', 'cbv03', 'cbv04', 'cbv05', 'cbv06', 'label_source', 'band']\n",
      "✅ dataset_vsx_tess_labeled_north-compact-unified.parquet: 'tiempo' mapeado a columna física 'tiempo'\n",
      "✅ dataset_vsx_tess_labeled_north-compact-unified.parquet contiene todas las columnas requeridas (directas o mapeadas).\n",
      "Columnas en dataset_vsx_tess_labeled_ampliado-compact-unified.parquet: ['tiempo', 'mag', 'flux_err', 'quality', 'timecorr', 'centroid_col', 'centroid_row', 'cadenceno', 'sap_flux', 'sap_flux_err', 'bkg', 'bkg_err', 'pdcsap_flux', 'pdcsap_flux_err', 'psf_centr1', 'psf_centr1_err', 'psf_centr2', 'psf_centr2_err', 'mom_centr1', 'mom_centr1_err', 'mom_centr2', 'mom_centr2_err', 'pos_corr1', 'pos_corr2', 'id', 'mission_id', 'mission', 'start_date', 'end_date', 'clase_variable', 'clase_variable_normalizada', 'source_dataset', 'flux', 'fcor', 'cbv01', 'cbv02', 'cbv03', 'cbv04', 'cbv05', 'cbv06', 'label_source', 'band']\n",
      "✅ dataset_vsx_tess_labeled_ampliado-compact-unified.parquet: 'tiempo' mapeado a columna física 'tiempo'\n",
      "✅ dataset_vsx_tess_labeled_ampliado-compact-unified.parquet contiene todas las columnas requeridas (directas o mapeadas).\n",
      "Columnas en dataset_ztf_labeled-unified.parquet: ['tiempo', 'mag', 'flux_err', 'quality', 'timecorr', 'centroid_col', 'centroid_row', 'cadenceno', 'sap_flux', 'sap_flux_err', 'bkg', 'bkg_err', 'pdcsap_flux', 'pdcsap_flux_err', 'psf_centr1', 'psf_centr1_err', 'psf_centr2', 'psf_centr2_err', 'mom_centr1', 'mom_centr1_err', 'mom_centr2', 'mom_centr2_err', 'pos_corr1', 'pos_corr2', 'id', 'mission_id', 'mission', 'start_date', 'end_date', 'clase_variable', 'clase_variable_normalizada', 'source_dataset', 'flux', 'fcor', 'cbv01', 'cbv02', 'cbv03', 'cbv04', 'cbv05', 'cbv06', 'label_source', 'band']\n",
      "✅ dataset_ztf_labeled-unified.parquet: 'tiempo' mapeado a columna física 'tiempo'\n",
      "✅ dataset_ztf_labeled-unified.parquet contiene todas las columnas requeridas (directas o mapeadas).\n",
      "Columnas en dataset_vsx_tess_labeled_fixed-unified.parquet: ['tiempo', 'mag', 'flux_err', 'quality', 'timecorr', 'centroid_col', 'centroid_row', 'cadenceno', 'sap_flux', 'sap_flux_err', 'bkg', 'bkg_err', 'pdcsap_flux', 'pdcsap_flux_err', 'psf_centr1', 'psf_centr1_err', 'psf_centr2', 'psf_centr2_err', 'mom_centr1', 'mom_centr1_err', 'mom_centr2', 'mom_centr2_err', 'pos_corr1', 'pos_corr2', 'id', 'mission_id', 'mission', 'start_date', 'end_date', 'clase_variable', 'clase_variable_normalizada', 'source_dataset', 'flux', 'fcor', 'cbv01', 'cbv02', 'cbv03', 'cbv04', 'cbv05', 'cbv06', 'label_source', 'band']\n",
      "✅ dataset_vsx_tess_labeled_fixed-unified.parquet: 'tiempo' mapeado a columna física 'tiempo'\n",
      "✅ dataset_vsx_tess_labeled_fixed-unified.parquet contiene todas las columnas requeridas (directas o mapeadas).\n",
      "Columnas en dataset_gaia_complemented_normalized-unified.parquet: ['tiempo', 'mag', 'flux_err', 'quality', 'timecorr', 'centroid_col', 'centroid_row', 'cadenceno', 'sap_flux', 'sap_flux_err', 'bkg', 'bkg_err', 'pdcsap_flux', 'pdcsap_flux_err', 'psf_centr1', 'psf_centr1_err', 'psf_centr2', 'psf_centr2_err', 'mom_centr1', 'mom_centr1_err', 'mom_centr2', 'mom_centr2_err', 'pos_corr1', 'pos_corr2', 'id', 'mission_id', 'mission', 'start_date', 'end_date', 'clase_variable', 'clase_variable_normalizada', 'source_dataset', 'flux', 'fcor', 'cbv01', 'cbv02', 'cbv03', 'cbv04', 'cbv05', 'cbv06', 'label_source', 'band']\n",
      "✅ dataset_gaia_complemented_normalized-unified.parquet: 'tiempo' mapeado a columna física 'tiempo'\n",
      "✅ dataset_gaia_complemented_normalized-unified.parquet contiene todas las columnas requeridas (directas o mapeadas).\n",
      "Columnas en dataset_vsx_tess_labeled_south-unified.parquet: ['tiempo', 'mag', 'flux_err', 'quality', 'timecorr', 'centroid_col', 'centroid_row', 'cadenceno', 'sap_flux', 'sap_flux_err', 'bkg', 'bkg_err', 'pdcsap_flux', 'pdcsap_flux_err', 'psf_centr1', 'psf_centr1_err', 'psf_centr2', 'psf_centr2_err', 'mom_centr1', 'mom_centr1_err', 'mom_centr2', 'mom_centr2_err', 'pos_corr1', 'pos_corr2', 'id', 'mission_id', 'mission', 'start_date', 'end_date', 'clase_variable', 'clase_variable_normalizada', 'source_dataset', 'flux', 'fcor', 'cbv01', 'cbv02', 'cbv03', 'cbv04', 'cbv05', 'cbv06', 'label_source', 'band']\n",
      "✅ dataset_vsx_tess_labeled_south-unified.parquet: 'tiempo' mapeado a columna física 'tiempo'\n",
      "✅ dataset_vsx_tess_labeled_south-unified.parquet contiene todas las columnas requeridas (directas o mapeadas).\n",
      "Columnas en dataset_vsx_tess_labeled_north-compact-unified.parquet: ['tiempo', 'mag', 'flux_err', 'quality', 'timecorr', 'centroid_col', 'centroid_row', 'cadenceno', 'sap_flux', 'sap_flux_err', 'bkg', 'bkg_err', 'pdcsap_flux', 'pdcsap_flux_err', 'psf_centr1', 'psf_centr1_err', 'psf_centr2', 'psf_centr2_err', 'mom_centr1', 'mom_centr1_err', 'mom_centr2', 'mom_centr2_err', 'pos_corr1', 'pos_corr2', 'id', 'mission_id', 'mission', 'start_date', 'end_date', 'clase_variable', 'clase_variable_normalizada', 'source_dataset', 'flux', 'fcor', 'cbv01', 'cbv02', 'cbv03', 'cbv04', 'cbv05', 'cbv06', 'label_source', 'band']\n",
      "✅ dataset_vsx_tess_labeled_north-compact-unified.parquet: 'tiempo' mapeado a columna física 'tiempo'\n",
      "✅ dataset_vsx_tess_labeled_north-compact-unified.parquet contiene todas las columnas requeridas (directas o mapeadas).\n",
      "Columnas en dataset_vsx_tess_labeled_ampliado-compact-unified.parquet: ['tiempo', 'mag', 'flux_err', 'quality', 'timecorr', 'centroid_col', 'centroid_row', 'cadenceno', 'sap_flux', 'sap_flux_err', 'bkg', 'bkg_err', 'pdcsap_flux', 'pdcsap_flux_err', 'psf_centr1', 'psf_centr1_err', 'psf_centr2', 'psf_centr2_err', 'mom_centr1', 'mom_centr1_err', 'mom_centr2', 'mom_centr2_err', 'pos_corr1', 'pos_corr2', 'id', 'mission_id', 'mission', 'start_date', 'end_date', 'clase_variable', 'clase_variable_normalizada', 'source_dataset', 'flux', 'fcor', 'cbv01', 'cbv02', 'cbv03', 'cbv04', 'cbv05', 'cbv06', 'label_source', 'band']\n",
      "✅ dataset_vsx_tess_labeled_ampliado-compact-unified.parquet: 'tiempo' mapeado a columna física 'tiempo'\n",
      "✅ dataset_vsx_tess_labeled_ampliado-compact-unified.parquet contiene todas las columnas requeridas (directas o mapeadas).\n",
      "Columnas en dataset_ztf_labeled-unified.parquet: ['tiempo', 'mag', 'flux_err', 'quality', 'timecorr', 'centroid_col', 'centroid_row', 'cadenceno', 'sap_flux', 'sap_flux_err', 'bkg', 'bkg_err', 'pdcsap_flux', 'pdcsap_flux_err', 'psf_centr1', 'psf_centr1_err', 'psf_centr2', 'psf_centr2_err', 'mom_centr1', 'mom_centr1_err', 'mom_centr2', 'mom_centr2_err', 'pos_corr1', 'pos_corr2', 'id', 'mission_id', 'mission', 'start_date', 'end_date', 'clase_variable', 'clase_variable_normalizada', 'source_dataset', 'flux', 'fcor', 'cbv01', 'cbv02', 'cbv03', 'cbv04', 'cbv05', 'cbv06', 'label_source', 'band']\n",
      "✅ dataset_ztf_labeled-unified.parquet: 'tiempo' mapeado a columna física 'tiempo'\n",
      "✅ dataset_ztf_labeled-unified.parquet contiene todas las columnas requeridas (directas o mapeadas).\n",
      "Columnas en dataset_asassn_gband-unified.parquet: ['id', 'time', 'mag', 'mag_err', 'flux', 'flux_err', 'clase_variable', 'clase_variable_normalizada', 'mission', 'mission_id', 'source_dataset', 'label_source', 'band']\n",
      "✅ dataset_asassn_gband-unified.parquet: 'tiempo' mapeado a columna física 'time'\n",
      "✅ dataset_asassn_gband-unified.parquet contiene todas las columnas requeridas (directas o mapeadas).\n",
      "Columnas en dataset_asassn_vband-unified.parquet: ['id', 'time', 'mag', 'clase_variable', 'clase_variable_normalizada', 'mission', 'mission_id', 'source_dataset', 'label_source', 'band', 'mag_err', 'flux', 'flux_err']\n",
      "✅ dataset_asassn_vband-unified.parquet: 'tiempo' mapeado a columna física 'time'\n",
      "✅ dataset_asassn_vband-unified.parquet contiene todas las columnas requeridas (directas o mapeadas).\n",
      "✔️ Comprobación de columnas terminada.\n",
      "\n",
      "📂 Validando los siguientes archivos:\n",
      "- data/processed/dataset_eb_kepler_labeled_fixed-compact-unified.parquet\n",
      "- data/processed/dataset_eb_tess_labeled_fixed1-compact-unified.parquet\n",
      "- data/processed/dataset_eb_tess_labeled_fixed2-compact-unified.parquet\n",
      "- data/processed/dataset_eb_tess_labeled_fixed3-compact-unified.parquet\n",
      "- data/processed/dataset_k2varcat_labeled_fixed-unified2.parquet\n",
      "- data/processed/dataset_vsx_tess_labeled_fixed-unified.parquet\n",
      "- data/processed/dataset_gaia_complemented_normalized-unified.parquet\n",
      "- data/processed/dataset_vsx_tess_labeled_south-unified.parquet\n",
      "- data/processed/dataset_vsx_tess_labeled_north-compact-unified.parquet\n",
      "- data/processed/dataset_vsx_tess_labeled_ampliado-compact-unified.parquet\n",
      "- data/processed/dataset_ztf_labeled-unified.parquet\n",
      "- data/processed/dataset_asassn_gband-unified.parquet\n",
      "- data/processed/dataset_asassn_vband-unified.parquet\n",
      "\n",
      "🧩 Esquema detectado:\n",
      "- tiempo: double\n",
      "- mag: double\n",
      "- flux_err: double\n",
      "- quality: double\n",
      "- timecorr: double\n",
      "- centroid_col: double\n",
      "- centroid_row: double\n",
      "- cadenceno: double\n",
      "- sap_flux: double\n",
      "- sap_flux_err: double\n",
      "- bkg: double\n",
      "- bkg_err: double\n",
      "- pdcsap_flux: double\n",
      "- pdcsap_flux_err: double\n",
      "- psf_centr1: double\n",
      "- psf_centr1_err: double\n",
      "- psf_centr2: double\n",
      "- psf_centr2_err: double\n",
      "- mom_centr1: double\n",
      "- mom_centr1_err: double\n",
      "- mom_centr2: double\n",
      "- mom_centr2_err: double\n",
      "- pos_corr1: double\n",
      "- pos_corr2: double\n",
      "- id: string\n",
      "- mission_id: string\n",
      "- mission: string\n",
      "- start_date: double\n",
      "- end_date: double\n",
      "- clase_variable: string\n",
      "- clase_variable_normalizada: string\n",
      "- source_dataset: string\n",
      "- flux: double\n",
      "- fcor: double\n",
      "- cbv01: double\n",
      "- cbv02: double\n",
      "- cbv03: double\n",
      "- cbv04: double\n",
      "- cbv05: double\n",
      "- cbv06: double\n",
      "- label_source: string\n",
      "- band: string\n",
      "Columnas en dataset_asassn_gband-unified.parquet: ['id', 'time', 'mag', 'mag_err', 'flux', 'flux_err', 'clase_variable', 'clase_variable_normalizada', 'mission', 'mission_id', 'source_dataset', 'label_source', 'band']\n",
      "✅ dataset_asassn_gband-unified.parquet: 'tiempo' mapeado a columna física 'time'\n",
      "✅ dataset_asassn_gband-unified.parquet contiene todas las columnas requeridas (directas o mapeadas).\n",
      "Columnas en dataset_asassn_vband-unified.parquet: ['id', 'time', 'mag', 'clase_variable', 'clase_variable_normalizada', 'mission', 'mission_id', 'source_dataset', 'label_source', 'band', 'mag_err', 'flux', 'flux_err']\n",
      "✅ dataset_asassn_vband-unified.parquet: 'tiempo' mapeado a columna física 'time'\n",
      "✅ dataset_asassn_vband-unified.parquet contiene todas las columnas requeridas (directas o mapeadas).\n",
      "✔️ Comprobación de columnas terminada.\n",
      "\n",
      "📂 Validando los siguientes archivos:\n",
      "- data/processed/dataset_eb_kepler_labeled_fixed-compact-unified.parquet\n",
      "- data/processed/dataset_eb_tess_labeled_fixed1-compact-unified.parquet\n",
      "- data/processed/dataset_eb_tess_labeled_fixed2-compact-unified.parquet\n",
      "- data/processed/dataset_eb_tess_labeled_fixed3-compact-unified.parquet\n",
      "- data/processed/dataset_k2varcat_labeled_fixed-unified2.parquet\n",
      "- data/processed/dataset_vsx_tess_labeled_fixed-unified.parquet\n",
      "- data/processed/dataset_gaia_complemented_normalized-unified.parquet\n",
      "- data/processed/dataset_vsx_tess_labeled_south-unified.parquet\n",
      "- data/processed/dataset_vsx_tess_labeled_north-compact-unified.parquet\n",
      "- data/processed/dataset_vsx_tess_labeled_ampliado-compact-unified.parquet\n",
      "- data/processed/dataset_ztf_labeled-unified.parquet\n",
      "- data/processed/dataset_asassn_gband-unified.parquet\n",
      "- data/processed/dataset_asassn_vband-unified.parquet\n",
      "\n",
      "🧩 Esquema detectado:\n",
      "- tiempo: double\n",
      "- mag: double\n",
      "- flux_err: double\n",
      "- quality: double\n",
      "- timecorr: double\n",
      "- centroid_col: double\n",
      "- centroid_row: double\n",
      "- cadenceno: double\n",
      "- sap_flux: double\n",
      "- sap_flux_err: double\n",
      "- bkg: double\n",
      "- bkg_err: double\n",
      "- pdcsap_flux: double\n",
      "- pdcsap_flux_err: double\n",
      "- psf_centr1: double\n",
      "- psf_centr1_err: double\n",
      "- psf_centr2: double\n",
      "- psf_centr2_err: double\n",
      "- mom_centr1: double\n",
      "- mom_centr1_err: double\n",
      "- mom_centr2: double\n",
      "- mom_centr2_err: double\n",
      "- pos_corr1: double\n",
      "- pos_corr2: double\n",
      "- id: string\n",
      "- mission_id: string\n",
      "- mission: string\n",
      "- start_date: double\n",
      "- end_date: double\n",
      "- clase_variable: string\n",
      "- clase_variable_normalizada: string\n",
      "- source_dataset: string\n",
      "- flux: double\n",
      "- fcor: double\n",
      "- cbv01: double\n",
      "- cbv02: double\n",
      "- cbv03: double\n",
      "- cbv04: double\n",
      "- cbv05: double\n",
      "- cbv06: double\n",
      "- label_source: string\n",
      "- band: string\n",
      "\n",
      "🔢 Filas totales: 626,189,090\n",
      "\n",
      "🔍 Mostrando 5 filas de ejemplo:\n",
      "\n",
      "\n",
      "🔢 Filas totales: 626,189,090\n",
      "\n",
      "🔍 Mostrando 5 filas de ejemplo:\n",
      "\n",
      "       tiempo       mag  flux_err  quality  timecorr  centroid_col  \\\n",
      "0  131.512362  1.065252  0.000161      0.0  0.001369     860.09303   \n",
      "1  131.532797  0.974507  0.000158      0.0  0.001369     860.09343   \n",
      "2  131.553231  0.922745  0.000155      0.0  0.001370     860.09353   \n",
      "3  131.573665  0.899605  0.000153      0.0  0.001371     860.09328   \n",
      "4  131.594100  0.943326  0.000155      0.0  0.001372     860.09299   \n",
      "\n",
      "   centroid_row  cadenceno   sap_flux  sap_flux_err  ...  flux  fcor  cbv01  \\\n",
      "0      45.28267     1105.0  37874.980      5.785242  ...   NaN   NaN    NaN   \n",
      "1      45.28292     1106.0  36266.230      5.693093  ...   NaN   NaN    NaN   \n",
      "2      45.28252     1107.0  34152.457      5.569287  ...   NaN   NaN    NaN   \n",
      "3      45.28227     1108.0  33062.488      5.501959  ...   NaN   NaN    NaN   \n",
      "4      45.28302     1109.0  34355.070      5.580349  ...   NaN   NaN    NaN   \n",
      "\n",
      "   cbv02  cbv03  cbv04  cbv05  cbv06  label_source  band  \n",
      "0    NaN    NaN    NaN    NaN    NaN          None  None  \n",
      "1    NaN    NaN    NaN    NaN    NaN          None  None  \n",
      "2    NaN    NaN    NaN    NaN    NaN          None  None  \n",
      "3    NaN    NaN    NaN    NaN    NaN          None  None  \n",
      "4    NaN    NaN    NaN    NaN    NaN          None  None  \n",
      "\n",
      "[5 rows x 42 columns]\n",
      "[TRACE] Columnas físicas seleccionadas para lectura: ['id', 'tiempo', 'mag', 'clase_variable', 'clase_variable_normalizada', 'mission']\n",
      "\n",
      "🧼 Recuento de nulos y agregados principales (solo columnas: ['id', 'tiempo', 'mag', 'clase_variable', 'clase_variable_normalizada', 'mission']):\n",
      "       tiempo       mag  flux_err  quality  timecorr  centroid_col  \\\n",
      "0  131.512362  1.065252  0.000161      0.0  0.001369     860.09303   \n",
      "1  131.532797  0.974507  0.000158      0.0  0.001369     860.09343   \n",
      "2  131.553231  0.922745  0.000155      0.0  0.001370     860.09353   \n",
      "3  131.573665  0.899605  0.000153      0.0  0.001371     860.09328   \n",
      "4  131.594100  0.943326  0.000155      0.0  0.001372     860.09299   \n",
      "\n",
      "   centroid_row  cadenceno   sap_flux  sap_flux_err  ...  flux  fcor  cbv01  \\\n",
      "0      45.28267     1105.0  37874.980      5.785242  ...   NaN   NaN    NaN   \n",
      "1      45.28292     1106.0  36266.230      5.693093  ...   NaN   NaN    NaN   \n",
      "2      45.28252     1107.0  34152.457      5.569287  ...   NaN   NaN    NaN   \n",
      "3      45.28227     1108.0  33062.488      5.501959  ...   NaN   NaN    NaN   \n",
      "4      45.28302     1109.0  34355.070      5.580349  ...   NaN   NaN    NaN   \n",
      "\n",
      "   cbv02  cbv03  cbv04  cbv05  cbv06  label_source  band  \n",
      "0    NaN    NaN    NaN    NaN    NaN          None  None  \n",
      "1    NaN    NaN    NaN    NaN    NaN          None  None  \n",
      "2    NaN    NaN    NaN    NaN    NaN          None  None  \n",
      "3    NaN    NaN    NaN    NaN    NaN          None  None  \n",
      "4    NaN    NaN    NaN    NaN    NaN          None  None  \n",
      "\n",
      "[5 rows x 42 columns]\n",
      "[TRACE] Columnas físicas seleccionadas para lectura: ['id', 'tiempo', 'mag', 'clase_variable', 'clase_variable_normalizada', 'mission']\n",
      "\n",
      "🧼 Recuento de nulos y agregados principales (solo columnas: ['id', 'tiempo', 'mag', 'clase_variable', 'clase_variable_normalizada', 'mission']):\n"
     ]
    },
    {
     "name": "stderr",
     "output_type": "stream",
     "text": [
      "🔄 Procesando batches: 11273batch [21:11,  8.86batch/s]                         \n",
      "\n"
     ]
    },
    {
     "name": "stdout",
     "output_type": "stream",
     "text": [
      "\n",
      "⏱️ Tiempo total para todos los agregados: 1271.9 s (21.2 min)\n",
      "- id (id, alias=['id', 'source_id', 'ID', 'id_objeto', 'oid']): 0 nulos\n",
      "- tiempo (tiempo, alias=['tiempo', 'mjd', 'HJD', 'hjd', 'time']): 0 nulos\n",
      "- mag (mag, alias=['mag', 'magnitud']): 0 nulos\n",
      "- clase_variable (clase_variable, alias=['clase_variable', 'variable_class']): 468006 nulos\n",
      "- clase_variable_normalizada (clase_variable_normalizada, alias=['clase_variable_normalizada', 'normalized_class']): 0 nulos\n",
      "- mission (mission, alias=['mission', 'mision']): 12551038 nulos\n",
      "\n",
      "📊 Recuento por clase_variable (sin normalizar):\n",
      "EB                        199574391\n",
      "SR                        124941217\n",
      "ROT                        79944960\n",
      "DSCT|GDOR|SXPHE            58888121\n",
      "EW                         28447320\n",
      "VAR                        18518284\n",
      "YSO                        14082226\n",
      "L                          13489898\n",
      "EA                         12581167\n",
      "RRAB                       12266096\n",
      "AP                          9883704\n",
      "QP                          7345096\n",
      "Rotational                  7022896\n",
      "RRC                         4952079\n",
      "DSCT                        4706915\n",
      "M                           3500749\n",
      "RR Lyrae                    2978224\n",
      "Irregular                   1828451\n",
      "SRB                         1822647\n",
      "RS                          1760534\n",
      "HADS                        1239518\n",
      "V1093HER                    1171826\n",
      "LB                          1165700\n",
      "UG                          1103880\n",
      "ZZA                         1091981\n",
      "DSCT:                        789930\n",
      "MISC                         763423\n",
      "WD                           693625\n",
      "UGSS                         658366\n",
      "E                            652897\n",
      "UGSU                         651630\n",
      "Delta Scuti                  629484\n",
      "SRA                          591687\n",
      "UNKNOWN                      468006\n",
      "EP                           467371\n",
      " P                           433803\n",
      "UGZ                          410880\n",
      "BY                           397456\n",
      "CV                           355805\n",
      "RRC|EC                       324074\n",
      "RRD                          317042\n",
      "V361HYA                      288440\n",
      "DCEP                         205314\n",
      "EA+BY+UV                     192486\n",
      "roAp                         182491\n",
      "BCEP+SPB                     181588\n",
      "ACV|roAm|roAp|SXARI          135500\n",
      "CV:                          121697\n",
      "CWA                          113959\n",
      "ELL/DW:                       95436\n",
      "EC|ESD                        94857\n",
      "SRS                           93230\n",
      "ACEP                          93085\n",
      "Variable                      91983\n",
      "S                             85386\n",
      "RRAB/BL:                      73353\n",
      "LC                            72016\n",
      "CWB                           58197\n",
      "SRB:                          54063\n",
      "VAR:                          52444\n",
      "DCEPS                         51154\n",
      "SR:                           50064\n",
      "EC|DSCT|ESD                   49276\n",
      "UGWZ                          42794\n",
      "DSCT|EC|ESD                   41455\n",
      "EC                            41208\n",
      "ESD|EC                        39826\n",
      "DSCTC                         39166\n",
      "ESD|CW-FU|CW-FO|EC            37028\n",
      "UGSU+E                        36321\n",
      "ESD|ACV|ED                    36017\n",
      "EC|RRC|ESD                    32410\n",
      "BY:                           32410\n",
      "CW-FU|EC                      32410\n",
      "ED                            31389\n",
      "BCEP|DSCT                     30899\n",
      "EA:                           30089\n",
      "UV                            29979\n",
      "NL                            28074\n",
      "SRD                           28008\n",
      "SRC                           27803\n",
      "RRAB/BL                       27448\n",
      "SR|EA                         26168\n",
      "ACV                           25897\n",
      "EC|BCEP|DSCT|DSCTr|ESD        24689\n",
      "NL:                           22978\n",
      "SR|M                          18848\n",
      "ESD|CW-FU|EC                  16951\n",
      "AM                            16441\n",
      "DQ                            10334\n",
      "LPV                            9488\n",
      "EW/RS                          6386\n",
      "ZZ                             5595\n",
      "ZZLep                          4019\n",
      "ZZO                            2668\n",
      "ZZB                            2475\n",
      "UGER                           1429\n",
      "RVA                             612\n"
     ]
    },
    {
     "data": {
      "image/png": "[encoded data removed]",
      "text/plain": [
       "<Figure size 1200x500 with 1 Axes>"
      ]
     },
     "metadata": {},
     "output_type": "display_data"
    },
    {
     "name": "stdout",
     "output_type": "stream",
     "text": [
      "\n",
      "📊 Recuento por clase_variable_normalizada (normalizado):\n",
      "Eclipsing Binary        242455791\n",
      "Irregular               157662959\n",
      "Rotational               89598192\n",
      "Delta Scuti              66324033\n",
      "Variable                 27845224\n",
      "RR Lyrae                 21031401\n",
      "Young Stellar Object     14082226\n",
      "Cataclysmic               3460629\n",
      "White Dwarf               3260629\n",
      "Unknown                    468006\n"
     ]
    },
    {
     "data": {
      "image/png": "[encoded data removed]",
      "text/plain": [
       "<Figure size 1200x500 with 1 Axes>"
      ]
     },
     "metadata": {},
     "output_type": "display_data"
    },
    {
     "name": "stdout",
     "output_type": "stream",
     "text": [
      "\n",
      "🛰️ Recuento por mision:\n",
      "TESS      308765746\n",
      "ASASSN    215242136\n",
      "KEPLER     71735011\n",
      "K2         17895159\n",
      "ZTF        12551038\n"
     ]
    },
    {
     "data": {
      "image/png": "[encoded data removed]",
      "text/plain": [
       "<Figure size 800x400 with 1 Axes>"
      ]
     },
     "metadata": {},
     "output_type": "display_data"
    }
   ],
   "source": [
    "%run src/fase1/script_7_validate_final_dataset.py"
   ]
  },
  {
   "cell_type": "code",
   "execution_count": 1,
   "id": "0eaa4a87",
   "metadata": {},
   "outputs": [
    {
     "name": "stderr",
     "output_type": "stream",
     "text": [
      "🔍 Procesando datasets: 100%|██████████| 13/13 [03:01<00:00, 14.00s/it]\n",
      "\n"
     ]
    },
    {
     "ename": "MemoryError",
     "evalue": "Unable to allocate 4.67 GiB for an array with shape (626189090,) and data type int64",
     "output_type": "error",
     "traceback": [
      "\u001b[31m---------------------------------------------------------------------------\u001b[39m",
      "\u001b[31mMemoryError\u001b[39m                               Traceback (most recent call last)",
      "\u001b[36mCell\u001b[39m\u001b[36m \u001b[39m\u001b[32mIn[1]\u001b[39m\u001b[32m, line 33\u001b[39m\n\u001b[32m     31\u001b[39m \u001b[38;5;66;03m# Unir todo y agrupar por clase\u001b[39;00m\n\u001b[32m     32\u001b[39m df_total = pd.concat(global_df, ignore_index=\u001b[38;5;28;01mTrue\u001b[39;00m)\n\u001b[32m---> \u001b[39m\u001b[32m33\u001b[39m resumen = \u001b[43mdf_total\u001b[49m\u001b[43m.\u001b[49m\u001b[43mgroupby\u001b[49m\u001b[43m(\u001b[49m\u001b[33;43m\"\u001b[39;49m\u001b[33;43mclase_variable_normalizada\u001b[39;49m\u001b[33;43m\"\u001b[39;49m\u001b[43m)\u001b[49m\u001b[43m[\u001b[49m\u001b[33;43m\"\u001b[39;49m\u001b[33;43mid\u001b[39;49m\u001b[33;43m\"\u001b[39;49m\u001b[43m]\u001b[49m\u001b[43m.\u001b[49m\u001b[43mnunique\u001b[49m\u001b[43m(\u001b[49m\u001b[43m)\u001b[49m.sort_values(ascending=\u001b[38;5;28;01mFalse\u001b[39;00m)\n\u001b[32m     35\u001b[39m \u001b[38;5;66;03m# Mostrar resultados\u001b[39;00m\n\u001b[32m     36\u001b[39m \u001b[38;5;28mprint\u001b[39m(\u001b[33m\"\u001b[39m\u001b[33m📊 Recuento final de curvas únicas por clase normalizada:\u001b[39m\u001b[38;5;130;01m\\n\u001b[39;00m\u001b[33m\"\u001b[39m)\n",
      "\u001b[36mFile \u001b[39m\u001b[32mc:\\Users\\hav3f\\anaconda3\\envs\\astro_transformer\\Lib\\site-packages\\pandas\\core\\groupby\\generic.py:676\u001b[39m, in \u001b[36mSeriesGroupBy.nunique\u001b[39m\u001b[34m(self, dropna)\u001b[39m\n\u001b[32m    635\u001b[39m \u001b[38;5;28;01mdef\u001b[39;00m\u001b[38;5;250m \u001b[39m\u001b[34mnunique\u001b[39m(\u001b[38;5;28mself\u001b[39m, dropna: \u001b[38;5;28mbool\u001b[39m = \u001b[38;5;28;01mTrue\u001b[39;00m) -> Series | DataFrame:\n\u001b[32m    636\u001b[39m \u001b[38;5;250m    \u001b[39m\u001b[33;03m\"\"\"\u001b[39;00m\n\u001b[32m    637\u001b[39m \u001b[33;03m    Return number of unique elements in the group.\u001b[39;00m\n\u001b[32m    638\u001b[39m \n\u001b[32m   (...)\u001b[39m\u001b[32m    674\u001b[39m \u001b[33;03m    Freq: MS, dtype: int64\u001b[39;00m\n\u001b[32m    675\u001b[39m \u001b[33;03m    \"\"\"\u001b[39;00m\n\u001b[32m--> \u001b[39m\u001b[32m676\u001b[39m     ids, _, ngroups = \u001b[38;5;28;43mself\u001b[39;49m\u001b[43m.\u001b[49m\u001b[43m_grouper\u001b[49m\u001b[43m.\u001b[49m\u001b[43mgroup_info\u001b[49m\n\u001b[32m    677\u001b[39m     val = \u001b[38;5;28mself\u001b[39m.obj._values\n\u001b[32m    678\u001b[39m     codes, uniques = algorithms.factorize(val, use_na_sentinel=dropna, sort=\u001b[38;5;28;01mFalse\u001b[39;00m)\n",
      "\u001b[36mFile \u001b[39m\u001b[32mproperties.pyx:36\u001b[39m, in \u001b[36mpandas._libs.properties.CachedProperty.__get__\u001b[39m\u001b[34m()\u001b[39m\n",
      "\u001b[36mFile \u001b[39m\u001b[32mc:\\Users\\hav3f\\anaconda3\\envs\\astro_transformer\\Lib\\site-packages\\pandas\\core\\groupby\\ops.py:745\u001b[39m, in \u001b[36mBaseGrouper.group_info\u001b[39m\u001b[34m(self)\u001b[39m\n\u001b[32m    743\u001b[39m \u001b[38;5;129m@cache_readonly\u001b[39m\n\u001b[32m    744\u001b[39m \u001b[38;5;28;01mdef\u001b[39;00m\u001b[38;5;250m \u001b[39m\u001b[34mgroup_info\u001b[39m(\u001b[38;5;28mself\u001b[39m) -> \u001b[38;5;28mtuple\u001b[39m[npt.NDArray[np.intp], npt.NDArray[np.intp], \u001b[38;5;28mint\u001b[39m]:\n\u001b[32m--> \u001b[39m\u001b[32m745\u001b[39m     comp_ids, obs_group_ids = \u001b[38;5;28;43mself\u001b[39;49m\u001b[43m.\u001b[49m\u001b[43m_get_compressed_codes\u001b[49m\u001b[43m(\u001b[49m\u001b[43m)\u001b[49m\n\u001b[32m    747\u001b[39m     ngroups = \u001b[38;5;28mlen\u001b[39m(obs_group_ids)\n\u001b[32m    748\u001b[39m     comp_ids = ensure_platform_int(comp_ids)\n",
      "\u001b[36mFile \u001b[39m\u001b[32mc:\\Users\\hav3f\\anaconda3\\envs\\astro_transformer\\Lib\\site-packages\\pandas\\core\\groupby\\ops.py:769\u001b[39m, in \u001b[36mBaseGrouper._get_compressed_codes\u001b[39m\u001b[34m(self)\u001b[39m\n\u001b[32m    766\u001b[39m     \u001b[38;5;66;03m# FIXME: compress_group_index's second return value is int64, not intp\u001b[39;00m\n\u001b[32m    768\u001b[39m ping = \u001b[38;5;28mself\u001b[39m.groupings[\u001b[32m0\u001b[39m]\n\u001b[32m--> \u001b[39m\u001b[32m769\u001b[39m \u001b[38;5;28;01mreturn\u001b[39;00m \u001b[43mping\u001b[49m\u001b[43m.\u001b[49m\u001b[43mcodes\u001b[49m, np.arange(\u001b[38;5;28mlen\u001b[39m(ping._group_index), dtype=np.intp)\n",
      "\u001b[36mFile \u001b[39m\u001b[32mc:\\Users\\hav3f\\anaconda3\\envs\\astro_transformer\\Lib\\site-packages\\pandas\\core\\groupby\\grouper.py:691\u001b[39m, in \u001b[36mGrouping.codes\u001b[39m\u001b[34m(self)\u001b[39m\n\u001b[32m    689\u001b[39m \u001b[38;5;129m@property\u001b[39m\n\u001b[32m    690\u001b[39m \u001b[38;5;28;01mdef\u001b[39;00m\u001b[38;5;250m \u001b[39m\u001b[34mcodes\u001b[39m(\u001b[38;5;28mself\u001b[39m) -> npt.NDArray[np.signedinteger]:\n\u001b[32m--> \u001b[39m\u001b[32m691\u001b[39m     \u001b[38;5;28;01mreturn\u001b[39;00m \u001b[38;5;28;43mself\u001b[39;49m\u001b[43m.\u001b[49m\u001b[43m_codes_and_uniques\u001b[49m[\u001b[32m0\u001b[39m]\n",
      "\u001b[36mFile \u001b[39m\u001b[32mproperties.pyx:36\u001b[39m, in \u001b[36mpandas._libs.properties.CachedProperty.__get__\u001b[39m\u001b[34m()\u001b[39m\n",
      "\u001b[36mFile \u001b[39m\u001b[32mc:\\Users\\hav3f\\anaconda3\\envs\\astro_transformer\\Lib\\site-packages\\pandas\\core\\groupby\\grouper.py:835\u001b[39m, in \u001b[36mGrouping._codes_and_uniques\u001b[39m\u001b[34m(self)\u001b[39m\n\u001b[32m    830\u001b[39m     uniques = \u001b[38;5;28mself\u001b[39m._uniques\n\u001b[32m    831\u001b[39m \u001b[38;5;28;01melse\u001b[39;00m:\n\u001b[32m    832\u001b[39m     \u001b[38;5;66;03m# GH35667, replace dropna=False with use_na_sentinel=False\u001b[39;00m\n\u001b[32m    833\u001b[39m     \u001b[38;5;66;03m# error: Incompatible types in assignment (expression has type \"Union[\u001b[39;00m\n\u001b[32m    834\u001b[39m     \u001b[38;5;66;03m# ndarray[Any, Any], Index]\", variable has type \"Categorical\")\u001b[39;00m\n\u001b[32m--> \u001b[39m\u001b[32m835\u001b[39m     codes, uniques = \u001b[43malgorithms\u001b[49m\u001b[43m.\u001b[49m\u001b[43mfactorize\u001b[49m\u001b[43m(\u001b[49m\u001b[43m  \u001b[49m\u001b[38;5;66;43;03m# type: ignore[assignment]\u001b[39;49;00m\n\u001b[32m    836\u001b[39m \u001b[43m        \u001b[49m\u001b[38;5;28;43mself\u001b[39;49m\u001b[43m.\u001b[49m\u001b[43mgrouping_vector\u001b[49m\u001b[43m,\u001b[49m\u001b[43m \u001b[49m\u001b[43msort\u001b[49m\u001b[43m=\u001b[49m\u001b[38;5;28;43mself\u001b[39;49m\u001b[43m.\u001b[49m\u001b[43m_sort\u001b[49m\u001b[43m,\u001b[49m\u001b[43m \u001b[49m\u001b[43muse_na_sentinel\u001b[49m\u001b[43m=\u001b[49m\u001b[38;5;28;43mself\u001b[39;49m\u001b[43m.\u001b[49m\u001b[43m_dropna\u001b[49m\n\u001b[32m    837\u001b[39m \u001b[43m    \u001b[49m\u001b[43m)\u001b[49m\n\u001b[32m    838\u001b[39m \u001b[38;5;28;01mreturn\u001b[39;00m codes, uniques\n",
      "\u001b[36mFile \u001b[39m\u001b[32mc:\\Users\\hav3f\\anaconda3\\envs\\astro_transformer\\Lib\\site-packages\\pandas\\core\\algorithms.py:795\u001b[39m, in \u001b[36mfactorize\u001b[39m\u001b[34m(values, sort, use_na_sentinel, size_hint)\u001b[39m\n\u001b[32m    792\u001b[39m             \u001b[38;5;66;03m# Don't modify (potentially user-provided) array\u001b[39;00m\n\u001b[32m    793\u001b[39m             values = np.where(null_mask, na_value, values)\n\u001b[32m--> \u001b[39m\u001b[32m795\u001b[39m     codes, uniques = \u001b[43mfactorize_array\u001b[49m\u001b[43m(\u001b[49m\n\u001b[32m    796\u001b[39m \u001b[43m        \u001b[49m\u001b[43mvalues\u001b[49m\u001b[43m,\u001b[49m\n\u001b[32m    797\u001b[39m \u001b[43m        \u001b[49m\u001b[43muse_na_sentinel\u001b[49m\u001b[43m=\u001b[49m\u001b[43muse_na_sentinel\u001b[49m\u001b[43m,\u001b[49m\n\u001b[32m    798\u001b[39m \u001b[43m        \u001b[49m\u001b[43msize_hint\u001b[49m\u001b[43m=\u001b[49m\u001b[43msize_hint\u001b[49m\u001b[43m,\u001b[49m\n\u001b[32m    799\u001b[39m \u001b[43m    \u001b[49m\u001b[43m)\u001b[49m\n\u001b[32m    801\u001b[39m \u001b[38;5;28;01mif\u001b[39;00m sort \u001b[38;5;129;01mand\u001b[39;00m \u001b[38;5;28mlen\u001b[39m(uniques) > \u001b[32m0\u001b[39m:\n\u001b[32m    802\u001b[39m     uniques, codes = safe_sort(\n\u001b[32m    803\u001b[39m         uniques,\n\u001b[32m    804\u001b[39m         codes,\n\u001b[32m   (...)\u001b[39m\u001b[32m    807\u001b[39m         verify=\u001b[38;5;28;01mFalse\u001b[39;00m,\n\u001b[32m    808\u001b[39m     )\n",
      "\u001b[36mFile \u001b[39m\u001b[32mc:\\Users\\hav3f\\anaconda3\\envs\\astro_transformer\\Lib\\site-packages\\pandas\\core\\algorithms.py:595\u001b[39m, in \u001b[36mfactorize_array\u001b[39m\u001b[34m(values, use_na_sentinel, size_hint, na_value, mask)\u001b[39m\n\u001b[32m    592\u001b[39m hash_klass, values = _get_hashtable_algo(values)\n\u001b[32m    594\u001b[39m table = hash_klass(size_hint \u001b[38;5;129;01mor\u001b[39;00m \u001b[38;5;28mlen\u001b[39m(values))\n\u001b[32m--> \u001b[39m\u001b[32m595\u001b[39m uniques, codes = \u001b[43mtable\u001b[49m\u001b[43m.\u001b[49m\u001b[43mfactorize\u001b[49m\u001b[43m(\u001b[49m\n\u001b[32m    596\u001b[39m \u001b[43m    \u001b[49m\u001b[43mvalues\u001b[49m\u001b[43m,\u001b[49m\n\u001b[32m    597\u001b[39m \u001b[43m    \u001b[49m\u001b[43mna_sentinel\u001b[49m\u001b[43m=\u001b[49m\u001b[43m-\u001b[49m\u001b[32;43m1\u001b[39;49m\u001b[43m,\u001b[49m\n\u001b[32m    598\u001b[39m \u001b[43m    \u001b[49m\u001b[43mna_value\u001b[49m\u001b[43m=\u001b[49m\u001b[43mna_value\u001b[49m\u001b[43m,\u001b[49m\n\u001b[32m    599\u001b[39m \u001b[43m    \u001b[49m\u001b[43mmask\u001b[49m\u001b[43m=\u001b[49m\u001b[43mmask\u001b[49m\u001b[43m,\u001b[49m\n\u001b[32m    600\u001b[39m \u001b[43m    \u001b[49m\u001b[43mignore_na\u001b[49m\u001b[43m=\u001b[49m\u001b[43muse_na_sentinel\u001b[49m\u001b[43m,\u001b[49m\n\u001b[32m    601\u001b[39m \u001b[43m\u001b[49m\u001b[43m)\u001b[49m\n\u001b[32m    603\u001b[39m \u001b[38;5;66;03m# re-cast e.g. i8->dt64/td64, uint8->bool\u001b[39;00m\n\u001b[32m    604\u001b[39m uniques = _reconstruct_data(uniques, original.dtype, original)\n",
      "\u001b[36mFile \u001b[39m\u001b[32mpandas\\\\_libs\\\\hashtable_class_helper.pxi:7023\u001b[39m, in \u001b[36mpandas._libs.hashtable.StringHashTable.factorize\u001b[39m\u001b[34m()\u001b[39m\n",
      "\u001b[36mFile \u001b[39m\u001b[32mpandas\\\\_libs\\\\hashtable_class_helper.pxi:6912\u001b[39m, in \u001b[36mpandas._libs.hashtable.StringHashTable._unique\u001b[39m\u001b[34m()\u001b[39m\n",
      "\u001b[31mMemoryError\u001b[39m: Unable to allocate 4.67 GiB for an array with shape (626189090,) and data type int64"
     ]
    }
   ],
   "source": [
    "from pathlib import Path\n",
    "import pandas as pd\n",
    "import pyarrow.parquet as pq\n",
    "from tqdm import tqdm\n",
    "\n",
    "# Lista de rutas a los datasets\n",
    "DATASET_PATHS = [\n",
    "    \"data/processed/dataset_eb_kepler_labeled_fixed-compact-unified.parquet\",\n",
    "    \"data/processed/dataset_eb_tess_labeled_fixed1-compact-unified.parquet\",\n",
    "    \"data/processed/dataset_eb_tess_labeled_fixed2-compact-unified.parquet\",\n",
    "    \"data/processed/dataset_eb_tess_labeled_fixed3-compact-unified.parquet\",\n",
    "    \"data/processed/dataset_k2varcat_labeled_fixed-unified2.parquet\",\n",
    "    \"data/processed/dataset_vsx_tess_labeled_fixed-unified.parquet\",\n",
    "    \"data/processed/dataset_gaia_complemented_normalized-unified.parquet\",\n",
    "    \"data/processed/dataset_vsx_tess_labeled_south-unified.parquet\",\n",
    "    \"data/processed/dataset_vsx_tess_labeled_north-compact-unified.parquet\",\n",
    "    \"data/processed/dataset_vsx_tess_labeled_ampliado-compact-unified.parquet\",\n",
    "    \"data/processed/dataset_ztf_labeled-unified.parquet\",\n",
    "    \"data/processed/dataset_asassn_gband-unified.parquet\",\n",
    "    \"data/processed/dataset_asassn_vband-unified.parquet\"\n",
    "]\n",
    "\n",
    "# Acumulador\n",
    "global_df = []\n",
    "\n",
    "for path in tqdm(DATASET_PATHS, desc=\"🔍 Procesando datasets\"):\n",
    "    table = pq.read_table(path, columns=[\"id\", \"clase_variable_normalizada\"])\n",
    "    df = table.to_pandas()\n",
    "    global_df.append(df)\n",
    "\n",
    "# Unir todo y agrupar por clase\n",
    "df_total = pd.concat(global_df, ignore_index=True)\n",
    "resumen = df_total.groupby(\"clase_variable_normalizada\")[\"id\"].nunique().sort_values(ascending=False)\n",
    "\n",
    "# Mostrar resultados\n",
    "print(\"📊 Recuento final de curvas únicas por clase normalizada:\\n\")\n",
    "print(resumen)\n",
    "\n",
    "# Si quieres guardar el resumen en CSV:\n",
    "resumen.to_csv(\"resumen_curvas_por_clase.csv\")\n"
   ]
  },
  {
   "cell_type": "code",
   "execution_count": 1,
   "id": "7c3bd1e6",
   "metadata": {},
   "outputs": [
    {
     "name": "stderr",
     "output_type": "stream",
     "text": [
      "🔍 Procesando datasets: 100%|██████████| 13/13 [27:56<00:00, 128.97s/it]\n",
      "\n"
     ]
    },
    {
     "name": "stdout",
     "output_type": "stream",
     "text": [
      "📊 Recuento final de curvas únicas por clase (sin normalizar):\n",
      "\n",
      "Irregular               220184\n",
      "Eclipsing Binary         89910\n",
      "Rotational               78800\n",
      "RR Lyrae                 41188\n",
      "Young Stellar Object      9798\n",
      "Delta Scuti               7450\n",
      "Variable                  4355\n",
      "Cataclysmic               2079\n",
      "White Dwarf                110\n",
      "Delta_Scuti                102\n",
      "RS_CVn                     101\n",
      "EW                          40\n",
      "E                           33\n",
      "EA                          23\n",
      "RR_Lyrae                    20\n",
      "Eclipsing                   19\n",
      "S                           16\n",
      "L                           13\n",
      "YSO                         11\n",
      "UNKNOWN                      8\n",
      "BY_Dra                       8\n",
      "EB                           3\n",
      "ACV                          3\n",
      "V1093HER                     3\n",
      "White_Dwarf                  3\n",
      "Beta_Cep                     2\n",
      "M                            2\n",
      "LB                           2\n",
      "UV                           1\n",
      "ZZ_Ceti                      1\n",
      "ROAP                         1\n",
      "V361HYA                      1\n",
      "CWFU                         1\n",
      "Cepheid                      1\n",
      "ELL                          1\n",
      "NL                           1\n",
      "dtype: int64\n",
      "\n",
      "📊 Recuento final de curvas únicas por clase normalizada:\n",
      "\n",
      "Irregular               220217\n",
      "Eclipsing Binary         90026\n",
      "Rotational               78914\n",
      "RR Lyrae                 41208\n",
      "Young Stellar Object      9809\n",
      "Delta Scuti               7550\n",
      "Variable                  4360\n",
      "Cataclysmic               2080\n",
      "White Dwarf                118\n",
      "Unknown                      8\n",
      "dtype: int64\n",
      "✅ Guardados ambos resúmenes en data/processed/summary/\n"
     ]
    }
   ],
   "source": [
    "from pathlib import Path\n",
    "import pyarrow.parquet as pq\n",
    "from tqdm import tqdm\n",
    "import pandas as pd\n",
    "from collections import defaultdict\n",
    "from src.utils.normalization_dict import normalize_label\n",
    "\n",
    "# Lista de rutas a los datasets\n",
    "from src.utils.dataset_paths import DATASET_PATHS\n",
    "\n",
    "# Acumulador eficiente: por clase, un set de ids únicos\n",
    "class_to_ids = defaultdict(set)\n",
    "# Acumulador eficiente: por clase normalizada, un set de ids únicos\n",
    "class_to_ids_norm = defaultdict(set)\n",
    "\n",
    "for path in tqdm(DATASET_PATHS, desc=\"🔍 Procesando datasets\"):\n",
    "    try:\n",
    "        table = pq.read_table(path, columns=[\"id\", \"clase_variable_normalizada\"])\n",
    "        df = table.to_pandas()\n",
    "        for row in df.itertuples(index=False):\n",
    "            # Sin normalizar\n",
    "            class_to_ids[row.clase_variable_normalizada].add(row.id)\n",
    "            # Normalizado\n",
    "            clase_norm = normalize_label(row.clase_variable_normalizada)\n",
    "            class_to_ids_norm[clase_norm].add(row.id)\n",
    "    except Exception as e:\n",
    "        print(f\"[ERROR] {path}: {e}\")\n",
    "\n",
    "# Construir resumen sin normalizar\n",
    "resumen = {clase: len(ids) for clase, ids in class_to_ids.items()}\n",
    "resumen = pd.Series(resumen).sort_values(ascending=False)\n",
    "\n",
    "# Construir resumen normalizado\n",
    "resumen_norm = {clase: len(ids) for clase, ids in class_to_ids_norm.items()}\n",
    "resumen_norm = pd.Series(resumen_norm).sort_values(ascending=False)\n",
    "\n",
    "print(\"📊 Recuento final de curvas únicas por clase (sin normalizar):\\n\")\n",
    "print(resumen)\n",
    "print(\"\\n📊 Recuento final de curvas únicas por clase normalizada:\\n\")\n",
    "print(resumen_norm)\n",
    "\n",
    "# Guardar ambos resúmenes en CSV\n",
    "#resumen.to_csv(\"data/processed/summary/resumen_curvas_por_clase_raw.csv\")\n",
    "resumen_norm.to_csv(\"data/processed/summary/resumen_curvas_por_clase_normalizada.csv\")\n",
    "print(\"✅ Guardados ambos resúmenes en data/processed/summary/\")"
   ]
  },
  {
   "cell_type": "markdown",
   "id": "f28cedbe",
   "metadata": {},
   "source": [
    "| Clase                    | Nº de curvas únicas |\n",
    "| ------------------------ | ------------------- |\n",
    "| **Irregular**            | 220,217             |\n",
    "| **Eclipsing Binary**     | 90,026              |\n",
    "| **Rotational**           | 78,914              |\n",
    "| **RR Lyrae**             | 41,208              |\n",
    "| **Young Stellar Object** | 9,809               |\n",
    "| **Delta Scuti**          | 7,550               |\n",
    "| **Variable**             | 4,360               |\n",
    "| **Cataclysmic**          | 2,080               |\n",
    "| **White Dwarf**          | 118                 |\n",
    "| **Unknown**              | 8                   |\n"
   ]
  }
 ],
 "metadata": {
  "kernelspec": {
   "display_name": "conda_pytorch_p310",
   "language": "python",
   "name": "conda_pytorch_p310"
  },
  "language_info": {
   "codemirror_mode": {
    "name": "ipython",
    "version": 3
   },
   "file_extension": ".py",
   "mimetype": "text/x-python",
   "name": "python",
   "nbconvert_exporter": "python",
   "pygments_lexer": "ipython3",
   "version": "3.10.14"
  }
 },
 "nbformat": 4,
 "nbformat_minor": 5
}
