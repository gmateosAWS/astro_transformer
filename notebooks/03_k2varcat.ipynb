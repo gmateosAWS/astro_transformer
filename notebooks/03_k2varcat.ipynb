{
 "cells": [
  {
   "cell_type": "markdown",
   "id": "1f7abc00",
   "metadata": {},
   "source": [
    "# Procesamiento y consolidación de K2VARCAT (Script 2)"
   ]
  },
  {
   "cell_type": "code",
   "execution_count": null,
   "id": "e91594c1",
   "metadata": {},
   "outputs": [],
   "source": [
    "# Configuración general para evitar errores de warnings y compatibilidad\n",
    "import warnings\n",
    "import os\n",
    "warnings.filterwarnings(\"ignore\")\n",
    "os.environ[\"RICH_NO_RICH\"] = \"1\"\n",
    "print(\"Configuración de entorno aplicada.\")"
   ]
  },
  {
   "cell_type": "code",
   "execution_count": null,
   "id": "416244ce",
   "metadata": {},
   "outputs": [],
   "source": [
    "# ...existing code for script_2_k2varcat_everest...\n",
    "import warnings\n",
    "import os, sys\n",
    "import glob\n",
    "from astropy.units import UnitsWarning\n",
    "from pathlib import Path\n",
    "\n",
    "warnings.filterwarnings(\"ignore\", category=UserWarning)\n",
    "warnings.filterwarnings(\"ignore\", category=FutureWarning)\n",
    "warnings.filterwarnings(\"ignore\", category=UnitsWarning)\n",
    "print(\"🔇 Warnings silenciados: UserWarning, FutureWarning\")\n",
    "os.environ[\"RICH_NO_RICH\"] = \"1\"\n",
    "\n",
    "src_path = Path(\"src\").resolve()\n",
    "if src_path not in sys.path:\n",
    "    sys.path.append(str(src_path))\n",
    "from src.fase1.script_2_k2varcat_everest import main as run_script_2\n",
    "\n",
    "try:\n",
    "    import sagemaker\n",
    "    is_sagemaker = True\n",
    "except ImportError:\n",
    "    is_sagemaker = False\n",
    "\n",
    "if is_sagemaker:\n",
    "    print(\"🔁 Ejecutando en SageMaker → catálogo completo\")\n",
    "    run_script_2(limit=None, workers=10)\n",
    "else:\n",
    "    print(\"💻 Ejecutando en entorno local → catálogo de prueba\")\n",
    "    run_script_2(limit=None, workers=8)"
   ]
  },
  {
   "cell_type": "code",
   "execution_count": null,
   "id": "6c269957",
   "metadata": {},
   "outputs": [],
   "source": [
    "# Borrado caché Lightcurve\n",
    "import shutil\n",
    "import os\n",
    "\n",
    "cache_dir = os.path.expanduser(\"~/.lightkurve/cache\")\n",
    "try:\n",
    "    from lightkurve import clear_download_cache\n",
    "    print(\"🧹 Limpiando caché con Lightkurve...\")\n",
    "    clear_download_cache()\n",
    "except ImportError:\n",
    "    print(\"⚠️ clear_download_cache no está disponible en esta versión de Lightkurve. Se eliminará manualmente.\")\n",
    "\n",
    "if os.path.exists(cache_dir):\n",
    "    try:\n",
    "        shutil.rmtree(cache_dir)\n",
    "        print(f\"✅ Caché eliminada: {cache_dir}\")\n",
    "    except Exception as e:\n",
    "        print(f\"⚠️ No se pudo eliminar completamente la carpeta: {e}\")\n",
    "else:\n",
    "    print(\"ℹ️ No se encontró la carpeta de caché\")\n",
    "\n",
    "import psutil\n",
    "total, used, free = shutil.disk_usage(\".\")\n",
    "print(f\"💾 Espacio libre actual: {free // (1024 ** 3)} GB\")"
   ]
  },
  {
   "cell_type": "code",
   "execution_count": null,
   "id": "e7783880",
   "metadata": {},
   "outputs": [],
   "source": [
    "import shutil\n",
    "\n",
    "chunks_dir = \"data/processed/k2varcat_chunks\"\n",
    "shutil.rmtree(chunks_dir)\n",
    "print(f\"✅ Directorio eliminado: {chunks_dir}\")"
   ]
  }
 ],
 "metadata": {
  "language_info": {
   "name": "python"
  }
 },
 "nbformat": 4,
 "nbformat_minor": 5
}
