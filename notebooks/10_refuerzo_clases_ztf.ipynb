{
 "cells": [
  {
   "cell_type": "markdown",
   "id": "155786fb",
   "metadata": {},
   "source": [
    "# Refuerzo de clases minoritarias y ampliación con ZTF"
   ]
  },
  {
   "cell_type": "code",
   "execution_count": null,
   "id": "fc0d3598",
   "metadata": {},
   "outputs": [],
   "source": [
    "# Configuración general para evitar errores de warnings y compatibilidad\n",
    "import warnings\n",
    "import os\n",
    "warnings.filterwarnings(\"ignore\")\n",
    "os.environ[\"RICH_NO_RICH\"] = \"1\"\n",
    "print(\"Configuración de entorno aplicada.\")"
   ]
  },
  {
   "cell_type": "code",
   "execution_count": null,
   "id": "31802bd1",
   "metadata": {},
   "outputs": [],
   "source": [
    "# ...existing code for ZTF and minor classes reinforcement..."
   ]
  },
  {
   "cell_type": "code",
   "execution_count": 1,
   "id": "b97c311c",
   "metadata": {},
   "outputs": [
    {
     "name": "stdout",
     "output_type": "stream",
     "text": [
      "🔎 Procesando 114136 archivos CSV...\n"
     ]
    },
    {
     "name": "stderr",
     "output_type": "stream",
     "text": [
      "Consolidando curvas: 100%|██████████| 114136/114136 [38:10<00:00, 49.83it/s] \n"
     ]
    },
    {
     "name": "stdout",
     "output_type": "stream",
     "text": [
      "✅ Archivos válidos: 114134 | 🗑️ Vacíos: 0 | 🛑 Corruptos: 0\n",
      "✅ Consolidado: 12551038 filas → data\\processed\\dataset_ztf_labeled.parquet\n",
      "\n",
      "📁 Inspeccionando: data\\processed\\dataset_ztf_labeled.parquet\n"
     ]
    },
    {
     "name": "stderr",
     "output_type": "stream",
     "text": [
      "🧮 Procesando por lotes: 96it [05:29,  3.43s/it]\n"
     ]
    },
    {
     "name": "stdout",
     "output_type": "stream",
     "text": [
      "✅ Resumen exportado a: data/processed/summary\\dataset_ztf_labeled_summary.csv\n",
      "📊 Sumario generado.\n"
     ]
    }
   ],
   "source": [
    "import pandas as pd\n",
    "from pathlib import Path\n",
    "from tqdm import tqdm\n",
    "from src.utils.inspect_and_export_summary import inspect_and_export_summary\n",
    "\n",
    "CURVES_DIR = Path(\"F:/TFM/ztf_curves\")\n",
    "OUTPUT_PARQUET = Path(\"data/processed/dataset_ztf_labeled.parquet\")\n",
    "CLASES_OBJETIVO = [\"Delta Scuti\", \"Rotational\", \"Irregular\", \"Cataclysmic\", \"White Dwarf\", \"RR Lyrae\", \"Young Stellar Object\", \"Variable\"]\n",
    "\n",
    "csvs = list(CURVES_DIR.glob(\"*.csv\"))\n",
    "dfs = []\n",
    "n_valid = 0\n",
    "n_empty = 0\n",
    "n_corrupt = 0\n",
    "\n",
    "print(f\"🔎 Procesando {len(csvs)} archivos CSV...\")\n",
    "for path in tqdm(csvs, desc=\"Consolidando curvas\"):\n",
    "    try:\n",
    "        if path.stat().st_size == 0:\n",
    "            n_empty += 1\n",
    "            path.unlink()\n",
    "            continue\n",
    "        df = pd.read_csv(path)\n",
    "        if \"clase_variable_normalizada\" in df.columns:\n",
    "            if df[\"clase_variable_normalizada\"].iloc[0] in CLASES_OBJETIVO:\n",
    "                dfs.append(df)\n",
    "                n_valid += 1\n",
    "    except Exception:\n",
    "        n_corrupt += 1\n",
    "        try:\n",
    "            path.unlink()\n",
    "        except Exception:\n",
    "            pass\n",
    "\n",
    "print(f\"✅ Archivos válidos: {n_valid} | 🗑️ Vacíos: {n_empty} | 🛑 Corruptos: {n_corrupt}\")\n",
    "\n",
    "if dfs:\n",
    "    df_final = pd.concat(dfs, ignore_index=True)\n",
    "    df_final.to_parquet(OUTPUT_PARQUET, index=False)\n",
    "    print(f\"✅ Consolidado: {len(df_final)} filas → {OUTPUT_PARQUET}\")\n",
    "    inspect_and_export_summary(OUTPUT_PARQUET, output_format=\"csv\")\n",
    "    print(\"📊 Sumario generado.\")\n",
    "else:\n",
    "    print(\"⚠️ No se encontraron curvas válidas para las clases objetivo.\")"
   ]
  }
 ],
 "metadata": {
  "kernelspec": {
   "display_name": "astro_transformer",
   "language": "python",
   "name": "python3"
  },
  "language_info": {
   "codemirror_mode": {
    "name": "ipython",
    "version": 3
   },
   "file_extension": ".py",
   "mimetype": "text/x-python",
   "name": "python",
   "nbconvert_exporter": "python",
   "pygments_lexer": "ipython3",
   "version": "3.11.12"
  }
 },
 "nbformat": 4,
 "nbformat_minor": 5
}
