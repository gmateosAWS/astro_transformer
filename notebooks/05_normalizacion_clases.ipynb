{
 "cells": [
  {
   "cell_type": "markdown",
   "id": "128d1b37",
   "metadata": {},
   "source": [
    "# Normalización y limpieza de clases"
   ]
  },
  {
   "cell_type": "code",
   "execution_count": null,
   "id": "464c072f",
   "metadata": {},
   "outputs": [],
   "source": [
    "# Configuración general para evitar errores de warnings y compatibilidad\n",
    "import warnings\n",
    "import os\n",
    "warnings.filterwarnings(\"ignore\")\n",
    "os.environ[\"RICH_NO_RICH\"] = \"1\"\n",
    "print(\"Configuración de entorno aplicada.\")"
   ]
  },
  {
   "cell_type": "code",
   "execution_count": null,
   "id": "53e5fa94",
   "metadata": {},
   "outputs": [],
   "source": [
    "from src.fase1.script_3a_clean_vsx_classes import main as run_normalization\n",
    "run_normalization()"
   ]
  }
 ],
 "metadata": {
  "language_info": {
   "name": "python"
  }
 },
 "nbformat": 4,
 "nbformat_minor": 5
}
