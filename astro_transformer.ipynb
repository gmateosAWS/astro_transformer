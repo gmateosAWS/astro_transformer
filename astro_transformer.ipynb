{
 "cells": [
  {
   "attachments": {
    "image-2.png": {
     "image/png": "[encoded data removed]"
    }
   },
   "cell_type": "markdown",
   "id": "f6f4e81f",
   "metadata": {},
   "source": [
    "![image-2.png](attachment:image-2.png)\n",
    "\n",
    "_Máster Universitario en Inteligencia Artificial_\n",
    "\n",
    "_Trabajo Fin de Máster_\n",
    "\n",
    "- Gustavo Mateos Santos\n",
    "- gustavo.mateos830@comunidadunir.net\n",
    "\n",
    "# Clasificación automática de estrellas variables con modelos Transformer aplicados a series temporales\n",
    "\n"
   ]
  },
  {
   "cell_type": "code",
   "execution_count": 8,
   "id": "62128cf2",
   "metadata": {},
   "outputs": [
    {
     "name": "stdout",
     "output_type": "stream",
     "text": [
      "Requirement already satisfied: torch in c:\\users\\hav3f\\anaconda3\\envs\\astro_transformer\\lib\\site-packages (2.7.0)\n",
      "Requirement already satisfied: lightkurve in c:\\users\\hav3f\\anaconda3\\envs\\astro_transformer\\lib\\site-packages (2.5.0)\n",
      "Requirement already satisfied: filelock in c:\\users\\hav3f\\anaconda3\\envs\\astro_transformer\\lib\\site-packages (from torch) (3.18.0)\n",
      "Requirement already satisfied: typing-extensions>=4.10.0 in c:\\users\\hav3f\\anaconda3\\envs\\astro_transformer\\lib\\site-packages (from torch) (4.13.2)\n",
      "Requirement already satisfied: sympy>=1.13.3 in c:\\users\\hav3f\\anaconda3\\envs\\astro_transformer\\lib\\site-packages (from torch) (1.14.0)\n",
      "Requirement already satisfied: networkx in c:\\users\\hav3f\\anaconda3\\envs\\astro_transformer\\lib\\site-packages (from torch) (3.4.2)\n",
      "Requirement already satisfied: jinja2 in c:\\users\\hav3f\\anaconda3\\envs\\astro_transformer\\lib\\site-packages (from torch) (3.1.6)\n",
      "Requirement already satisfied: fsspec in c:\\users\\hav3f\\anaconda3\\envs\\astro_transformer\\lib\\site-packages (from torch) (2025.3.2)\n",
      "Requirement already satisfied: astropy>=5.0 in c:\\users\\hav3f\\anaconda3\\envs\\astro_transformer\\lib\\site-packages (from lightkurve) (7.0.2)\n",
      "Requirement already satisfied: astroquery>=0.3.10 in c:\\users\\hav3f\\anaconda3\\envs\\astro_transformer\\lib\\site-packages (from lightkurve) (0.4.10)\n",
      "Requirement already satisfied: beautifulsoup4>=4.6.0 in c:\\users\\hav3f\\anaconda3\\envs\\astro_transformer\\lib\\site-packages (from lightkurve) (4.13.4)\n",
      "Requirement already satisfied: bokeh>=2.3.2 in c:\\users\\hav3f\\anaconda3\\envs\\astro_transformer\\lib\\site-packages (from lightkurve) (3.7.3)\n",
      "Requirement already satisfied: fbpca>=1.0 in c:\\users\\hav3f\\anaconda3\\envs\\astro_transformer\\lib\\site-packages (from lightkurve) (1.0)\n",
      "Requirement already satisfied: matplotlib>=3.1 in c:\\users\\hav3f\\anaconda3\\envs\\astro_transformer\\lib\\site-packages (from lightkurve) (3.10.3)\n",
      "Requirement already satisfied: memoization>=0.3.1 in c:\\users\\hav3f\\anaconda3\\envs\\astro_transformer\\lib\\site-packages (from lightkurve) (0.4.0)\n",
      "Requirement already satisfied: numpy>=1.18 in c:\\users\\hav3f\\anaconda3\\envs\\astro_transformer\\lib\\site-packages (from lightkurve) (2.2.5)\n",
      "Requirement already satisfied: oktopus>=0.1.2 in c:\\users\\hav3f\\anaconda3\\envs\\astro_transformer\\lib\\site-packages (from lightkurve) (0.1.2)\n",
      "Requirement already satisfied: pandas>=1.1.4 in c:\\users\\hav3f\\anaconda3\\envs\\astro_transformer\\lib\\site-packages (from lightkurve) (2.2.3)\n",
      "Requirement already satisfied: patsy>=0.5.0 in c:\\users\\hav3f\\anaconda3\\envs\\astro_transformer\\lib\\site-packages (from lightkurve) (1.0.1)\n",
      "Requirement already satisfied: requests>=2.22.0 in c:\\users\\hav3f\\anaconda3\\envs\\astro_transformer\\lib\\site-packages (from lightkurve) (2.32.3)\n",
      "Requirement already satisfied: s3fs>=2024.6.1 in c:\\users\\hav3f\\anaconda3\\envs\\astro_transformer\\lib\\site-packages (from lightkurve) (2025.3.2)\n",
      "Requirement already satisfied: scikit-learn>=0.24.0 in c:\\users\\hav3f\\anaconda3\\envs\\astro_transformer\\lib\\site-packages (from lightkurve) (1.6.1)\n",
      "Requirement already satisfied: tqdm>=4.25.0 in c:\\users\\hav3f\\anaconda3\\envs\\astro_transformer\\lib\\site-packages (from lightkurve) (4.67.1)\n",
      "Requirement already satisfied: uncertainties>=3.1.4 in c:\\users\\hav3f\\anaconda3\\envs\\astro_transformer\\lib\\site-packages (from lightkurve) (3.2.3)\n",
      "Requirement already satisfied: urllib3>=1.23 in c:\\users\\hav3f\\anaconda3\\envs\\astro_transformer\\lib\\site-packages (from lightkurve) (2.4.0)\n",
      "Requirement already satisfied: pyerfa>=2.0.1.1 in c:\\users\\hav3f\\anaconda3\\envs\\astro_transformer\\lib\\site-packages (from astropy>=5.0->lightkurve) (2.0.1.5)\n",
      "Requirement already satisfied: astropy-iers-data>=0.2025.4.28.0.37.27 in c:\\users\\hav3f\\anaconda3\\envs\\astro_transformer\\lib\\site-packages (from astropy>=5.0->lightkurve) (0.2025.5.12.0.38.29)\n",
      "Requirement already satisfied: PyYAML>=6.0.0 in c:\\users\\hav3f\\anaconda3\\envs\\astro_transformer\\lib\\site-packages (from astropy>=5.0->lightkurve) (6.0.2)\n",
      "Requirement already satisfied: packaging>=22.0.0 in c:\\users\\hav3f\\anaconda3\\envs\\astro_transformer\\lib\\site-packages (from astropy>=5.0->lightkurve) (25.0)\n",
      "Requirement already satisfied: html5lib>=0.999 in c:\\users\\hav3f\\anaconda3\\envs\\astro_transformer\\lib\\site-packages (from astroquery>=0.3.10->lightkurve) (1.1)\n",
      "Requirement already satisfied: keyring>=15.0 in c:\\users\\hav3f\\anaconda3\\envs\\astro_transformer\\lib\\site-packages (from astroquery>=0.3.10->lightkurve) (25.6.0)\n",
      "Requirement already satisfied: pyvo>=1.5 in c:\\users\\hav3f\\anaconda3\\envs\\astro_transformer\\lib\\site-packages (from astroquery>=0.3.10->lightkurve) (1.6.2)\n",
      "Requirement already satisfied: soupsieve>1.2 in c:\\users\\hav3f\\anaconda3\\envs\\astro_transformer\\lib\\site-packages (from beautifulsoup4>=4.6.0->lightkurve) (2.7)\n",
      "Requirement already satisfied: contourpy>=1.2 in c:\\users\\hav3f\\anaconda3\\envs\\astro_transformer\\lib\\site-packages (from bokeh>=2.3.2->lightkurve) (1.3.2)\n",
      "Requirement already satisfied: narwhals>=1.13 in c:\\users\\hav3f\\anaconda3\\envs\\astro_transformer\\lib\\site-packages (from bokeh>=2.3.2->lightkurve) (1.39.0)\n",
      "Requirement already satisfied: pillow>=7.1.0 in c:\\users\\hav3f\\anaconda3\\envs\\astro_transformer\\lib\\site-packages (from bokeh>=2.3.2->lightkurve) (11.2.1)\n",
      "Requirement already satisfied: tornado>=6.2 in c:\\users\\hav3f\\anaconda3\\envs\\astro_transformer\\lib\\site-packages (from bokeh>=2.3.2->lightkurve) (6.4.2)\n",
      "Requirement already satisfied: xyzservices>=2021.09.1 in c:\\users\\hav3f\\anaconda3\\envs\\astro_transformer\\lib\\site-packages (from bokeh>=2.3.2->lightkurve) (2025.4.0)\n",
      "Requirement already satisfied: six>=1.9 in c:\\users\\hav3f\\anaconda3\\envs\\astro_transformer\\lib\\site-packages (from html5lib>=0.999->astroquery>=0.3.10->lightkurve) (1.17.0)\n",
      "Requirement already satisfied: webencodings in c:\\users\\hav3f\\anaconda3\\envs\\astro_transformer\\lib\\site-packages (from html5lib>=0.999->astroquery>=0.3.10->lightkurve) (0.5.1)\n",
      "Requirement already satisfied: MarkupSafe>=2.0 in c:\\users\\hav3f\\anaconda3\\envs\\astro_transformer\\lib\\site-packages (from jinja2->torch) (3.0.2)\n",
      "Requirement already satisfied: pywin32-ctypes>=0.2.0 in c:\\users\\hav3f\\anaconda3\\envs\\astro_transformer\\lib\\site-packages (from keyring>=15.0->astroquery>=0.3.10->lightkurve) (0.2.3)\n",
      "Requirement already satisfied: importlib_metadata>=4.11.4 in c:\\users\\hav3f\\anaconda3\\envs\\astro_transformer\\lib\\site-packages (from keyring>=15.0->astroquery>=0.3.10->lightkurve) (8.6.1)\n",
      "Requirement already satisfied: jaraco.classes in c:\\users\\hav3f\\anaconda3\\envs\\astro_transformer\\lib\\site-packages (from keyring>=15.0->astroquery>=0.3.10->lightkurve) (3.4.0)\n",
      "Requirement already satisfied: jaraco.functools in c:\\users\\hav3f\\anaconda3\\envs\\astro_transformer\\lib\\site-packages (from keyring>=15.0->astroquery>=0.3.10->lightkurve) (4.1.0)\n",
      "Requirement already satisfied: jaraco.context in c:\\users\\hav3f\\anaconda3\\envs\\astro_transformer\\lib\\site-packages (from keyring>=15.0->astroquery>=0.3.10->lightkurve) (6.0.1)\n",
      "Requirement already satisfied: zipp>=3.20 in c:\\users\\hav3f\\anaconda3\\envs\\astro_transformer\\lib\\site-packages (from importlib_metadata>=4.11.4->keyring>=15.0->astroquery>=0.3.10->lightkurve) (3.21.0)\n",
      "Requirement already satisfied: cycler>=0.10 in c:\\users\\hav3f\\anaconda3\\envs\\astro_transformer\\lib\\site-packages (from matplotlib>=3.1->lightkurve) (0.12.1)\n",
      "Requirement already satisfied: fonttools>=4.22.0 in c:\\users\\hav3f\\anaconda3\\envs\\astro_transformer\\lib\\site-packages (from matplotlib>=3.1->lightkurve) (4.58.0)\n",
      "Requirement already satisfied: kiwisolver>=1.3.1 in c:\\users\\hav3f\\anaconda3\\envs\\astro_transformer\\lib\\site-packages (from matplotlib>=3.1->lightkurve) (1.4.8)\n",
      "Requirement already satisfied: pyparsing>=2.3.1 in c:\\users\\hav3f\\anaconda3\\envs\\astro_transformer\\lib\\site-packages (from matplotlib>=3.1->lightkurve) (3.2.3)\n",
      "Requirement already satisfied: python-dateutil>=2.7 in c:\\users\\hav3f\\anaconda3\\envs\\astro_transformer\\lib\\site-packages (from matplotlib>=3.1->lightkurve) (2.9.0.post0)\n",
      "Requirement already satisfied: scipy in c:\\users\\hav3f\\anaconda3\\envs\\astro_transformer\\lib\\site-packages (from oktopus>=0.1.2->lightkurve) (1.15.3)\n",
      "Requirement already satisfied: autograd in c:\\users\\hav3f\\anaconda3\\envs\\astro_transformer\\lib\\site-packages (from oktopus>=0.1.2->lightkurve) (1.8.0)\n",
      "Requirement already satisfied: pytz>=2020.1 in c:\\users\\hav3f\\anaconda3\\envs\\astro_transformer\\lib\\site-packages (from pandas>=1.1.4->lightkurve) (2025.2)\n",
      "Requirement already satisfied: tzdata>=2022.7 in c:\\users\\hav3f\\anaconda3\\envs\\astro_transformer\\lib\\site-packages (from pandas>=1.1.4->lightkurve) (2025.2)\n",
      "Requirement already satisfied: charset-normalizer<4,>=2 in c:\\users\\hav3f\\anaconda3\\envs\\astro_transformer\\lib\\site-packages (from requests>=2.22.0->lightkurve) (3.4.2)\n",
      "Requirement already satisfied: idna<4,>=2.5 in c:\\users\\hav3f\\anaconda3\\envs\\astro_transformer\\lib\\site-packages (from requests>=2.22.0->lightkurve) (3.10)\n",
      "Requirement already satisfied: certifi>=2017.4.17 in c:\\users\\hav3f\\anaconda3\\envs\\astro_transformer\\lib\\site-packages (from requests>=2.22.0->lightkurve) (2025.4.26)\n",
      "Requirement already satisfied: aiobotocore<3.0.0,>=2.5.4 in c:\\users\\hav3f\\anaconda3\\envs\\astro_transformer\\lib\\site-packages (from s3fs>=2024.6.1->lightkurve) (2.22.0)\n",
      "Requirement already satisfied: aiohttp!=4.0.0a0,!=4.0.0a1 in c:\\users\\hav3f\\anaconda3\\envs\\astro_transformer\\lib\\site-packages (from s3fs>=2024.6.1->lightkurve) (3.11.18)\n",
      "Requirement already satisfied: aioitertools<1.0.0,>=0.5.1 in c:\\users\\hav3f\\anaconda3\\envs\\astro_transformer\\lib\\site-packages (from aiobotocore<3.0.0,>=2.5.4->s3fs>=2024.6.1->lightkurve) (0.12.0)\n",
      "Requirement already satisfied: botocore<1.37.4,>=1.37.2 in c:\\users\\hav3f\\anaconda3\\envs\\astro_transformer\\lib\\site-packages (from aiobotocore<3.0.0,>=2.5.4->s3fs>=2024.6.1->lightkurve) (1.37.3)\n",
      "Requirement already satisfied: jmespath<2.0.0,>=0.7.1 in c:\\users\\hav3f\\anaconda3\\envs\\astro_transformer\\lib\\site-packages (from aiobotocore<3.0.0,>=2.5.4->s3fs>=2024.6.1->lightkurve) (1.0.1)\n",
      "Requirement already satisfied: multidict<7.0.0,>=6.0.0 in c:\\users\\hav3f\\anaconda3\\envs\\astro_transformer\\lib\\site-packages (from aiobotocore<3.0.0,>=2.5.4->s3fs>=2024.6.1->lightkurve) (6.4.3)\n",
      "Requirement already satisfied: wrapt<2.0.0,>=1.10.10 in c:\\users\\hav3f\\anaconda3\\envs\\astro_transformer\\lib\\site-packages (from aiobotocore<3.0.0,>=2.5.4->s3fs>=2024.6.1->lightkurve) (1.17.2)\n",
      "Requirement already satisfied: aiohappyeyeballs>=2.3.0 in c:\\users\\hav3f\\anaconda3\\envs\\astro_transformer\\lib\\site-packages (from aiohttp!=4.0.0a0,!=4.0.0a1->s3fs>=2024.6.1->lightkurve) (2.6.1)\n",
      "Requirement already satisfied: aiosignal>=1.1.2 in c:\\users\\hav3f\\anaconda3\\envs\\astro_transformer\\lib\\site-packages (from aiohttp!=4.0.0a0,!=4.0.0a1->s3fs>=2024.6.1->lightkurve) (1.3.2)\n",
      "Requirement already satisfied: attrs>=17.3.0 in c:\\users\\hav3f\\anaconda3\\envs\\astro_transformer\\lib\\site-packages (from aiohttp!=4.0.0a0,!=4.0.0a1->s3fs>=2024.6.1->lightkurve) (25.3.0)\n",
      "Requirement already satisfied: frozenlist>=1.1.1 in c:\\users\\hav3f\\anaconda3\\envs\\astro_transformer\\lib\\site-packages (from aiohttp!=4.0.0a0,!=4.0.0a1->s3fs>=2024.6.1->lightkurve) (1.6.0)\n",
      "Requirement already satisfied: propcache>=0.2.0 in c:\\users\\hav3f\\anaconda3\\envs\\astro_transformer\\lib\\site-packages (from aiohttp!=4.0.0a0,!=4.0.0a1->s3fs>=2024.6.1->lightkurve) (0.3.1)\n",
      "Requirement already satisfied: yarl<2.0,>=1.17.0 in c:\\users\\hav3f\\anaconda3\\envs\\astro_transformer\\lib\\site-packages (from aiohttp!=4.0.0a0,!=4.0.0a1->s3fs>=2024.6.1->lightkurve) (1.20.0)\n",
      "Requirement already satisfied: joblib>=1.2.0 in c:\\users\\hav3f\\anaconda3\\envs\\astro_transformer\\lib\\site-packages (from scikit-learn>=0.24.0->lightkurve) (1.5.0)\n",
      "Requirement already satisfied: threadpoolctl>=3.1.0 in c:\\users\\hav3f\\anaconda3\\envs\\astro_transformer\\lib\\site-packages (from scikit-learn>=0.24.0->lightkurve) (3.6.0)\n",
      "Requirement already satisfied: mpmath<1.4,>=1.1.0 in c:\\users\\hav3f\\anaconda3\\envs\\astro_transformer\\lib\\site-packages (from sympy>=1.13.3->torch) (1.3.0)\n",
      "Requirement already satisfied: colorama in c:\\users\\hav3f\\anaconda3\\envs\\astro_transformer\\lib\\site-packages (from tqdm>=4.25.0->lightkurve) (0.4.6)\n",
      "Requirement already satisfied: more-itertools in c:\\users\\hav3f\\anaconda3\\envs\\astro_transformer\\lib\\site-packages (from jaraco.classes->keyring>=15.0->astroquery>=0.3.10->lightkurve) (10.7.0)\n",
      "Requirement already satisfied: backports.tarfile in c:\\users\\hav3f\\anaconda3\\envs\\astro_transformer\\lib\\site-packages (from jaraco.context->keyring>=15.0->astroquery>=0.3.10->lightkurve) (1.2.0)\n",
      "Note: you may need to restart the kernel to use updated packages.\n",
      "Note: you may need to restart the kernel to use updated packages.\n"
     ]
    }
   ],
   "source": [
    "# Install missing packages\n",
    "%pip install torch lightkurve\n",
    "%pip install -q pyarrow"
   ]
  },
  {
   "cell_type": "code",
   "execution_count": 1,
   "id": "455e0895-292c-4535-9e86-1e21e24e186d",
   "metadata": {},
   "outputs": [
    {
     "name": "stdout",
     "output_type": "stream",
     "text": [
      "Torch: 2.7.0+cpu\n",
      "Lightkurve: 2.5.0\n"
     ]
    }
   ],
   "source": [
    "import torch, lightkurve as lk\n",
    "\n",
    "print(\"Torch:\", torch.__version__)\n",
    "print(\"Lightkurve:\", lk.__version__)"
   ]
  },
  {
   "cell_type": "markdown",
   "id": "b547a524",
   "metadata": {},
   "source": [
    "| Fuente       | Misión | Etiquetado | Tipo         | Método de acceso                   |\n",
    "| ------------ | ------ | ---------- | ------------ | ---------------------------------- |\n",
    "| Kepler EB    | Kepler | Sí         | Binaries     | NASA Exoplanet Archive / Villanova |\n",
    "| K2VARCAT     | K2     | Sí         | Multiclase   | MAST HLSP                          |\n",
    "| TESS-SVC     | TESS   | Semi       | Variabilidad | MAST HLSP                          |\n",
    "| TESS-EB      | TESS   | Sí         | EB continuas | MAST HLSP                          |\n",
    "| VSX (AAVSO)  | Todos  | Sí         | Multiclase   | AAVSO + MAST                       |\n",
    "| Gaia DR3 Var | Todos  | Sí         | Multiclase   | ESA Gaia Archive                   |\n",
    "\n",
    "Diseño del esquema del dataset. Vamos a unificar las curvas descargadas en un dataset estructurado tipo CSV/Parquet con este esquema mínimo:\n",
    "\n",
    "| id\\_mision | id\\_objeto | mision | clase\\_variable | fecha\\_inicio | fecha\\_fin | tiempo | magnitud | error | origen\\_etiqueta |\n",
    "| ---------- | ---------- | ------ | --------------- | ------------- | ---------- | ------ | -------- | ----- | ---------------- |\n",
    "\n",
    "Estrategia de implementación técnica\n",
    "Podemos hacerlo en varias etapas:\n",
    "\n",
    "- Script 1: descarga de curvas etiquetadas de Kepler EB y TESS-EB (usando ID + clase desde CSV original)\n",
    "- Script 2: procesamiento de K2VARCAT (CSV disponible con clase + ID)\n",
    "- Script 3: combinación cruzada entre TIC (TESS Input Catalog) y VSX (requiere posiciones celestes + nombre)\n",
    "- Script 4: cruce de Gaia DR3 variables con coordenadas de Kepler/K2/TESS\n",
    "- Script 5: exportación consolidada en formato CSV/Parquet final con clases normalizadas"
   ]
  },
  {
   "cell_type": "markdown",
   "id": "02dd0a98",
   "metadata": {},
   "source": [
    "# 📥 Descarga y consolidación de curvas EB (entorno local o SageMaker)\n",
    "Esta sección permite ejecutar el script `script_1_eb.py`, ya sea con el catálogo completo (en SageMaker) o con una muestra reducida (en local), y verificar el resultado consolidado.\n"
   ]
  },
  {
   "cell_type": "code",
   "execution_count": null,
   "id": "ab1325ea",
   "metadata": {},
   "outputs": [],
   "source": [
    "# 1) Lanzando el script de ejemplo directamente\n",
    "# !python src/script_1_eb.py\n",
    "\n",
    "import sys, platform\n",
    "from pathlib import Path\n",
    "\n",
    "# Asegurarse de que el directorio 'src' esté en el path de Python\n",
    "src_path = Path(\"src\").resolve()\n",
    "if src_path not in sys.path:\n",
    "    sys.path.append(str(src_path))\n",
    "from src.script_1_eb import main as run_script_1\n",
    "\n",
    "# Detectar entorno y ejecutar el script\n",
    "try:\n",
    "    import sagemaker\n",
    "    is_sagemaker = True\n",
    "except ImportError:\n",
    "    is_sagemaker = False\n",
    "\n",
    "# Ejecutar con la opción adecuada\n",
    "if is_sagemaker:\n",
    "    print(\"🔁 Ejecutando en SageMaker → catálogo completo\")\n",
    "    run_script_1(use_sample=False)\n",
    "else:\n",
    "    print(\"💻 Ejecutando en entorno local → catálogo de prueba\")\n",
    "    run_script_1(use_sample=True)"
   ]
  },
  {
   "cell_type": "code",
   "execution_count": null,
   "id": "2bc04d28",
   "metadata": {},
   "outputs": [],
   "source": [
    "# Cargar y explorar el resultado\n",
    "import pandas as pd\n",
    "\n",
    "dataset_path = Path(\"data/processed/dataset_eb.parquet\")\n",
    "if dataset_path.exists():\n",
    "    df = pd.read_parquet(dataset_path)\n",
    "    display(df.head())\n",
    "\n",
    "    n_estrellas = df[\"id_objeto\"].nunique()\n",
    "    n_filas = df.shape[0]\n",
    "\n",
    "    print(f\"[✓] Número de estrellas descargadas y consolidadas: {n_estrellas}\")\n",
    "    print(f\"[✓] Total de filas (puntos de curva): {n_filas:,}\")\n",
    "\n",
    "    curvas_por_estrella = df[\"id_objeto\"].value_counts()\n",
    "    print(f\"[✓] Curvas por estrella (máx): {curvas_por_estrella.max()}\")\n",
    "\n",
    "    # Conteo por clase (en este caso todas deberían ser 'EB')\n",
    "    print(\"\\n[✓] Recuento por clase_variable:\")\n",
    "    print(df.groupby(\"clase_variable\")[\"id_objeto\"].nunique())\n",
    "\n",
    "else:\n",
    "    print(\"[⚠️] El archivo Parquet no se encontró. ¿Falló la descarga o consolidación?\")"
   ]
  },
  {
   "cell_type": "code",
   "execution_count": null,
   "id": "deb92467",
   "metadata": {},
   "outputs": [],
   "source": [
    "from src.utils.cleanup_raw import cleanup_raw_data\n",
    "\n",
    "# Limpiar los datos de prueba\n",
    "cleanup_raw_data(confirm=True)"
   ]
  }
 ],
 "metadata": {
  "kernelspec": {
   "display_name": "astro_transformer",
   "language": "python",
   "name": "python3"
  },
  "language_info": {
   "codemirror_mode": {
    "name": "ipython",
    "version": 3
   },
   "file_extension": ".py",
   "mimetype": "text/x-python",
   "name": "python",
   "nbconvert_exporter": "python",
   "pygments_lexer": "ipython3",
   "version": "3.11.12"
  }
 },
 "nbformat": 4,
 "nbformat_minor": 5
}
