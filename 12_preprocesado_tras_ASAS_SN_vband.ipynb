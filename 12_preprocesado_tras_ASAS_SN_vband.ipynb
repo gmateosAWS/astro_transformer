{
 "cells": [
  {
   "cell_type": "markdown",
   "id": "155786fb",
   "metadata": {},
   "source": [
    "# 12. Preprocesado tras incorporar ASAS-SN v band al dataset"
   ]
  },
  {
   "cell_type": "code",
   "execution_count": 1,
   "id": "fc0d3598",
   "metadata": {},
   "outputs": [
    {
     "name": "stdout",
     "output_type": "stream",
     "text": [
      "Configuración de entorno aplicada.\n"
     ]
    }
   ],
   "source": [
    "# Configuración general para evitar errores de warnings y compatibilidad\n",
    "import warnings\n",
    "import os\n",
    "warnings.filterwarnings(\"ignore\")\n",
    "os.environ[\"RICH_NO_RICH\"] = \"1\"\n",
    "print(\"Configuración de entorno aplicada.\")"
   ]
  },
  {
   "cell_type": "markdown",
   "id": "3c7f675b",
   "metadata": {},
   "source": [
    "Dentro del script, este es el preprocesado que se hace por cada curva:\n",
    "\n",
    "| Paso                                   | ¿Incluido?    | Descripción                                                               |\n",
    "| -------------------------------------- | ------------- | ------------------------------------------------------------------------- |\n",
    "| Orden temporal                         | ❌ (implícito) | No se fuerza explícitamente `sort_values('tiempo')`, pero puede añadirse. |\n",
    "| Sustitución de `NaN`                   | ✅             | Usa `np.nan_to_num` con la mediana.                                       |\n",
    "| Filtro por longitud mínima             | ✅             | `if len(magnitudes) < MIN_POINTS`                                         |\n",
    "| Filtro por dispersión mínima (`std`)   | ✅             | `if np.std(magnitudes) < MIN_STD`                                         |\n",
    "| Normalización robusta (mediana/IQR)    | ✅             | `(magnitudes - median) / iqr`                                             |\n",
    "| Clip de valores extremos               | ✅             | `np.clip(..., -1000, 1000)`                                               |\n",
    "| Padding y atención mask                | ✅             | Rellena hasta `seq_length`, y genera `attention_mask`                     |\n",
    "| Validación de `nan`/`inf` tras normal. | ✅             | Verifica si hay valores no válidos después de normalizar.                 |\n",
    "| Normalización de clase                 | ✅             | Aplica `normalize_label` a la clase de entrada.                           |\n",
    "\n",
    "¿Qué se podría mejorar?\n",
    "\n",
    "1. **Orden temporal explícito**:\n",
    "   Actualmente **no se aplica `sort_values(\"tiempo\")`** sobre cada curva antes de procesarla. Aunque muchas curvas ya vienen ordenadas, sería más robusto añadir:\n",
    "\n",
    "   ```python\n",
    "   df = df.sort_values(by=find_column(df.columns, \"tiempo\"))\n",
    "   ```\n",
    "\n",
    "   ...como primer paso dentro de `process_single_curve()`.\n",
    "\n",
    "2. **Soporte para features adicionales**:\n",
    "   Ahora solo se usa `mag` (magnitud), pero si en el futuro deseas usar también `flux`, `mag_err`, etc., habría que adaptar esta función o añadir variantes.\n",
    "\n",
    "Como está ahora, los **únicos datos de entrada al modelo** son:\n",
    "\n",
    "* `magnitudes_norm`: vector de `seq_length` elementos (curva preprocesada)\n",
    "* `attention_mask`: vector binario que indica datos válidos\n",
    "* `clase`: etiqueta de clase codificada (para entrenamiento o evaluación)\n",
    "\n",
    "Esto es **lo correcto** para un modelo tipo Transformer que espera curvas de magnitud como secuencia 1D.\n",
    "\n"
   ]
  },
  {
   "cell_type": "code",
   "execution_count": null,
   "id": "7efd19fe",
   "metadata": {},
   "outputs": [
    {
     "name": "stdout",
     "output_type": "stream",
     "text": [
      "📂 Cargando datos en lotes con PyArrow...\n"
     ]
    },
    {
     "name": "stderr",
     "output_type": "stream",
     "text": [
      "Agrupando curvas por objeto: 274742batch [8:11:35,  7.73batch/s]"
     ]
    }
   ],
   "source": [
    "from src.fase2.script_1_transformer_preprocessing_optimizado_2 import main\n",
    "\n",
    "max_per_class_override={\n",
    "    \"Irregular\": 9000,\n",
    "    \"Rotational\": 9000,\n",
    "    \"Eclipsing Binary\": 9000,\n",
    "    \"Delta Scuti\": None,               # 7.550 → TODAS\n",
    "    \"RR Lyrae\": None,                  # 41.208 → TODAS\n",
    "    \"Young Stellar Object\": None,      # 9.809 → TODAS\n",
    "    \"Cataclysmic\": None,               # 2.080 → TODAS\n",
    "    \"White Dwarf\": None,               # 118 → TODAS\n",
    "    \"Variable\": 1000                   # limitada por ser genérica\n",
    "}\n",
    "\n",
    "main(\n",
    "    seq_length=25000,\n",
    "    max_per_class=None, # usamos override completo\n",
    "    max_per_class_override=max_per_class_override\n",
    ")"
   ]
  }
 ],
 "metadata": {
  "kernelspec": {
   "display_name": "astro_transformer",
   "language": "python",
   "name": "python3"
  },
  "language_info": {
   "codemirror_mode": {
    "name": "ipython",
    "version": 3
   },
   "file_extension": ".py",
   "mimetype": "text/x-python",
   "name": "python",
   "nbconvert_exporter": "python",
   "pygments_lexer": "ipython3",
   "version": "3.11.12"
  }
 },
 "nbformat": 4,
 "nbformat_minor": 5
}
