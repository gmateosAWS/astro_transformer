{
 "cells": [
  {
   "cell_type": "markdown",
   "id": "c9a5e165",
   "metadata": {},
   "source": [
    "# Cruce y complementado con Gaia DR3 (Script 4)"
   ]
  },
  {
   "cell_type": "code",
   "execution_count": null,
   "id": "4cea8a64",
   "metadata": {},
   "outputs": [],
   "source": [
    "# Configuración general para evitar errores de warnings y compatibilidad\n",
    "import warnings\n",
    "import os\n",
    "warnings.filterwarnings(\"ignore\")\n",
    "os.environ[\"RICH_NO_RICH\"] = \"1\"\n",
    "print(\"Configuración de entorno aplicada.\")"
   ]
  },
  {
   "cell_type": "code",
   "execution_count": null,
   "id": "bc5a311a",
   "metadata": {},
   "outputs": [],
   "source": [
    "# ...existing code for script_4_gaia_dr3_vsx_tic_crossmatch...\n",
    "import warnings\n",
    "import os, sys\n",
    "import glob\n",
    "from astropy.units import UnitsWarning\n",
    "from pathlib import Path\n",
    "\n",
    "warnings.filterwarnings(\"ignore\", category=UserWarning)\n",
    "warnings.filterwarnings(\"ignore\", category=FutureWarning)\n",
    "warnings.filterwarnings(\"ignore\", category=UnitsWarning)\n",
    "print(\"🔇 Warnings silenciados: UserWarning, FutureWarning\")\n",
    "os.environ[\"RICH_NO_RICH\"] = \"1\"\n",
    "\n",
    "src_path = Path(\"src\").resolve()\n",
    "if src_path not in sys.path:\n",
    "    sys.path.append(str(src_path))\n",
    "from src.fase1.script_4_gaia_dr3_vsx_tic_crossmatch import main as run_gaiadr3\n",
    "\n",
    "try:\n",
    "    import sagemaker\n",
    "    is_sagemaker = True\n",
    "except ImportError:\n",
    "    is_sagemaker = False\n",
    "\n",
    "if is_sagemaker:\n",
    "    print(\"🔁 Ejecutando en SageMaker → catálogo completo\")\n",
    "    run_gaiadr3(limit=None, workers=4)\n",
    "else:\n",
    "    print(\"💻 Ejecutando en entorno local → catalogo completo\")\n",
    "    run_gaiadr3(limit=None, workers=8)"
   ]
  }
 ],
 "metadata": {
  "language_info": {
   "name": "python"
  }
 },
 "nbformat": 4,
 "nbformat_minor": 5
}
