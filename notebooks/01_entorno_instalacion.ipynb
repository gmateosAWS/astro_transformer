{
 "cells": [
  {
   "cell_type": "markdown",
   "id": "2767733f",
   "metadata": {},
   "source": [
    "# Instalación y configuración del entorno\n",
    "\n",
    "Este notebook prepara el entorno base para el proyecto de clasificación automática de estrellas variables."
   ]
  },
  {
   "cell_type": "code",
   "execution_count": null,
   "id": "2f81cb6a",
   "metadata": {},
   "outputs": [],
   "source": [
    "# Configuración general para evitar errores de warnings y compatibilidad\n",
    "import warnings\n",
    "import os\n",
    "warnings.filterwarnings(\"ignore\")\n",
    "os.environ[\"RICH_NO_RICH\"] = \"1\"\n",
    "print(\"Configuración de entorno aplicada.\")"
   ]
  },
  {
   "cell_type": "code",
   "execution_count": null,
   "id": "c824c897",
   "metadata": {},
   "outputs": [],
   "source": [
    "# Install missing packages\n",
    "%pip install torch lightkurve\n",
    "%pip install -q pyarrow"
   ]
  },
  {
   "cell_type": "code",
   "execution_count": null,
   "id": "aab3390c",
   "metadata": {},
   "outputs": [],
   "source": [
    "import torch, lightkurve as lk\n",
    "\n",
    "print(\"Torch:\", torch.__version__)\n",
    "print(\"Lightkurve:\", lk.__version__)"
   ]
  }
 ],
 "metadata": {
  "language_info": {
   "name": "python"
  }
 },
 "nbformat": 4,
 "nbformat_minor": 5
}
