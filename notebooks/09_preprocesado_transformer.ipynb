{
 "cells": [
  {
   "cell_type": "markdown",
   "id": "6cf6f079",
   "metadata": {},
   "source": [
    "# Preprocesamiento para Transformer y guardado de datasets"
   ]
  },
  {
   "cell_type": "code",
   "execution_count": null,
   "id": "2d2173c4",
   "metadata": {},
   "outputs": [],
   "source": [
    "# Configuración general para evitar errores de warnings y compatibilidad\n",
    "import warnings\n",
    "import os\n",
    "warnings.filterwarnings(\"ignore\")\n",
    "os.environ[\"RICH_NO_RICH\"] = \"1\"\n",
    "print(\"Configuración de entorno aplicada.\")"
   ]
  },
  {
   "cell_type": "code",
   "execution_count": null,
   "id": "348fe9bb",
   "metadata": {},
   "outputs": [],
   "source": [
    "import sys\n",
    "import os\n",
    "import torch\n",
    "\n",
    "# ...existing code for transformer_preprocessing_optimizado2..."
   ]
  }
 ],
 "metadata": {
  "language_info": {
   "name": "python"
  }
 },
 "nbformat": 4,
 "nbformat_minor": 5
}
