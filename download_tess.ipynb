{
 "cells": [
  {
   "cell_type": "code",
   "execution_count": 1,
   "id": "542c8b47-9e05-4ea0-8849-4c65562be5ef",
   "metadata": {},
   "outputs": [
    {
     "name": "stdout",
     "output_type": "stream",
     "text": [
      "🔇 Warnings silenciados: UserWarning, FutureWarning\n",
      "📁 Usando RAW_DIR: /home/ec2-user/backup/data/raw\n"
     ]
    },
    {
     "data": {
      "text/html": [
       "<pre style=\"white-space:pre;overflow-x:auto;line-height:normal;font-family:Menlo,'DejaVu Sans Mono',consolas,'Courier New',monospace\"><span style=\"color: #7fbfbf; text-decoration-color: #7fbfbf\">[05/16/25 12:52:48] </span><span style=\"color: #0069ff; text-decoration-color: #0069ff; font-weight: bold\">INFO    </span> Found credentials from IAM Role:                                   <a href=\"file:///home/ec2-user/anaconda3/envs/pytorch_p310/lib/python3.10/site-packages/botocore/credentials.py\" target=\"_blank\"><span style=\"color: #7f7f7f; text-decoration-color: #7f7f7f\">credentials.py</span></a><span style=\"color: #7f7f7f; text-decoration-color: #7f7f7f\">:</span><a href=\"file:///home/ec2-user/anaconda3/envs/pytorch_p310/lib/python3.10/site-packages/botocore/credentials.py#1132\" target=\"_blank\"><span style=\"color: #7f7f7f; text-decoration-color: #7f7f7f\">1132</span></a>\n",
       "<span style=\"color: #7fbfbf; text-decoration-color: #7fbfbf\">                    </span>         BaseNotebookInstanceEc2InstanceRole                                <span style=\"color: #7f7f7f; text-decoration-color: #7f7f7f\">                   </span>\n",
       "</pre>\n"
      ],
      "text/plain": [
       "\u001b[2;36m[05/16/25 12:52:48]\u001b[0m\u001b[2;36m \u001b[0m\u001b[1;38;2;0;105;255mINFO    \u001b[0m Found credentials from IAM Role:                                   \u001b]8;id=186713;file:///home/ec2-user/anaconda3/envs/pytorch_p310/lib/python3.10/site-packages/botocore/credentials.py\u001b\\\u001b[2mcredentials.py\u001b[0m\u001b]8;;\u001b\\\u001b[2m:\u001b[0m\u001b]8;id=859809;file:///home/ec2-user/anaconda3/envs/pytorch_p310/lib/python3.10/site-packages/botocore/credentials.py#1132\u001b\\\u001b[2m1132\u001b[0m\u001b]8;;\u001b\\\n",
       "\u001b[2;36m                    \u001b[0m         BaseNotebookInstanceEc2InstanceRole                                \u001b[2m                   \u001b[0m\n"
      ]
     },
     "metadata": {},
     "output_type": "display_data"
    },
    {
     "name": "stdout",
     "output_type": "stream",
     "text": [
      "sagemaker.config INFO - Not applying SDK defaults from location: /etc/xdg/sagemaker/config.yaml\n",
      "sagemaker.config INFO - Not applying SDK defaults from location: /home/ec2-user/.config/sagemaker/config.yaml\n",
      "🗃️ Curvas ya existentes en disco: 0\n",
      "🔁 Ejecutando en SageMaker → catálogo completo\n",
      "[⬇] Descargando catálogos completos de Kepler y TESS...\n",
      "[⬇] Descargando catálogo Kepler EB...\n",
      "[📂] Cargando catálogo Kepler EB desde copia local...\n",
      "[⬇] Descargando catálogo TESS EB...\n",
      "[⬇] Generando CSV de entrada para descarga de curvas...\n",
      "📝 CSV generado con 0 estrellas → data/lists/eb_ids.csv\n",
      "[⬇] Descargando curvas de luz...\n",
      "\n",
      "🚀 Procesando misión: TESS (only_pending=True)\n",
      "📝 CSV generado con 0 estrellas → data/lists/eb_ids_tess_pendientes.csv\n",
      "[⬇] Descargando 0 curvas en paralelo con 12 hilos...\n"
     ]
    },
    {
     "name": "stderr",
     "output_type": "stream",
     "text": [
      "🚀 Descargando curvas: 0it [00:00, ?it/s]"
     ]
    },
    {
     "name": "stdout",
     "output_type": "stream",
     "text": [
      "\n",
      "\t📦 0 objetos procesados hasta ahora...\n",
      "[✓] Descarga finalizada: 0 objetos procesados.\n",
      "[⭢] Leyendo y fusionando curvas descargadas...\n"
     ]
    },
    {
     "name": "stderr",
     "output_type": "stream",
     "text": [
      "\n"
     ]
    },
    {
     "name": "stdout",
     "output_type": "stream",
     "text": [
      "[📁] Usando 16 lotes ya existentes en /home/ec2-user/temp_batches\n",
      "[⏳] Uniendo todos los lotes en /home/ec2-user/backup/processed/dataset_eb_tess.parquet...\n"
     ]
    },
    {
     "name": "stderr",
     "output_type": "stream",
     "text": [
      "📚 Uniendo lotes: 100%|██████████| 16/16 [03:14<00:00, 12.13s/it]\n"
     ]
    },
    {
     "name": "stdout",
     "output_type": "stream",
     "text": [
      "[✅] Dataset parquet construido → /home/ec2-user/backup/processed/dataset_eb_tess.parquet\n",
      "🧹 Carpeta temporal eliminada: /home/ec2-user/temp_batches\n",
      "[⏱] Tiempo total: 196.25 segundos\n"
     ]
    }
   ],
   "source": [
    "import warnings\n",
    "import os, sys, platform\n",
    "import glob\n",
    "from astropy.units import UnitsWarning\n",
    "from pathlib import Path\n",
    "\n",
    "# Ignorar warnings comunes de librerías externas\n",
    "warnings.filterwarnings(\"ignore\", category=UserWarning)\n",
    "warnings.filterwarnings(\"ignore\", category=FutureWarning)\n",
    "warnings.filterwarnings(\"ignore\", category=UnitsWarning)\n",
    "print(\"🔇 Warnings silenciados: UserWarning, FutureWarning\")\n",
    "# Desactivar Rich para evitar problemas de compatibilidad\n",
    "os.environ[\"RICH_NO_RICH\"] = \"1\"\n",
    "\n",
    "# Asegurar que el directorio 'src' esté en el path de Python\n",
    "src_path = Path(\"src\").resolve()\n",
    "if src_path not in sys.path:\n",
    "    sys.path.append(str(src_path))\n",
    "from src.script_1_eb import main as run_script_1\n",
    "\n",
    "# Detectar entorno local/AWS y ejecutar el script\n",
    "try:\n",
    "    import sagemaker\n",
    "    is_sagemaker = True\n",
    "except ImportError:\n",
    "    is_sagemaker = False\n",
    "\n",
    "#existing = len(glob.glob(\"/home/ec2-user/backup/data/raw/kepler/*.csv\")) + len(glob.glob(\"/home/ec2-user/backup/data/raw/tess/*.csv\"))\n",
    "existing = len(glob.glob(\"/home/ec2-user/backup/data/raw/tess/*.csv\"))\n",
    "print(f\"🗃️ Curvas ya existentes en disco: {existing}\", flush=True)\n",
    "\n",
    "# Ejecutar con la opción adecuada\n",
    "if is_sagemaker:\n",
    "    print(\"🔁 Ejecutando en SageMaker → catálogo completo\")\n",
    "    # Solo TESS, solo pendientes\n",
    "    run_script_1(mission=\"TESS\", only_pending=True, max_workers=12)\n",
    "else:\n",
    "    print(\"💻 Ejecutando en entorno local → catálogo de prueba\")\n",
    "    run_script_1(use_sample=True)\n"
   ]
  },
  {
   "cell_type": "markdown",
   "id": "ce32ec28-e3d4-490d-9b4c-f07ffafe989d",
   "metadata": {},
   "source": [
    "### BACKUPS ANTES DE APAGAR INSTANCIA"
   ]
  },
  {
   "cell_type": "code",
   "execution_count": null,
   "id": "26192858-b55b-4d55-a1f3-0aee26f658e4",
   "metadata": {},
   "outputs": [],
   "source": [
    "import shutil, os\n",
    "from pathlib import Path\n",
    "\n",
    "# Crear carpeta de backup dentro de SageMaker\n",
    "backup_dir = Path.home() / \"SageMaker\" / \"backup\"\n",
    "backup_dir.mkdir(exist_ok=True)\n",
    "print(f\"📁 Carpeta de backup creada en: {backup_dir}\")\n",
    "\n",
    "# 🔁 NUEVO: Copiar curvas desde la nueva ubicación temporal\n",
    "#raw_dir_kepler = Path(\"/home/ec2-user/backup/raw/kepler\")\n",
    "raw_dir_tess = Path(\"/home/ec2-user/backup/raw/tess\")\n",
    "if raw_dir.exists():\n",
    "    #shutil.make_archive(backup_dir / \"curvas_raw_kepler\", \"zip\", raw_dir_kepler)\n",
    "    #print(\"✅ Copiado: curvas en backup/raw/kepler → curvas_raw_kepler.zip\")\n",
    "    shutil.make_archive(backup_dir / \"curvas_raw_tess\", \"zip\", raw_dir_tess)\n",
    "    print(\"✅ Copiado: curvas en backup/raw/tess → curvas_raw_tess.zip\")\n",
    "else:\n",
    "    print(\"⚠️ No se encontró backup/raw\")\n",
    "\n",
    "# Copiar dataset procesado\n",
    "processed_dir = Path(\"SageMaker/astro_transformer/data/processed\")\n",
    "if processed_dir.exists():\n",
    "    for file in processed_dir.glob(\"*.parquet\"):\n",
    "        shutil.copy(file, backup_dir)\n",
    "        print(f\"✅ Copiado: {file.name}\")\n",
    "else:\n",
    "    print(\"⚠️ No se encontró data/processed\")\n",
    "\n",
    "# Copiar log de errores si existe\n",
    "error_log = Path(\"SageMaker/astro_transformer/logs/fallos_descarga.csv\")\n",
    "if error_log.exists():\n",
    "    shutil.copy(error_log, backup_dir)\n",
    "    print(\"✅ Copiado: logs/fallos_descarga.csv\")\n",
    "\n",
    "# Copiar caché de lightkurve si existe\n",
    "lk_cache = Path.home() / \".lightkurve\" / \"cache\"\n",
    "if lk_cache.exists():\n",
    "    shutil.make_archive(backup_dir / \"lightkurve_cache\", \"zip\", lk_cache)\n",
    "    print(\"✅ Copiado: ~/.lightkurve/cache → lightkurve_cache.zip\")\n",
    "\n",
    "print(\"🎉 Backup completado.\")"
   ]
  },
  {
   "cell_type": "code",
   "execution_count": null,
   "id": "71e80c69-a0e2-49e0-844e-058c0bec7784",
   "metadata": {},
   "outputs": [],
   "source": [
    "# Borrar cache de lightcurve\n",
    "!rm -rf ~/.lightkurve/cache/*"
   ]
  }
 ],
 "metadata": {
  "kernelspec": {
   "display_name": "conda_pytorch_p310",
   "language": "python",
   "name": "conda_pytorch_p310"
  },
  "language_info": {
   "codemirror_mode": {
    "name": "ipython",
    "version": 3
   },
   "file_extension": ".py",
   "mimetype": "text/x-python",
   "name": "python",
   "nbconvert_exporter": "python",
   "pygments_lexer": "ipython3",
   "version": "3.10.14"
  }
 },
 "nbformat": 4,
 "nbformat_minor": 5
}
