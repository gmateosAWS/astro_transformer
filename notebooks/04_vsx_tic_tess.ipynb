{
 "cells": [
  {
   "cell_type": "markdown",
   "id": "b89b297d",
   "metadata": {},
   "source": [
    "# Cruce VSX-TIC y descarga de curvas TESS (Script 3)"
   ]
  },
  {
   "cell_type": "code",
   "execution_count": null,
   "id": "62331536",
   "metadata": {},
   "outputs": [],
   "source": [
    "# Configuración general para evitar errores de warnings y compatibilidad\n",
    "import warnings\n",
    "import os\n",
    "warnings.filterwarnings(\"ignore\")\n",
    "os.environ[\"RICH_NO_RICH\"] = \"1\"\n",
    "print(\"Configuración de entorno aplicada.\")"
   ]
  },
  {
   "cell_type": "code",
   "execution_count": null,
   "id": "6eed434b",
   "metadata": {},
   "outputs": [],
   "source": [
    "from src.fase1.script_3a_clean_vsx_classes import main as run_normalization\n",
    "run_normalization()"
   ]
  },
  {
   "cell_type": "code",
   "execution_count": null,
   "id": "d3ca3eb5",
   "metadata": {},
   "outputs": [],
   "source": [
    "# ...existing code for script_3b_download_tess_curves_from_vsx...\n",
    "import warnings\n",
    "import os, sys\n",
    "import glob\n",
    "from astropy.units import UnitsWarning\n",
    "from pathlib import Path\n",
    "\n",
    "warnings.filterwarnings(\"ignore\", category=UserWarning)\n",
    "warnings.filterwarnings(\"ignore\", category=FutureWarning)\n",
    "warnings.filterwarnings(\"ignore\", category=UnitsWarning)\n",
    "print(\"🔇 Warnings silenciados: UserWarning, FutureWarning\")\n",
    "os.environ[\"RICH_NO_RICH\"] = \"1\"\n",
    "\n",
    "src_path = Path(\"src\").resolve()\n",
    "if src_path not in sys.path:\n",
    "    sys.path.append(str(src_path))\n",
    "from src.fase1.script_3b_download_tess_curves_from_vsx import main as run_vsx_tess_download\n",
    "\n",
    "try:\n",
    "    import sagemaker\n",
    "    is_sagemaker = True\n",
    "except ImportError:\n",
    "    is_sagemaker = False\n",
    "\n",
    "if is_sagemaker:\n",
    "    print(\"🔁 Ejecutando en SageMaker → catálogo completo\")\n",
    "    run_vsx_tess_download(limit=None, workers=4)\n",
    "else:\n",
    "    print(\"💻 Ejecutando en entorno local → catálogo completo\")\n",
    "    run_vsx_tess_download(limit=None, workers=8)"
   ]
  },
  {
   "cell_type": "code",
   "execution_count": null,
   "id": "706b2e17",
   "metadata": {},
   "outputs": [],
   "source": [
    "from src.fase1.script_3c_clean_vsx_tess_classes import limpiar_dataset, inspect_and_export_summary\n",
    "\n",
    "path = limpiar_dataset()\n",
    "inspect_and_export_summary(path, output_format=\"csv\")"
   ]
  }
 ],
 "metadata": {
  "language_info": {
   "name": "python"
  }
 },
 "nbformat": 4,
 "nbformat_minor": 5
}
