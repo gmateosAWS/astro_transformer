{
 "cells": [
  {
   "cell_type": "markdown",
   "id": "93bfe722",
   "metadata": {},
   "source": [
    "# Normalización de IDs y unificación de datasets"
   ]
  },
  {
   "cell_type": "code",
   "execution_count": null,
   "id": "842890d1",
   "metadata": {},
   "outputs": [],
   "source": [
    "# Configuración general para evitar errores de warnings y compatibilidad\n",
    "import warnings\n",
    "import os\n",
    "warnings.filterwarnings(\"ignore\")\n",
    "os.environ[\"RICH_NO_RICH\"] = \"1\"\n",
    "print(\"Configuración de entorno aplicada.\")"
   ]
  },
  {
   "cell_type": "code",
   "execution_count": null,
   "id": "6fdd7fb5",
   "metadata": {},
   "outputs": [],
   "source": [
    "%run src/fase1/script_5a_normalize_ids.py --mision kepler\n",
    "%run src/fase1/script_5a_normalize_ids.py --mision tess\n",
    "%run src/fase1/script_5a_normalize_ids.py --mision k2\n",
    "%run src/fase1/script_5a_normalize_ids.py --mision vsx_tess"
   ]
  },
  {
   "cell_type": "code",
   "execution_count": null,
   "id": "22570afa",
   "metadata": {},
   "outputs": [],
   "source": [
    "from pyarrow import dataset as ds\n",
    "import pyarrow.parquet as pq\n",
    "import pyarrow as pa\n",
    "from pathlib import Path\n",
    "\n",
    "# ...existing code for unifying batches..."
   ]
  }
 ],
 "metadata": {
  "language_info": {
   "name": "python"
  }
 },
 "nbformat": 4,
 "nbformat_minor": 5
}
