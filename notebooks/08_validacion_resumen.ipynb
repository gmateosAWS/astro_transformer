{
 "cells": [
  {
   "cell_type": "markdown",
   "id": "3a776044",
   "metadata": {},
   "source": [
    "# Validación y resumen de datasets consolidados"
   ]
  },
  {
   "cell_type": "code",
   "execution_count": null,
   "id": "b33b45cd",
   "metadata": {},
   "outputs": [],
   "source": [
    "# Configuración general para evitar errores de warnings y compatibilidad\n",
    "import warnings\n",
    "import os\n",
    "warnings.filterwarnings(\"ignore\")\n",
    "os.environ[\"RICH_NO_RICH\"] = \"1\"\n",
    "print(\"Configuración de entorno aplicada.\")"
   ]
  },
  {
   "cell_type": "code",
   "execution_count": null,
   "id": "4401038c",
   "metadata": {},
   "outputs": [],
   "source": [
    "%pip install tabulate\n",
    "%run src/utils/inspect_all_parquets.py"
   ]
  },
  {
   "cell_type": "code",
   "execution_count": null,
   "id": "0d26840c",
   "metadata": {},
   "outputs": [],
   "source": [
    "%run src/fase1/script_7_validate_final_dataset.py"
   ]
  }
 ],
 "metadata": {
  "language_info": {
   "name": "python"
  }
 },
 "nbformat": 4,
 "nbformat_minor": 5
}
